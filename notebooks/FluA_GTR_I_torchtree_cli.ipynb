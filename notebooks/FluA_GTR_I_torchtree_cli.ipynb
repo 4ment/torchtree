{
 "cells": [
  {
   "cell_type": "markdown",
   "id": "bb589fea",
   "metadata": {},
   "source": [
    "# Phylogenetic estimation using torchtree CLI\n",
    "\n",
    "> [Amine Remita](https://github.com/maremita), Department of Computer Science, Université du Québec à Montréal\n",
    "\n",
    "This notebook shows an example of using torchtree to generate json file to infer the branch lengths and GTR+I parameters with fixed topology."
   ]
  },
  {
   "cell_type": "code",
   "execution_count": 1,
   "id": "cb79912f",
   "metadata": {},
   "outputs": [],
   "source": [
    "# Uncomment if not included in ipython config\n",
    "# %load_ext autoreload\n",
    "# %autoreload 2"
   ]
  },
  {
   "cell_type": "code",
   "execution_count": 2,
   "id": "e2d93f60",
   "metadata": {},
   "outputs": [],
   "source": [
    "from torchtree import Parameter\n",
    "from torchtree.evolution.alignment import read_fasta_sequences\n",
    "from torchtree.evolution.tree_model import UnRootedTreeModel\n",
    "from torchtree.distributions import Distribution\n",
    "\n",
    "from torchtree.cli.advi import create_meanfield\n",
    "from torchtree.cli.jacobians import create_jacobians\n",
    "\n",
    "from pprint import pprint\n",
    "from json import dump\n",
    "\n",
    "import torch"
   ]
  },
  {
   "cell_type": "code",
   "execution_count": 3,
   "id": "21667180",
   "metadata": {},
   "outputs": [],
   "source": [
    "# The results of this notebook should comparable with those generated using torchtree-cli and torchtree\n",
    "# \n",
    "# torchtree-cli advi -m GTR -C 1 -I -i ../data/fluA.fasta -t ../data/fluA.tree > fluA_gtr_i.json\n",
    "# torchtree fluA_gtr_i.json"
   ]
  },
  {
   "cell_type": "code",
   "execution_count": 4,
   "id": "34814357",
   "metadata": {},
   "outputs": [],
   "source": [
    "# seed = 42\n",
    "# torch.manual_seed(seed)\n",
    "# np.random.seed(seed)"
   ]
  },
  {
   "cell_type": "code",
   "execution_count": 5,
   "id": "9b6f642c",
   "metadata": {},
   "outputs": [],
   "source": [
    "# FluA dataset\n",
    "\n",
    "# Input files\n",
    "newick_file = \"../data/fluA.tree\"\n",
    "fasta_file = \"../data/fluA.fasta\""
   ]
  },
  {
   "cell_type": "code",
   "execution_count": 6,
   "id": "f0d2e0d8",
   "metadata": {},
   "outputs": [],
   "source": [
    "# Output files\n",
    "# TODO it's better to put these files in a separate folder (results/ for example)\n",
    "\n",
    "json_outfile= \"fluA_gtr_i.json\"\n",
    "checkpoint_file = \"fluA_checkpoint.json\"\n",
    "file_sample_name = 'fluA_samples.csv'\n",
    "tree_file_name = 'fluA_samples.trees'"
   ]
  },
  {
   "cell_type": "markdown",
   "id": "9baba0ec",
   "metadata": {},
   "source": [
    "## I. Building alignment and taxa dataset"
   ]
  },
  {
   "cell_type": "code",
   "execution_count": 7,
   "id": "b0797ff4",
   "metadata": {},
   "outputs": [],
   "source": [
    "with open(newick_file, 'r') as fp:\n",
    "    newick = fp.read()\n",
    "    newick = newick.strip()"
   ]
  },
  {
   "cell_type": "code",
   "execution_count": 8,
   "id": "dd1b28ba",
   "metadata": {},
   "outputs": [],
   "source": [
    "## Parse fasta file\n",
    "\n",
    "sequences = read_fasta_sequences(fasta_file)\n",
    "sequence_list = []\n",
    "taxa_list = []\n",
    "\n",
    "for sequence in sequences:\n",
    "    sequence_list.append(\n",
    "        {'taxon': sequence.taxon, 'sequence': sequence.sequence}\n",
    "    )\n",
    "    taxa_list.append({'id': sequence.taxon, 'type': 'Taxon'})"
   ]
  },
  {
   "cell_type": "code",
   "execution_count": 9,
   "id": "d70d2210",
   "metadata": {},
   "outputs": [],
   "source": [
    "## Create taxa dictionary\n",
    "taxa = {'id': \"taxa\", \n",
    "        'type': 'Taxa', \n",
    "        'taxa': taxa_list}\n",
    "\n",
    "nb_blens = len(taxa['taxa']) * 2 - 3"
   ]
  },
  {
   "cell_type": "code",
   "execution_count": 10,
   "id": "c7026419",
   "metadata": {},
   "outputs": [],
   "source": [
    "## Create alignment dictionary\n",
    "alignment = {\n",
    "    'id': \"alignment\",\n",
    "    'type': 'Alignment',\n",
    "    'datatype':{\n",
    "        \"id\": \"data_type\",\n",
    "        \"type\": \"NucleotideDataType\"\n",
    "    },\n",
    "    'taxa': \"taxa\",\n",
    "    \"sequences\":sequence_list\n",
    "}"
   ]
  },
  {
   "cell_type": "markdown",
   "id": "b74641b0",
   "metadata": {},
   "source": [
    "## II. Evolutionary parameters"
   ]
  },
  {
   "cell_type": "code",
   "execution_count": 11,
   "id": "7cd12f09",
   "metadata": {},
   "outputs": [],
   "source": [
    "tree_id = \"tree\""
   ]
  },
  {
   "cell_type": "markdown",
   "id": "defc17fd",
   "metadata": {},
   "source": [
    "#### Initialize branch length parameters"
   ]
  },
  {
   "cell_type": "code",
   "execution_count": 12,
   "id": "89cab55e",
   "metadata": {},
   "outputs": [],
   "source": [
    "branch_lengths = Parameter.json_factory(\n",
    "    f'{tree_id}.blens', \n",
    "    **{'tensor': 0.1, 'full': [nb_blens]}\n",
    ")\n",
    "\n",
    "branch_lengths['lower'] = 0.0"
   ]
  },
  {
   "cell_type": "markdown",
   "id": "026678e2",
   "metadata": {},
   "source": [
    "#### Initialize site model parameter (pinv)"
   ]
  },
  {
   "cell_type": "code",
   "execution_count": 13,
   "id": "7ce42498",
   "metadata": {},
   "outputs": [],
   "source": [
    "site_model_id = \"sitemodel\""
   ]
  },
  {
   "cell_type": "code",
   "execution_count": 14,
   "id": "5d3342d9",
   "metadata": {},
   "outputs": [
    {
     "data": {
      "text/plain": [
       "{'id': 'sitemodel',\n",
       " 'type': 'InvariantSiteModel',\n",
       " 'invariant': {'id': 'sitemodel.pinv',\n",
       "  'type': 'Parameter',\n",
       "  'tensor': [0.1],\n",
       "  'lower': 0,\n",
       "  'upper': 1}}"
      ]
     },
     "execution_count": 14,
     "metadata": {},
     "output_type": "execute_result"
    }
   ],
   "source": [
    "prop = Parameter.json_factory(f'{site_model_id}.pinv', **{'tensor': [0.1]})\n",
    "prop['lower'] = 0\n",
    "prop['upper'] = 1\n",
    "\n",
    "site_model = {\n",
    "    'id': site_model_id, \n",
    "    'type': 'InvariantSiteModel', \n",
    "    'invariant': prop}\n",
    "\n",
    "site_model"
   ]
  },
  {
   "cell_type": "markdown",
   "id": "2ebf81e3",
   "metadata": {},
   "source": [
    "#### Initialize GTR substitution model parameters"
   ]
  },
  {
   "cell_type": "code",
   "execution_count": 15,
   "id": "c753c2a8",
   "metadata": {},
   "outputs": [],
   "source": [
    "subst_model_id = \"substmodel\""
   ]
  },
  {
   "cell_type": "code",
   "execution_count": 16,
   "id": "fda4b9a3",
   "metadata": {},
   "outputs": [],
   "source": [
    "## Rates\n",
    "rates = Parameter.json_factory(\n",
    "    \"{}.rates\".format(subst_model_id), \n",
    "    **{'tensor': 1 / 6, 'full': [6]}\n",
    ")\n",
    "rates['simplex'] = True\n",
    "# rates['transform'] = 'torch.distributions.StickBreakingTransform'"
   ]
  },
  {
   "cell_type": "code",
   "execution_count": 17,
   "id": "67ea902b",
   "metadata": {},
   "outputs": [],
   "source": [
    "## Relative frequencies\n",
    "\n",
    "frequencies = Parameter.json_factory(\n",
    "    \"{}.frequencies\".format(subst_model_id),\n",
    "    **{'tensor': [0.25] * 4}\n",
    ")\n",
    "\n",
    "frequencies['simplex'] = True"
   ]
  },
  {
   "cell_type": "code",
   "execution_count": 18,
   "id": "150b7e56",
   "metadata": {},
   "outputs": [
    {
     "data": {
      "text/plain": [
       "{'id': 'substmodel',\n",
       " 'type': 'GTR',\n",
       " 'rates': {'id': 'substmodel.rates',\n",
       "  'type': 'Parameter',\n",
       "  'full': [6],\n",
       "  'tensor': 0.16666666666666666,\n",
       "  'simplex': True},\n",
       " 'frequencies': {'id': 'substmodel.frequencies',\n",
       "  'type': 'Parameter',\n",
       "  'tensor': [0.25, 0.25, 0.25, 0.25],\n",
       "  'simplex': True}}"
      ]
     },
     "execution_count": 18,
     "metadata": {},
     "output_type": "execute_result"
    }
   ],
   "source": [
    "## The GTR model\n",
    "\n",
    "subst_model = {\n",
    "    'id': subst_model_id, \n",
    "    'type': 'GTR',\n",
    "    \"rates\": rates,\n",
    "    \"frequencies\": frequencies\n",
    "}\n",
    "\n",
    "subst_model"
   ]
  },
  {
   "cell_type": "markdown",
   "id": "f4ff7277",
   "metadata": {},
   "source": [
    "## III. Evolutionary joint distribution (tree likelihood + priors)\n",
    "\n",
    "### 1. Tree Likelihood"
   ]
  },
  {
   "cell_type": "markdown",
   "id": "d286cdc5",
   "metadata": {},
   "source": [
    "#### Initialize tree model"
   ]
  },
  {
   "cell_type": "code",
   "execution_count": 19,
   "id": "8ad4c755",
   "metadata": {
    "scrolled": true
   },
   "outputs": [],
   "source": [
    "tree_model = UnRootedTreeModel.json_factory(\n",
    "    tree_id, newick, branch_lengths, 'taxa')\n",
    "\n",
    "# pprint(tree_model)"
   ]
  },
  {
   "cell_type": "markdown",
   "id": "26d7664c",
   "metadata": {},
   "source": [
    "#### Initialize site pattern model"
   ]
  },
  {
   "cell_type": "code",
   "execution_count": 20,
   "id": "87dc0df0",
   "metadata": {},
   "outputs": [
    {
     "data": {
      "text/plain": [
       "{'id': 'patterns', 'type': 'SitePattern', 'alignment': 'alignment'}"
      ]
     },
     "execution_count": 20,
     "metadata": {},
     "output_type": "execute_result"
    }
   ],
   "source": [
    "site_pattern_id = \"patterns\"\n",
    "\n",
    "site_pattern = {\n",
    "    'id': site_pattern_id, \n",
    "    'type': 'SitePattern', \n",
    "    'alignment': 'alignment'}\n",
    "\n",
    "site_pattern"
   ]
  },
  {
   "cell_type": "markdown",
   "id": "2d15fa93",
   "metadata": {},
   "source": [
    "#### Initialize tree likelihood model"
   ]
  },
  {
   "cell_type": "code",
   "execution_count": 21,
   "id": "f65411cb",
   "metadata": {
    "scrolled": true
   },
   "outputs": [],
   "source": [
    "tree_likelihood = {\n",
    "        'id': 'like',\n",
    "        'type': 'TreeLikelihoodModel',\n",
    "        'tree_model': tree_model,\n",
    "        'site_model': site_model,\n",
    "        'site_pattern': site_pattern,\n",
    "        'substitution_model': subst_model,\n",
    "    }\n",
    "\n",
    "# pprint(tree_likelihood)"
   ]
  },
  {
   "cell_type": "markdown",
   "id": "436f0c28",
   "metadata": {},
   "source": [
    "### 2. Priors"
   ]
  },
  {
   "cell_type": "markdown",
   "id": "26912336",
   "metadata": {},
   "source": [
    "#### Branch lengths *p*()"
   ]
  },
  {
   "cell_type": "code",
   "execution_count": 22,
   "id": "fe0ea59a",
   "metadata": {
    "scrolled": true
   },
   "outputs": [
    {
     "data": {
      "text/plain": [
       "{'id': 'tree.blens.prior',\n",
       " 'type': 'Distribution',\n",
       " 'distribution': 'torch.distributions.Exponential',\n",
       " 'x': 'tree.blens',\n",
       " 'parameters': {'rate': 10.0}}"
      ]
     },
     "execution_count": 22,
     "metadata": {},
     "output_type": "execute_result"
    }
   ],
   "source": [
    "blens_prior = Distribution.json_factory(\n",
    "    f'{tree_id}.blens.prior',\n",
    "    'torch.distributions.Exponential',\n",
    "    f'{tree_id}.blens',\n",
    "    {'rate': 10.0}\n",
    ")\n",
    "\n",
    "blens_prior"
   ]
  },
  {
   "cell_type": "markdown",
   "id": "8a665dc5",
   "metadata": {},
   "source": [
    "#### Invariant probability *p*()"
   ]
  },
  {
   "cell_type": "code",
   "execution_count": 23,
   "id": "0a2e8765",
   "metadata": {
    "scrolled": true
   },
   "outputs": [
    {
     "data": {
      "text/plain": [
       "{'id': 'sitemodel.pinv.prior',\n",
       " 'type': 'Distribution',\n",
       " 'distribution': 'torch.distributions.Exponential',\n",
       " 'x': 'sitemodel.pinv',\n",
       " 'parameters': {'rate': 2.0}}"
      ]
     },
     "execution_count": 23,
     "metadata": {},
     "output_type": "execute_result"
    }
   ],
   "source": [
    "## Remark: torchtree-cli does not add a prior on pinv when using -I\n",
    "\n",
    "site_model_prior = Distribution.json_factory(\n",
    "    f'{site_model_id}.pinv.prior',\n",
    "    'torch.distributions.Exponential',\n",
    "    f'{site_model_id}.pinv',\n",
    "    {'rate': 2.0}\n",
    ")\n",
    "\n",
    "site_model_prior"
   ]
  },
  {
   "cell_type": "markdown",
   "id": "c7161ca2",
   "metadata": {},
   "source": [
    "#### GTR rates *p*()"
   ]
  },
  {
   "cell_type": "code",
   "execution_count": 24,
   "id": "91b9ab1b",
   "metadata": {},
   "outputs": [
    {
     "data": {
      "text/plain": [
       "{'id': 'substmodel.rates.prior',\n",
       " 'type': 'Distribution',\n",
       " 'distribution': 'torch.distributions.Dirichlet',\n",
       " 'x': 'substmodel.rates',\n",
       " 'parameters': {'concentration': [1.0, 1.0, 1.0, 1.0, 1.0, 1.0]}}"
      ]
     },
     "execution_count": 24,
     "metadata": {},
     "output_type": "execute_result"
    }
   ],
   "source": [
    "rates_prior = Distribution.json_factory(\n",
    "    f'{subst_model_id}.rates.prior',\n",
    "    'torch.distributions.Dirichlet',\n",
    "    f'{subst_model_id}.rates',\n",
    "    {'concentration': [1.0] * 6}\n",
    ")\n",
    "\n",
    "rates_prior"
   ]
  },
  {
   "cell_type": "markdown",
   "id": "ef7980de",
   "metadata": {},
   "source": [
    "#### GTR Frequencies *p*()"
   ]
  },
  {
   "cell_type": "code",
   "execution_count": 25,
   "id": "58da1928",
   "metadata": {},
   "outputs": [
    {
     "data": {
      "text/plain": [
       "{'id': 'substmodel.frequencies.prior',\n",
       " 'type': 'Distribution',\n",
       " 'distribution': 'torch.distributions.Dirichlet',\n",
       " 'x': 'substmodel.frequencies',\n",
       " 'parameters': {'concentration': [1.0, 1.0, 1.0, 1.0]}}"
      ]
     },
     "execution_count": 25,
     "metadata": {},
     "output_type": "execute_result"
    }
   ],
   "source": [
    "freqs_prior = Distribution.json_factory(\n",
    "    f'{subst_model_id}.frequencies.prior',\n",
    "    'torch.distributions.Dirichlet',\n",
    "    f'{subst_model_id}.frequencies',\n",
    "    {'concentration': [1.0] * 4}\n",
    ")\n",
    "\n",
    "freqs_prior"
   ]
  },
  {
   "cell_type": "code",
   "execution_count": 26,
   "id": "4f777cd3",
   "metadata": {},
   "outputs": [
    {
     "data": {
      "text/plain": [
       "[{'id': 'tree.blens.prior',\n",
       "  'type': 'Distribution',\n",
       "  'distribution': 'torch.distributions.Exponential',\n",
       "  'x': 'tree.blens',\n",
       "  'parameters': {'rate': 10.0}},\n",
       " {'id': 'sitemodel.pinv.prior',\n",
       "  'type': 'Distribution',\n",
       "  'distribution': 'torch.distributions.Exponential',\n",
       "  'x': 'sitemodel.pinv',\n",
       "  'parameters': {'rate': 2.0}},\n",
       " {'id': 'substmodel.frequencies.prior',\n",
       "  'type': 'Distribution',\n",
       "  'distribution': 'torch.distributions.Dirichlet',\n",
       "  'x': 'substmodel.frequencies',\n",
       "  'parameters': {'concentration': [1.0, 1.0, 1.0, 1.0]}},\n",
       " {'id': 'substmodel.rates.prior',\n",
       "  'type': 'Distribution',\n",
       "  'distribution': 'torch.distributions.Dirichlet',\n",
       "  'x': 'substmodel.rates',\n",
       "  'parameters': {'concentration': [1.0, 1.0, 1.0, 1.0, 1.0, 1.0]}}]"
      ]
     },
     "execution_count": 26,
     "metadata": {},
     "output_type": "execute_result"
    }
   ],
   "source": [
    "prior_joint_list = [blens_prior, site_model_prior, freqs_prior, rates_prior]\n",
    "prior_joint_list"
   ]
  },
  {
   "cell_type": "markdown",
   "id": "13e93ed9",
   "metadata": {},
   "source": [
    "### 3. Evolutionary joint distribution *P*()"
   ]
  },
  {
   "cell_type": "code",
   "execution_count": 27,
   "id": "865e01b0",
   "metadata": {},
   "outputs": [],
   "source": [
    "joint_list = [tree_likelihood] + prior_joint_list\n",
    "\n",
    "joint_dic = {\n",
    "    'id': 'joint',\n",
    "    'type': 'JointDistributionModel',\n",
    "    'distributions': joint_list\n",
    "}"
   ]
  },
  {
   "cell_type": "code",
   "execution_count": 28,
   "id": "9e88d00c",
   "metadata": {},
   "outputs": [
    {
     "data": {
      "text/plain": [
       "[{'id': 'taxa',\n",
       "  'type': 'Taxa',\n",
       "  'taxa': [{'id': 'A_Belgium_2_1981', 'type': 'Taxon'},\n",
       "   {'id': 'A_ChristHospital_231_1982', 'type': 'Taxon'},\n",
       "   {'id': 'A_Philippines_2_1982', 'type': 'Taxon'},\n",
       "   {'id': 'A_Baylor1B_1983', 'type': 'Taxon'},\n",
       "   {'id': 'A_Oita_3_1983', 'type': 'Taxon'},\n",
       "   {'id': 'A_Texas_12764_1983', 'type': 'Taxon'},\n",
       "   {'id': 'A_Alaska_8_1984', 'type': 'Taxon'},\n",
       "   {'id': 'A_Caen_1_1984', 'type': 'Taxon'},\n",
       "   {'id': 'A_Texas_17988_1984', 'type': 'Taxon'},\n",
       "   {'id': 'A_Colorado_2_1987', 'type': 'Taxon'},\n",
       "   {'id': 'A_Guangdong_9_1987', 'type': 'Taxon'},\n",
       "   {'id': 'A_Guizhou_1_1987', 'type': 'Taxon'},\n",
       "   {'id': 'A_LosAngeles_1987', 'type': 'Taxon'},\n",
       "   {'id': 'A_Qingdao_10_1987', 'type': 'Taxon'},\n",
       "   {'id': 'A_Shanghai_11_1987', 'type': 'Taxon'},\n",
       "   {'id': 'A_Sichuan_2_1987', 'type': 'Taxon'},\n",
       "   {'id': 'A_Sydney_1_1987', 'type': 'Taxon'},\n",
       "   {'id': 'A_Tokyo_1275_1987', 'type': 'Taxon'},\n",
       "   {'id': 'A_Victoria_7_1987', 'type': 'Taxon'},\n",
       "   {'id': 'A_Alaska_9_1992', 'type': 'Taxon'},\n",
       "   {'id': 'A_Beijing_32_1992', 'type': 'Taxon'},\n",
       "   {'id': 'A_California_271_1992', 'type': 'Taxon'},\n",
       "   {'id': 'A_Finland_205_1992', 'type': 'Taxon'},\n",
       "   {'id': 'A_Harbin_15_1992', 'type': 'Taxon'},\n",
       "   {'id': 'A_Hawaii_3_1992', 'type': 'Taxon'},\n",
       "   {'id': 'A_Indonesia_3946_1992', 'type': 'Taxon'},\n",
       "   {'id': 'A_Perth_1_1992', 'type': 'Taxon'},\n",
       "   {'id': 'A_Qingdao_53_1992', 'type': 'Taxon'},\n",
       "   {'id': 'A_Sapporo_304_1992', 'type': 'Taxon'},\n",
       "   {'id': 'A_SouthAustralia_36_1992', 'type': 'Taxon'},\n",
       "   {'id': 'A_Tianjin_33_1992', 'type': 'Taxon'},\n",
       "   {'id': 'A_Umea_1_1992', 'type': 'Taxon'},\n",
       "   {'id': 'A_Victoria_29_1992', 'type': 'Taxon'},\n",
       "   {'id': 'A_Wellington_66_1992', 'type': 'Taxon'},\n",
       "   {'id': 'A_Aichi_69_1994', 'type': 'Taxon'},\n",
       "   {'id': 'A_Akita_1_1994', 'type': 'Taxon'},\n",
       "   {'id': 'A_Argentina_3779_1994', 'type': 'Taxon'},\n",
       "   {'id': 'A_England_67_1994', 'type': 'Taxon'},\n",
       "   {'id': 'A_France_1109_1994', 'type': 'Taxon'},\n",
       "   {'id': 'A_HongKong_1_1994', 'type': 'Taxon'},\n",
       "   {'id': 'A_Johannesburg_33_1994', 'type': 'Taxon'},\n",
       "   {'id': 'A_Mexico_3255_1994', 'type': 'Taxon'},\n",
       "   {'id': 'A_Pennsylvania_7_1994', 'type': 'Taxon'},\n",
       "   {'id': 'A_Romania_160_1994', 'type': 'Taxon'},\n",
       "   {'id': 'A_Santiago_7198_1994', 'type': 'Taxon'},\n",
       "   {'id': 'A_Shangdong_5_1994', 'type': 'Taxon'},\n",
       "   {'id': 'A_Singapore_7_1994', 'type': 'Taxon'},\n",
       "   {'id': 'A_Thailand_75_1994', 'type': 'Taxon'},\n",
       "   {'id': 'A_Vermont_3_1994', 'type': 'Taxon'},\n",
       "   {'id': 'A_Athens_1_1998', 'type': 'Taxon'},\n",
       "   {'id': 'A_Christchurch_45_1998', 'type': 'Taxon'},\n",
       "   {'id': 'A_Cordoba_V185_1998', 'type': 'Taxon'},\n",
       "   {'id': 'A_Greece_103_1998', 'type': 'Taxon'},\n",
       "   {'id': 'A_JOHANNESBURG_3_1998', 'type': 'Taxon'},\n",
       "   {'id': 'A_MALMO_1_1998', 'type': 'Taxon'},\n",
       "   {'id': 'A_Nagasaki_76_1998', 'type': 'Taxon'},\n",
       "   {'id': 'A_Neuquen_V541_1998', 'type': 'Taxon'},\n",
       "   {'id': 'A_PERTH_24_1998', 'type': 'Taxon'},\n",
       "   {'id': 'A_Pusan_68_1998', 'type': 'Taxon'},\n",
       "   {'id': 'A_Seoul_37_1998', 'type': 'Taxon'},\n",
       "   {'id': 'A_Switzerland_7729_1998', 'type': 'Taxon'},\n",
       "   {'id': 'A_Tucuman_V425_1998', 'type': 'Taxon'},\n",
       "   {'id': 'A_Ushuaia_R127_1998', 'type': 'Taxon'},\n",
       "   {'id': 'A_Waikato_12_1998', 'type': 'Taxon'},\n",
       "   {'id': 'A_Czechoslovakia_4_1986', 'type': 'Taxon'},\n",
       "   {'id': 'A_Leningrad_360_1986', 'type': 'Taxon'},\n",
       "   {'id': 'A_Memphis_6_1986', 'type': 'Taxon'},\n",
       "   {'id': 'A_Wellington_4_1985', 'type': 'Taxon'},\n",
       "   {'id': 'A_Tonga_23_1985', 'type': 'Taxon'}]},\n",
       " {'id': 'alignment',\n",
       "  'type': 'Alignment',\n",
       "  'datatype': {'id': 'data_type', 'type': 'NucleotideDataType'},\n",
       "  'taxa': 'taxa',\n",
       "  'sequences': [{'taxon': 'A_Belgium_2_1981',\n",
       "    'sequence': 'CAAAAACTTCCCGGAAATGACAACAGCACAGCAACGCTGTGCCTGGGACACCATGCAGTGCCAAACGGAACGCTAGTGAAAACAATCACGAATGATCAGATTGAAGTGACTAATGCTACTGAGCTGGTTCAGAGTTCCTCAACAGGTAGAATATGCGACAGTCCTCATCGGATCCTTGATGGGAAAAACTGCACACTGGTAGATGCTCTATTGGGAGACCCTCATTGTGATGGCTTTCAAAATGAGAAATGGGACCTTTTTGTTGAACGCAGCAAAGCTTTCAGCAACTGTTACCCTTATGATGTGCCAGATTATGCCTCCCTTAGGTCACTAGTTGCCTCGTCAGGCACCCTGGAGTTTATCAATGAAAGCTTCAATTGGACTGGAGTCACTCAGAGTGGGGGAAGCTATGCTTGCAAAAGGGGATCTGATAAAAGTTTCTTCAGTAGACTGAATTGGTTGTACGAATCAGAAAGCAGATATCCAGTGCTGAACGTGACTATGCCAAACAATGGCAATTTTGACAAACTGTACATTTGGGGGGTTCACCACCCGAGCACGGACAAAGAACAAACCAACCTATATGTTCGAGCATCAGGGAGAGTCACAGTCTCTACCAAGAGAAGCCAGCAAACTATAATCCCGAATATCGGGTCTAGACCCTGGGTAAGGGGTCTGTCTAGCAGAATAAGCATCTATTGGACAATAGTAAAACCGGGAGACATACTGTTAATTAATAGTAATGGGAACCTAATTGCTCCTCGGGGTTACTTCAAAATGCGCACTGGGAAAAGCTCAATAATGAGGTCAGATGCACCTATTGGCACCTGCAGTTCTGAATGCATCACTCCAAATGGAAGCATTCCCAATGACAAGCCCTTTCAAAATGTAAACAAGATCACATATGGGGCATGTCCCAAGTATGTTAAGCAAAACACTCTGAAGTTGGCAACAGGGATGCGGAATGTACCAGAGAAACAAACTAGA'},\n",
       "   {'taxon': 'A_ChristHospital_231_1982',\n",
       "    'sequence': 'CAAAACCTTCCCGGAAATGACAACAGCACAGCAACGCTGTGCCTGGGACACCATGCAGTGCCAAACGGAACGCTAGTGAAAACAATCACGAATGATCAGATTGAAGTGACTAATGCTACTGAGCTGGTTCAGAGTTCCTCAACAGGTAAAATATGCGGCAGTCCTCACCGAATCCTTGATGGGAAAAACTGCACACTGGTAGATGCTCTATTGGGAGACCCTCATTGTGATGGCTCTCAAAATGAGAAATGGGACCTTTTTGTTGAACGCAGCAAAGCTTTCAGCAACTGTTACCCTTATGATGTGCCAGATTATGCCTCCCTTAGGTCACTAGTTGCCTCGTCAGGCACCCTGGAGTTTATCAATGAAAGCTTCAATTGGACTGGAGTCACTCAGAGTGGGGGAAGCTATGCTTGCAAAAGGGGATCTGATAACAGTTTCTTCAGTAGACTGAATTGGTTGTATGAATCAGAAAGCAAATATCCAGTGCTGAACGTGACTATGCCAAACAATGGCAATTTTGACAAACTGTACATTTGGGGGGTTCACCACCCGAGCACGGACAAAGAACAAACCAAACTATATGTTCGAGCATCAGGGAGAGTCACAGTCTCTACCAAGAGAAACCAGCAAACTGTAATCCCGAATATCGGGTCTAGACCCTGGGTAAGGGGTCTGTCTAGCAGAATAAGCATCTATTGGACAATAGTAAAACCGGGAGACATACTGCTAATTAATAGTAATGGGAACCTAATTGCTCCTCGGGGTTACTTCAAAATACGCAATGGGAAAAGCTCAATAATGAGGTCAGATGCACCTATTGGCACCTGCAGTTCTGAATGCATCACTCCAAATGGAAGCATTCCCAATGACAAGCCCTTTCAAAATGTAAACAAGATCACATATGGGGCATGTCCCAAGTATGTTAAGCAAAACACTCTGAAGTTGGCAACAGGGATGCGGAATGTACCAGAAAAACAAACTAGA'},\n",
       "   {'taxon': 'A_Philippines_2_1982',\n",
       "    'sequence': 'CAAAACCTTCCCGGAAATGACAACAGCACAGCAACGCTGTGCCTGGGACATCATGCAGTGCCAAACGGAACGCTAGTGAAAACAATCACGAATGATCAGATTGAAGTGACTAATGCTACTGAGCTGGTTCAGAGTTCCTCAACAGGTAGGATATGCGACAGTCCTCACCGAATCCTTGATGGGAAAAACTGCACACTGATAGATGCTCTATTGGGAGACCCTCATTGTGATGGCTTCCAAAATGAGAAATGGGACCTTTTTGTTGAACGCAGCAAAGCTTTCAGCAACTGTTACCCTTATGATGTGCCAGATTATGCCTCCCTTAGGTCACTAGTTGCCTCATCAGGCACCCTGGAGTTTATCAATGAAGGCTTCAATTGGACTGGAGTCACTCAGAGTGGGGGAAGCTATACTTGCAAAAGGGGATCTAATAACAGTTTCTTCAGTAGACTGAACTGGTTGTACGAATCAGAAAGCAAATATCCAGTGCTGAACGTGACTATGCCAAACAATGGCAAATTTGACAAATTGTACATTTGGGGGATTCACCACCCGAGCACGGACAAAGAACAAACCAACCTATATATTCGAGCATCAGGGAGAGTCACAGTCTCTACCAAGAGAAGCCAGCAAACTGTAATCCCGAATATCGGGTCTAGACCCTGGGTAAGGGGTCTGTCTAGTAGAATAAGTATCTATTGGACAATAGTAAAACCGGGAGACATACTGTTAATTAATAGCACTGGGAACCTAATTGCTCCTCGGGGTTACTTCAAAATACGCACTGGGAAAAGCTCAATAATGAGGTCAGATGCACCTATTGGCACCTGCAGTTCTGAATGCATCACTCCAAATGGAAGCATTCCCAATGACAAGCCCTTTCAAAACGTAAACAAGATCACATATGGGGCATGTCCCAGGTATGTTAAGCAAAACACTCTGAAGTTGGCAACAGGGATGCGGAATGTACCAGAGAAACAAACTAGA'},\n",
       "   {'taxon': 'A_Baylor1B_1983',\n",
       "    'sequence': 'CAAAACCTTCCCGGAAATGACAACAGCACAGCAACGCTGTGCCTGGGACACCATGCAGTGCCAAACGGAACGCTAGTGAAAACAATCACGAATGATCAGATTGAAGTGACTAATGCTACTGAGCTGGTTCAGAGTTCCTCAACAGGTAGAATATGCGACAGTCCTCACCGAATCCTTGATGGGAAAAACTGCACACTGGTAGATGCTCTATTGGGAGACCCTCATTGTGATGGCTTTCAAAATGAGAAATGGGACCTTTTTATTGAACGCAGCAAAGCTTTCAGCAACTGTTACCCTTATGATGTGCCAGATTATGCCTCCCTTAGGTCACTAGTTGCCTCGTCAGGCACCCTGGAGTTTATCAATGAAGGCTTCAATTGGACTGGAGTCACTCAGAGTGGGGGAAGCTATGCTTGCAAAAGGGGATCTGATAACAGTTTCTTCAGTAGACTGAATTGGTTGTACGAATCAGAAAGCAAATATCCAGTGCTGAACGTGACTATGCCAAACAATGGCAATTTTGACAAACTGTACATTTGGGGGGTTCACCACCCGAGCACGGACAAAGAACAAACCAACCTATATGTTCGAGCATCAGGGAGAGTCACAGTCTCTACCAAGAGAAACCAGCAAACTGTAATCCCGAATATCGGGTCTAGACCCTGGGTAAGGGGTCTGTCTAGCAGAATAAGCATCTATTGGACAATAGTAAAACCGGGAGACATACTGCTAATTAATAGTAATGGGAACCTAATTGCTCCTCGGGGTTACTTCAAAATACGCACTGGGAAAAGCTCAATAATGAGGTCAGATGCACCTATTGGCACCTGCAGTTCTGAATGCATCACTCCAAATGGAAGCATTCCCAATGACAAGCCCTTTCAAAATGTAAACAAGATCACATATGGGACATGTCCTAAATACGTTAAGCAAAACACTCTGAAGTTGGCAACAGGGATGCGGAATGTACCAGAGAAACAAACTAGA'},\n",
       "   {'taxon': 'A_Oita_3_1983',\n",
       "    'sequence': 'CAAAAACTTCCCGGAAATGACAACAGCACAGCAACGCTGTGCCTGGGACATCATGCAGTGCCAAACGGAACGCTAGTGAAAACAATCACGAATGATCAGATTGAAGTGACTAATGCTACTGAGCTGGTTCAGAGTTCCTCAACAGGTAGAATATGCGACAGTCCTCACCGAATCCTTGATGGGAAAAACTGCACACTGATAGATGCTCTATTGGGAGACCCTCATTGTGATGGCTTCCAAAATGAGAAATGGGACCTTTTTGTTGAACGCAGCAAAGCTTTCAGCAACTGTTACCCTTATGATGTGCCGGATTATGCCTCCCTTAGGTCACTAGTTGCCTCATCAGGCACCCTGGAGTTTATCAATGAAGGCTTCAATTGGACTGGAGTCACTCAGAGTGGGGGAAGCTATGCTTGCAAAAGGGGATCTGTTAACAGTTTCTTCAGTAGATTGAATTGGTTGTACAAATCAGAAAGCAAATATCCAGTGCTGAACGTGACTATGCCAAACAATGGCAAATTTGACAAATTGTACATTTGGGGGGTTCACCACCCGAGCACGGACAAAGAACAAACCAACCTATATGTTCGAGCATCAGGGAGAGTCACAGTCTCTACCAAGAGAAGCCAGCAAACTGTAATCCCGAATATCGGGTCTAGACCCTGGGTAAGGGGTCTGTCTAGCAGAATAAGTATCTATTGGACAATAGTAAAACCGGGAGACATACTGTTAATTAATAGCACTGGGAACCTAATTGCTCCTCGGGGTTACTTCAAAATACGCACTGGGAAAAGCTCAATAATGAGGTCAGATGCACCTATTGGCACCTGCAGTTCTGAATGCATCACTCCAAATGGAAGCATTCCCAATGACAAACCCTTTCAAAATGTAAACAAGATCACATATGGGGCATGTCCCAGGTATGTTAAGCAAAACACTCTGAAGTTGGCAACAGGGATGCGGAATGTACCAGAGAAACAAACTAGA'},\n",
       "   {'taxon': 'A_Texas_12764_1983',\n",
       "    'sequence': 'CAAAACCTTCCCGGAAATGACAACAGCACAGCAACGCTGTGCCTGGGACACCATGCAGTGCCAAACGGAACGCTAGTGAAAACAATCACGAATGATCAGATTGAAGTGACTAATGCTACTGAGCTGGTTCAGAGTTCCTCAACAGGTAGAATATGCGACAGTCCTCACCGAATCCTTGATGGAAAAAACTGCACACTGATAGATGCTCTATTGGGAGACCCTCATTGTGATGGCTTCCAAAATGAGAAATGGGACCTTTTTGTTGAACGCAGCAAAGCTTTCAGCAACTGTTACCCTTATGATGTGCCGGATTATGCCTCCCTTAGGTCACTAGTTGCCTCATCAGGCACCCTGGAGTTTATCAATGAAGGCTTCAATTGGACTGGAGTCACTCAGAGTGGGGGAAGCTATGCTTGCAAAAGGGGATCTGTTAACAGTTTCTTCAGTAGATTGAATTGGTTGTACGAATCAGAAAGCAAATATCCAGCGCTGAACGTGACTATGCCAAACAATGGCAAATTTGACAAATTGTACATTTGGGGGGTTCACCACCCGAGCACGGACAAAGAACAAACCAACCTATATGTTCGAGCATCAGGGAGAGTCACAGTCTCTACCAAGAGAAGCCAGCAAACTGTAATCCCGAATATCGGGTCTAGACCCTGGGTAAGGGGTCTGTCTAGTAGAATAAGCATCTATTGGACAATAGTAAAACCGGGAGACATACTGTTGATTAATAGCACTGGGAACCTAATTGCTCCTCGGGGTTACTTCAAAATACGCACTGGGAAAAGCTCAATAATGAGGTCAGATGCACCTATTGGCACCTGCAGTTCTGAATGCATCACTCCAAATGGAAGCATTCCCAATGACAAACCCTTTCAAAATGTAAACAAGATTACATATGGGGCATGTCCCAGGTATGTTAAACAAAACACTCTGAAATTGGCAACAGGGATGCGGAATGTACCAGAGAAACAAACTAGA'},\n",
       "   {'taxon': 'A_Alaska_8_1984',\n",
       "    'sequence': '---AAACTTCCCGGAAATGACAACAGCACAGCAACGCTGTGCCTGGGACATCATGCAGTACCAAACGGAACGCTAGTGAAAACAATCACGAATGATCAGATTGAAGTGACTAATGCTACTGAGCTGGTTCAGAGTTCCTCAACAGGTAGAATATGCGACAGTCCTCACCGAATCCTTGATGGAAAAAACTGCACACTGATAGATGCTCTATTGGGAGACCCTCATTGTGATGGCTTCCAAAATGAGAAATGGGACCTTTTTGTTGAACGCAGCAAAGCTTTCAGCAACTGTTACCCTTATGATGTGCCGGATTATGCCTCCCTTAGGTCACTAGTTGCCTCATCAGGCACCCTGGAGTTTATCAATGAAGGCTTCAATTGGACTGGAGTCACTCAGAGTGGGGGAAGCTATGCTTGCAAAAGGGGATCTGTTAACAGTTTCTTCAGTAGATTGAATTGGTTGTACGAGTCAGAAAGCAAATATCCAGCGCTGAACGTGACTATGCCAAACAATGGCAAATTTGACAAATTGTACATTTGGGGGGTTCACCACCCGATCACGGACAAAGAACAAACCAACCTATATGTTCGAGCATCAGGGAGAGTCACAGTCTCTACCAAGAGAAGCCAGCAAACTGTAATCCCGAATATCGGGCCTAGACCCTGGGTAAGGGGTCTGTCTAGTAGAATAAGTATCTATTGGACAATAGTAAAACCGGGAGACATACTGTTAATTAATAGCACTGGGAACCTAATTGCTCCTCGGGGTTACTTCAAAATACGCACTGGGAAAAGCTCAATAATGAGGTCAGATGCACCTATTGGCACCTGCAGTTCTGAATGCATCACTCCAAATGGAAGCATTCCCAATGACAAACCCTTTCAAAATGTAAACAAGATCACATATGGGGCATGTCCCAGGTATGTTAAGCAAAACACTCTGAAGTTGGCAACAGGGATGCGGAATGTACCTGAGAAACAAACTAGA'},\n",
       "   {'taxon': 'A_Caen_1_1984',\n",
       "    'sequence': 'CAAAAACTTCCCGGAAATGACAACAGCACAGCAACGCTGTGCCTGGGACATCATGCAGTGCCAAACGGAACGCTAGTGAAAACAATCACGAATGATCAGATTGAAGTGACTAATGCTACTGAGCTGGTTCAGAGTTCCTCAACAGGTAGAATATGCGACAGTCCTCACCGAATCCTTGATGGGAAAAACTGCACACTGATAGATGCTCTATTGGGAGACCCTCATTGTGATGGCTTCCAAAATGAGAAATGGGACCTTTTTGTTGAACGCAGCAAAGCTTACAGCAACTGTTACCCTTATGATGTGCCGGATTATGCCTCCCTTAGGTCACTAGTTGCCTCATCAGGCACCCTGGAGTTTATCAACGAAGGCTTCAATTGGACTGGAGTCACTCAGAGTGGGGGAAGCTATGCTTGCAAAAGGGGATCTGTTAACAGTTTCTTCAGTAGATTGAATTGGTTGTACAAATCAGAAAGCAAATATCCAGTGCTGAACGTGACTATGCCAAACAATGGCAAATTTGACAAATTGTACATTTGGGGGGTTCACCACCCGAGCACGGACAAAGAACAAACCAACCTATATGTTCGAGCATCAGGGAGAGTCACAGTCTCTACCAAGAGAAGCCAGCAAACTGTAATCCCGAATATCGGGTCTAGACCCTGGGTAAGGGGTCTGTCTAGTAGAATAAGTATCTATTGGACAATAGTAAAACCGGGAGACATACTGTTAATTAATAGCACTGGGAACCTAATTGCTCCTCGGGGTTACTTCAAAATACGCACTGGGAAAAGCTCAATAATGAGGTCAGATGCACCTATTGGCACCTGCAGTTATGAATGCATCACTCCAAATGGAAGCATTCCCAATGACAAACCCTTTCAAAATGTAAACAAGATCACATATGGGGCATGTCCCAGGTATGTTAAGCAAAACACTCTGAAGTTGGCAACAGGGATGCGGAATGTACCAGAGAAACAAACTAGA'},\n",
       "   {'taxon': 'A_Texas_17988_1984',\n",
       "    'sequence': 'CAAAAACTTCCCGGAAATGACAACAGCACAGCAACGCTGTGCCTGGGACATCATGCAGTGCCAAACGGAACGCTAGTGAAAACAATCACGAATGATCAGATTGAAGTGACTAATGCTACTGAGCTGGTTCAGAGCTCTTCAACAGGTAGAATATGCGACAGTCCTCACCGAATCCTTGATGGGAAAAACTGCACACTGATAGATGCTCTATTGGGAGACCCTCATTGTGATGGCTTCCAAAATGAGAAATGGGACCTTTTTGTTGAACGCAGCAAAGCTTTCAGCAACTGTTACCCTTATGATGTGCCGGATTATGTCTCCCTTAGGTCACTAGTTGCCTCATCAGGCACCCTGGAATTTACCAATGAAGGCTTCAATTGGACTGGAGTCACTCAGAGTGGGGGAAGCTATGCTTGCAAAAGGGGATCTGTTAACAGTTTCTTCAGTAGATTGAATTGGTTGTACGAATCAGAAAGCAAATATCCAGTGCTGAACGTGAGTATGCCAAACAATGGCAAATTAGACAAATTGTACATTTGGGGGGTTCACCACCCGAGCACGGACAAAGTACAAACCAACCTATATGTTCGAGCATCAGGGAGAGTCACAGTCTCTACCAAGAGAAGCCAGCAAACTGTAATCCCGAATATCGGGTCTAGACCCTGGGTAAGGGGTCTGTCTAGTAGAATAAGTATCTATTGGACAATAGTAAAACCGGGAGACATACTGTTAATTAATAGCACTGGGAACCTAATTGCTCCTCGGGGTTACTTCAAAATACGCACTGGGAAAAGCTCAATAATGAGGTCAGATGCACCTATTGGCACCTGCAGTTCTGAATGCATCACTCCGAATGGAAGCATTCCCAATGACAAACCCTTTCAAAATGTAAACAAGATCACATATGGGGCATGTCCCAGGTATGTTAAGCAAAACACTCTGAAGTTGGCAACAGGGATGCGGAATGTACCAGAGAAACAAACTAGA'},\n",
       "   {'taxon': 'A_Colorado_2_1987',\n",
       "    'sequence': 'CAAAAACTTCCTGGAAATGACAACAGCACAGCAACGCTGTGCCTGGGACATCATGCAGTGCCAAACGGAACGCTAGTGAAAACAATCACGAATGATCAGATTGAAGTGACTAATGCTACTGAGCTGGTTCAGAGTTCCTCAACAGGTAGAATATGCGACAGTCCTCACCGAATCCTTGATGGAAAAAACTGCACTCTGATAGATGCTCTATTGGGAGACCCTCATTGTGATGGCTTCCAAAATGAGAAATGGGACCTTTTTGTTGAACGCAGCAAAGCTTACAGCAACTGTTACCCTTATGATGTGCCGGATTATGCCTCCCTTAGGTCACTAGTTGCCTCATCAGGCACCCTGGAGTTTATCAATGAAGACTTCAATTGGACTGGAGTCACTCAGAGTGGGGGAAGCTATGCTTGCAAAAGGGGATCTGTTAACAGTTTCTTCAGTAGATTGAATTGGTTGCACGTATCAGAATACAAATATCCAGCGCTGAACGTGACTATGCCAAACAATGGCAAATTTGACAAATTGTACATTTGGGGGGTTCACCACCCGAGCACGGACAGAGAACAAACCAAACTATATGTTCGAGCATCAGGAAGAGTCACAGTCTCTACCAAGAGAAGCCAGCAAACTGTAATCCCGAATATCGGGTCTAGACCCTGGGTAAGGGGTCTGTCTAGTAGAATAAGCATCTATTGGACAATAGTAAAACCGGGAGACATACTGTTGATTAATAGCACCGGGAACCTAATTGCTCCTCGGGGTTACTTCAAAATACGCACTGGGAAAAGCTCAATAATGAGGTCAGATGCACCTATTGGCACCTGCAGTTCTGAATGCATCACTCCAAATGGAAGCATTCCCAATGACAAACCCTTTCAAAATGTAAACAAGATCACATATGGGGCATGTCCCAGGTATGTTAAGCAAAACACTCTGAAATTGGCAACAGGGATGCGGAATGTACCAGAGAAACAAACTAGA'},\n",
       "   {'taxon': 'A_Guangdong_9_1987',\n",
       "    'sequence': 'CAAAAACTTCCCGGAAATGACAACAGCACAGCAACGCTGTGCCTGGGACATCATGCAGTGCCAAACGGAACGCTAGTGAAAACAATCACGAATGATCAGATTGAAGTGACTAATGCTACTGAGCTGGTTCAGAGTTCCTCAACAGGTAGAATATGCGACAGTCCTCACCGAATCCTTGATGGAAAAAACTGCACACTGATAGATGCTCTATTGGGAGACCCTCATTGTGATGGCTTCCAAAATGAGAAATGGGACCTTTTTGTTGAACGCAGCAAAGCTTACAGCAACTGTTACCCTTATGATGTGCCGGATTATGCCTCCCTTAGGTCACTAGTTGCCTCATCAGGCACCCTGGAGTTTATCAATGAAGACTTCAATTGGACTGGAGTCACTCAGAGTGGGGGAAGCTATGCTTGCAAAAGGGGATCTGTTAACAGTTTCTTCAGTAGATTGAATTGGTTGCACAAATCAGAATACAAATATCCAGCGCTGAACGTGACTATGCCAAACAATGGCAAATTTGACAAATTGTACATTTGGGGGGTTCACCACCCGGTCACGGACAGAGAACAAACCAACCTATATGTTCGAGCATCAGGGAGAGTCACAGTCTCTACCAAGAGAAGCCAGCAAACTGTAATCCCGAATATCGGGTCTAGACCCTGGGTAAGGGGTCTGTCTAGTAGAATAAGCATCTATTGGACAATAGTAAAACCGGGAGACATACTGTTGATTAATAGCACCGGGAACCTAATTGCTCCTCGGGGTTACTTCAAAATACGCACTGGGAAAAGCTCAATAATGAGGTCAGATGCACCTATTGGCACCTGCAGTTCTGAATGCATCACTCCAAATGGAAGCATTCCCAATGACAAACCCTTTCAAAATGTAAACAAGATCACATATGGGGCATGTCCCAGATATGTTAAGCAAAACACTCTGAAATTGGCAACAGGGATGCGGAATGTACCAGAGAAACAAACTAGA'},\n",
       "   {'taxon': 'A_Guizhou_1_1987',\n",
       "    'sequence': 'CAAAAACTTCCCGGAAATGACAACAGCACAGCAACGCTGTGCCTGGGACATCATGCAGTGCCAAACGGAACGCTAGTGAAAACAATCACGAATGATCAGATTGAAGTGACTAATGCTACTGAGCTGGTCCAGAGTTCCTCAACAGGTAGAATATGCGACAGTCCTCACCGAATCCTTGATGGAAAAAACTGCACACTGATAGATGCTCTATTGGGAGACCCTCATTGTGATGGCTTCCAAAATGAGAAATGGGACCTTTTTGTTGAACGCAGCAAAGCTTACAGCAACTGTTACCCTTATGATGTGCCGGATTATGCCTCCCTTAGGTCACTAGTTGCCTCATCAGGCACCCTGGAGTTTATCAATGAAGACTTCAATTGGACTGGAGTCACTCAGGGTGGGGGAAGCTATTCTTGCAAAAGGGGATCTGTTAACAGTTTCTTCAGTAGATTGAATTGGTTGCACGAATCAGAATGCAAATATCCAGCGCTGAACGTGACTATGCCAAACAATGGCAAATTTGACAAATTGTACATTTGGGGGGTTCACCACCCGAGCACGGACAGAGAACAAACCAACCTATATGTTCGAGCATCAGGGAGAGTCACAGTCTCTACCAAGAGAAGCCAGCAAGCTGTAATCCCGAATATCGGGTCTAGACCCTGGGTAAGGGGTCTGTCTAGTAGAATAAGCATCTATTGGACAATAGTAAAACCGGGAGACATACTGTTGATTAATAGCACCGGGAACCTAATTGCTCCTCGGGGTTACTTCAAAATACGCACTGGGAAAAGCTCAATAATGAGGTCAGATGCACCTATTGGCACCTGCAGTTCTGAATGCATCACTCCAAATGGAAGCATTCCCAATGACAAACCCTTTCAAAATGTAAACAAGATCACATATGGGGCATGTCCCAGGTATGTTAAGCAAAACACTCTGAAATTGGCAACAGGGATGCGGAATGTACCAGAGAAACAAACTAGA'},\n",
       "   {'taxon': 'A_LosAngeles_1987',\n",
       "    'sequence': 'CAAAAACTTCCCGGAAATGACAACAGCACAGCAACGCTGTGCCTGGGACATCATGCAGTGCCAAACGGAACGCTAGTGAAAACAATCACGAATGATCAGATTGAAGTGACTAATGCTACTGAGCTGGTTCAGAGTTCCTCAACAGGTAGAATATGCGACAGTCCTCACCGAATCCTTGATGGAAAAAACTGCACACTGATAGATGCTCTATTGGGAGACCCTCATTGTGATGGCTTCCAAAATGAGAAATGGGACCTTTTTGTTGAACGCAGCAAAGCTTACAGCAACTGTTACCCTTATGATGTGCCGGATTATGCCTCCCTTAGGTCACTAGTTGCCTCATCAGGCACCCTGGAGTTTATCAATGAAGACTTCAATTGGACTGGAGTCACTCAGAGTGGGGGAAGCTATGCTTGCAAAAGGGGATCTGTTAACAGTTTCTTCAGTAGATTGAATTGGTTGCACGAATCAGAATACAAATATCCAGCGCTGAACGTGACTATGCCAAACAATGGCAAATTTGACAAATTGTACATTTGGGGGGTTCACCACCCGATCACGGACAGAGAACAAACCAACCTATATGTTCGAGCATCAGGGAGAGTCACAGTCTCTACCAAGAGAAGCCAGCAAACTGTAATCCCGAATATCGGGTCTAGACCCTGGGTAAGGGGTCTGTCTAGTAGAATAAGCATCTATTGGACAATAGTAAAACCGGGAGACATACTGTTGATTAATAGCACCGGGAACCTAATTGCTCCTCGGGGTTACTTCAAAATACGCACTGGGAAAAGCTCAATAATGAGGTCAGATGCACCTATTGGCACCTGCAGTTCTGAATGCATCACTCCAAATGGAAGCATTCCCAATGACAAACCCTTTCAAAATGTAAACAAGATCACATATGGGGCATGTCCCAGGTATGTTAAGCAAAACACTCTGAAATTGGCAACAGGGATGCGGAATGTACCAGAGAAACAAACTAGA'},\n",
       "   {'taxon': 'A_Qingdao_10_1987',\n",
       "    'sequence': 'CAAAAACTTCCCGGAAATGACAACAGCACAGCAACGCTGTGCCTGGGACATCATGCAGTGCCAAACGGAACGCTAGTGAAAACAATCACGAATGATCAGATTGAAGTGACTAATGCTACTGAGCTGGTTCAGAGTTCCTCAACAGGTAGAATATGCGACAGTCCTCACCGAATCCTTGATGGAAAAAACTGCACACTGATAGATGCTCTATTGGGAGACCCTCATTGTGATGGCTTCCAAAATGAGAAATGGGACCTTTTTGTTGAACGCAGCAAAGCTTACAGCAACTGTTACCCTTATGATGTGCCGGATTATGCCTCCCTTAGGTCACTAGTTGCCTCATCAGGCACCCTGGAGTTTATCAATGAAGACTTCAATTGGACTGGAGTCACTCAGAGTGGGGGAAGCTATTCTTGCAAAAGGGGATCTGTTAACAGTTTCTTCAGTAGATTGAATTGGTTGCACGAATCAGAATACAAATATCCAGCGCTGAACGTGACTATGCCAAACAATGGCAAATTTGACAAATTGTACATTTGGGGGGTTCACCACCCGAGCACGGACAGAGAACAAACCAACCTATATGTTCGAGCATCAGGGAGAGTCACAGTCTCTACCAAGAGAAGCCAGCAAACTGTAATCCCGAATATCGGGTCTAGACCCTGGGTAAGGGGTCTGTCTAGTAGAATAAGCATCTATTGGACAATAGTAAAACCGGGAGACATACTGTTGATTAATAGCACCGGGAACCTAATTGCTCCTCGGGGTTACTTCAAAATACGCACTGGGAAAAGCTCAATAATGAGGTCAGATGCACCTATTGGCACCTGCAGTTCTGAATGCATCACTCCAAATGGAAGCATTCCCAATGACAAACCCTTTCAAAATGTAAACAAGATCACATATGGGGCATGCCCCAGGTATGTTAAGCAAAACACTCTGAAATTGGCAACAGGGATGCGGAATGTACCAGAGAAACAAACTAGA'},\n",
       "   {'taxon': 'A_Shanghai_11_1987',\n",
       "    'sequence': 'CAAAAACTTCCCGGAAATGACAACAGCACAGCAACGCTGTGCCTGGGACATCATGCAGTGCCAAACGGAACGCTAGTGAAAACAATCACGAATGATCAGATTGAAGTGACTAATGCTACTGAGCTGGTTCAGAGTTCCTCAACAGGTAGAATATGCGACAGTCCTCACCGAATCCTTGATGGAAAAAACTGCACACTGATAGATGCTCTATTGGGAGACCCTCATTGTGATGGCTTCCAAAATGAGAAATGGGACCTTTTTGTTGAACGCAGCAAAGCTTACAGCAACTGTTACCCTTATGATGTGCCGGATTATGCCTCCCTTAGGTCACTAGTTGCCTCATCAGGCACCCTGGAGTTTATCAATGAAGACTTCAATTGGACTGGAGTCACTCAGAGTGGGGGAAGCTATGCTTGCAAAAGGGGATCTGTTAACAGTTTCTTCAGTAGATTGAATTGGTTGCACGAATCAGAATACAAATATCCAGCGCTGAACGTGACTATGCCAAACAATGGCAAATTTGACAAATTGTACATTTGGGGGGTTCACCACCCGAGCACGGACAGAGAACAAACCAACCTATATGTTCGAGCATCAGGGAGAGTCACAGTCTCTACCAAGAGAAGCCAGCAAACTGTAATCCCGAATATCGGGTCTAGACCCTGGGTAAGGGGTCTGTCTAGTAGAATAAGCATCTATTGGACAATAGTAAAACCGGGAGACATACTGTTGATTAATAGAACCGGGAACCTAATTGCTCCTCGGGGTTACTTCAAAATACGCACTGGGAAAAGCTCAATAATGAGGTCAGATGCACCTATTGGCACCTGCAGTTCTGAATGCATCACTCCAAATGGAAGCATTCCCAATGACAAACCCTTTCAAAATGTAAACAAGATCACATATGGGGCATGTCCCAGGTATGTTAAGCAAAACACTCTGAAATTGGCAACAGGGATGCGGAATGTACCAGAGAAACAAACTAGA'},\n",
       "   {'taxon': 'A_Sichuan_2_1987',\n",
       "    'sequence': 'CAAAAACTTCCCGGAAATGACAACAGCACAGCAACGCTGTGCCTGGGACATCATGCAGTGCCAAACGGAACGCTAGTGAAAACAATCACGAATGATCAGATTGAAGTGACTAATGCTACTGAGCTGGTTCAGAGTTCCTCAACAGGTAGAATATGCGACAGTCCTCACCGAATCCTTGATGGAAAAAACTGCACACTGATAGATGCTCTATTGGGAGACCCTCATTGTGATGGCTTCCAAAATGAGAAATGGGACCTTTTTGTTGAACGCAGCAAAGCTTACAGCAACTGTTACCCTTATGATGTGCCGGATTATGCCTCCCTTAGGTCACTAGTTGCCTCATCAGGCACCCTGGAGTTTATCAATGAAGACTTCAATTGGACTGGAGTCACTCAGAGTGGGGGAAGCTATGCTTGCAAAAGGGGATCTGTTAACAGTTTCTTCAGTAGATTGAATTGGTTGCACAAATCAGAATACAAATATCCAGCGCTGAACGTGACTATGCCAAACAATGGCAAATTTGACAAATTGTACATTTGGGGGGTTCACCACCCGGTCACGGACAGAGAACAAACCAACCTATATGTTCGAGCATCAGGGAGAGTCACAGTCTCTACCAAGAGAAGCCAGCAAACTGTAATCCCGAATATCGGGTCTAGACCCTGGGTAAGGGGTCTGTCCAGTAGAATAAGCATCTATTGGACAATAGTAAAACCGGGAGACATACTGTTGATTAATAGCACCGGGAACCTAATTGCTCCTCGGGGTTACTTCAAAATACGCACTGGGAAAAGCTCAATAATGAGGTCAGATGCACCTATTGGCACCTGCAGTTCTGAATGCATCACTCCAAATGGAAGCATTCCCAATGACAAACCCTTTCAAAATGTAAACAAGATCACATATGGGGCATGTCCCAGATATGTTAAGCAAAACACTCTGAAATTGGCAACAGGGATGCGGAATGTACCAGAGAAACAAACTAGA'},\n",
       "   {'taxon': 'A_Sydney_1_1987',\n",
       "    'sequence': 'CAAAAACTTCCCGGAAATGACAACAGCACAGCAACGCTGTGCCTGGGACATCATGCAGTGCCAAACGGAACGCTAGTGAAAACAATCACGAATGATCAGATTGAAGTGACTAATGCTACTGAGCTGGTTCAGAGTTCCTCAACAGGTAGAATATGCGACAGTCCTCACCGAATCCTTGATGGAAAAAACTGCACACTGATAGATGCTCTATTGGGAGACCCTCATTGTGATGGCTTCCAAAATGAGAAATGGGACCTTTTTGTTGAACGCAGCAAGGCTTACAGCAACTGTTACCCTTATGATGTGCCGGATTATGCCTCCCTTAGGTCACTAGTTGCCTCATCAGGCACCCTGGAGTTTATCAATGAAGACTTCAATTGGACTGGAGTCACTCAGAGTGGGGGAAGCTATTCTTGCAAAAGGGGATCTGTTAACAGTTTCTTCAGTAGATTGAATTGGTTGCACGAATCAGAATACAAATATCCAGCGCTGAACGTGACTATGCCAAACAATGGCAAATTTGACAAATTGTACATTTGGGGGGTTCACCACCCGAGCACGGACAGAGAACAAACCAAACTATATGTTCGAGCATCAGGGAGAGTCACAGTCTCTACCAAGAGAAGCCAGCAAACTGTAATCCCGAATATCGGGTCTAGACCCTGGGTAAGGGGTCTGTCCAGTAGAATAAGCATCTATTGGACAATAGTAAAACCGGGAGACATACTGTTGATTAATAGCACCGGGAACCTAATTGCTCCTCGGGGTTACTTCAAAATACGCACTGGGAAAAGCTCAATAATGAGGTCAGATGCACCTATTGGCACCTGCAGTTCTGAATGCATCACTCCAAATGGAAGCATTCCCAATGACAAACCCTTTCAAAATGTAAACAAGATCACATATGGGGCATGTCCCAGATATGTTAAGCAAAACACTCTGAAATTGGCAACAGGGATGCGGAATGTACCAGAGAAACAAACTAGA'},\n",
       "   {'taxon': 'A_Tokyo_1275_1987',\n",
       "    'sequence': 'CAAAAACTTCCCGGAAATGACAACAGCACAGCAACGCTGTGCCTGGGACATCATGCAGTGCCAAACGGAACGCTAGTGAAAACAATCACGAATGATCAGATTGAAGTGACTAATGCTACTGAGCTGGTTCAGAGTTCCTCAACAGGTATAATATGCGACAGTCCTCACCGAATCCTTGATGGAAAAAACTGCACACTGATAGATGCTCTATTGGGAGACCCTCATTGTGATGGCTTCCAAAATGAGAAATGGGACCTTTTTGTTGAACGCAGCAAGGCTTACAGCAACTGTTACCCTTATGATGTGCCGGATTATGCCTCCCTTAGGTCACTAGTTGCCTCATCAGGCACCCTGGAGTTTATCAATGAAGACTTCAATTGGACTGGAGTCACTCAGAGTGGGGGAAGCTATACTTGCAAAAGGGGATCTGTTAACAGTTTCTTCAGTAGATTGAATTGGTTGCACGAATCAGAATACAAATATCCAGCGCTGAACGTGACTATGCCAAACAATGGCAAATCTGACAAATTGTACATTTGGGGGGTTCACCACCCGAGCACTGACAGAGAACAAACCAACCTATATGTTCGAGCATCAGGGAGAGTCACAGTCTCTACCAAGAGAAGCCAGCAAACTGTAATCCCGAATATCGGGTCTAGACCCTGGGTAAGGGGTCTGTCTAGTAGAATAAGCATCTATTGGACAATAGTAAAACCGGGAGACATACTGTTGATTAATAGCACCGGGAACCTAATTGCTCCTCGAGGTTACTTCAAAATACGCACTGGGAAAAGCTCAATAATGAGGTCAGATGCACCTATTGGCACCTGCAGTTCTGAATGCATCACTCCAAATGGAAGCATTCCCAATGACAAACCCTTTCAAAATGTAAACAAGATCACATATGGGGCATGTCCCAGATATGTTAAGCAAAACACTCTGAAATTGGCAACAGGGATGCGGAATGTACCAGAGAAACAAACTAGA'},\n",
       "   {'taxon': 'A_Victoria_7_1987',\n",
       "    'sequence': 'CAAAAACTTCCCGGAAATGACAACAGCACAGCAACGCTGTGCCTGGGACATCATGCAGTGCCAAACGGAACGCTAGTGAAAACAATCACGAATGATCAGATTGAAGTGACTAATGCTACTGAGCTGGTTCAGAGTTCCTCAACAGGTAGAATATGCGACAGTCCTCACCGAATCCTTGATGGAAAAAACTGCACACTGATAGATGCTCTATTGGGAGACCCTCATTGTGATGGCTTCCAAAATGAGAAATGGGACCTTTTTGTTGAACGCAGCAAAGCTTACAGCAACTGTTACCCTTATGATGTGCCGGATTATGCCTCCCTTAGGTCACTAGTTGCCTCATCAGGCACCCTGGAGTTTATCAATGAAGACTTCAATTGGACTGGAGTCACTCAGAGTGGGGGAAGCTATGCTTGCAAAAGGGGATCTGTTAACAGTTTCTTCAGTAGATTGAATTGGTTGCACGAATCAGAATACAAATATCCAGCGCTGAACGTGACTATGCCAAACAATGGCAAATTTGACAAATTGTACATTTGGGGGGTTCACCACCCGAGCACGGACAGAGAACAAACCAACCTATATGTTCGAGCATCAGGGAGAGTCACAGTCTCTACCAAGAGAAGCCAGCAAACTGTAATTCCGAATATCGGGTCTAGACCCTGGGTAAGGGGTCTGTCCAGTAGAATAAGCATCTATTGGACAATAGTAAAACCGGGAGACATACTGTTGATTAATAGCACCGGGAACCTAATTGCTCCTCGGGGTTACTTCAAAATACGCACTGGGAAAAGCTCAATAATGAGGTCAGATGCACCTATTGGCACCTGCAGTTCTGAATGCATCACTCCAAATGGAAGCATTCCCAATGACAAACCCTTTCAAAATGTAAACAAGATCACATATGGGGCATGTCCCAGGTATGTTAAGCAAAACACTCTGAAATTGGCAACAGGGATGCGGAATGTACCAGAGAAACAAACTAGA'},\n",
       "   {'taxon': 'A_Alaska_9_1992',\n",
       "    'sequence': 'CAAAAACTTCCCGGAAATGACAACAGCACAGCAACGCTGTGCCTGGGACATCATGCAGTGCCAAACGGAACGCTAGTGAAAACAATCACGAATGATCAAATTGAAGTGACTAATGCTACTGAGCTGGTTCAGAGTTCCTCAACAGGTAGAATATGCGACAGTCCTCACCAAATCCTTGATGGAAAAAACTGCACACTGATAGATGCTCTATTGGGAGACCCTCATTGTGATGGCTTCCAAAATAAGGAATGGGACCTTTTTGTTGAACGCAGCAAAGCTTACAGCAACTGTTACCCTTATGATGTGCCGGATTATGCCTCCCTTAGGTCACTAGTTGCCTCATCAGGCACCCTGGAGTTTATCAATGAAGACTTCAATTGGACTGGAGTCGCTCAGGATGGGGGAAGCTATTCTTGCAAAAGGGGATCTGTTAACAGTTTCTTTAGTAGATTGAATTGGTTGCACAAATCAGAATACAAATATCCAGCGCTGAACGTGACTATGCCAAACAATGGCAAATTTGACAAATTGTACATTTGGGGGGTTCACCACCCGAGCACGGACAGTGACCAAACCAGCCTATATGTTCGAGCATCAGGGAGAGTCACAGTCTCTACCAAAAGAAGCCAACAAACTGTAACCCCGAATATCGGGTCTAGACCCTGGGTAAGGGGTCTGTCCAGTAGAATAAGCATCTATTGGACAATAGTAAAACCGGGAGACATACTTTTGATTAATAGCACAGGGAATCTAATTGCTCCTCGGGGTTACTTCAAAATACGAAATGGGAAAAGCTCAATAATGAGGTCAGATGCACCCATTGGCACCTGCAGTTCTGAATGCATCACTCCAAATGGAAGCATTCCCAATGACAAACCTTTTCAAAATGTAAACAGGATCACATATGGGGCCTGCCCCAGATATGTTAAGCAAAACACTCTGAAATTGGCAACAGGGATGCGGAATGTACCAGAGAAACAAACTAGA'},\n",
       "   {'taxon': 'A_Beijing_32_1992',\n",
       "    'sequence': 'CAAAAACTTCCCGGAAATGACAACAGCACAGCAACGCTGTGCTTGGGACATCATGCAGTGCCAAACGGAACGCTAGTGAAAACAATCACGAATGATCAAATTGAAGTGACTAATGCTACTGAGCTGGTTCAGAGTTCCTCAACAGGTAGAATATGCGACAGTCCTCACCGAATCCTTGATGGAAAAAACTGCACACTGATAGATGCTCTATTGGGAGACCCTCATTGTGATGGCTTCCAAAATAAGGAATGGGACCTTTTTGTTGAACGCAGCAAAGCTTACAGCAACTGTTACCCTTATGATGTGCCGGATTATGCCTCCCTTAGGTCACTAGTTGCCTCATCAGGCACCCTGGAGTTTATCAATGAAGACTTCAATTGGACTGGAGTCGCTCAGGATGGGGGAAGCTATGCTTGCAAAAGGGGATCTGTTAACAGTTTCTTTAGTAGATTGAATTGGTTGCACAAATCAGAATACAAATATCCAGCGCTGAACGTGACTATGCCAAACAATGGCAAATTTGACAAATTGTACATTTGGGGGGTTCACCACCCGAGCACGGACAGAGACCAAACCAGCCTATATGTTCGAGCATCAGGGAGAGTCACAGTCTCTACCAAAAGAAGCCAACAAACTGTAACCCCGAATATCGGGTCTAGACCCTGGGTAAGGGGTCAGTCCAGTAGAATAAGCATCTATTGGACAATAGTAAAACCGGGAGACATACTTTTGATTAATAGCACAGGGAATCTAATTGCTCCTCGGGGTTACTTCAAAATACGAAATGGGAAAAGCTCAATAATGAGGTCAGATGCACCCATTGGCACCTGCAGTTCTGAATGCATCACTCCAAATGGAAGCATTCCCAATGACAAACCTTTTCAAAATGTAAACAGGATCACATATGGGGCCTGCCCCAGATATGTTAAGCAAAACACTCTGAAATTGGCAACAGGGATGCGGAATGTACCAGAGAAACAAACTAGA'},\n",
       "   {'taxon': 'A_California_271_1992',\n",
       "    'sequence': 'CAAAAACTTCCCGGAAATGACAACAGCACAGCAACGCTGTGCCTGGGACATCATGCAGTGCCAAACGGAACGCTAGTGAAAACAATCACGAATGATCAAATTGAAGTGACTAATGCTACTGAGCTGGTTCAGAGTTCCTCAACAGGTAGAATATGCGACAGTCCTCACCGAATCCTTGATGGAAAAAACTGCACACTGATAGATGCTCTATTGGGAGACCCTCATTGTGATGGCTTCCAAAATAAGGAATGGGACCTTTTTGTTGAACGCAGCAAAGCTTACAGCAACTGTTACCCTTATGATGTGCCGGATTATGCCTCCCTTAGGTCACTAGTTGCCTCATCAGGCACCCTGGAGTTTATCAATGAAGACTTCAATTGGACTGGAGTCGCTCAGGATGGGGGAAGCTATGCTTGCAAAAGGGGATCTGTTAACAGTTTCTTCAGTAGATTGAATTGGTTGCACAAATCAGAATACAAATATCCAGCGCTGAACGTGACTATGCCAAACAATGGCAAATTTGACAAATTGTACATTTGGGGGGTTCACCACCCGAGTACGGACAGTGACCAAACCAGCCTATATGTTCGAGCATCAGGGAGAGTCACAGTCTCTACCAAAAGAAGCCAACAAACTGTAACCCCGAATATCGGGTCTAGACCCTGGGTAAGGGGTCTGTCCAGTAGAATAAGCATCTATTGGACAATAGTAAAACCGGGAGACATACTTTTGATTAATAGCACAGGAAATCTAATTGCTCCTCGGGGTTACTTCAAAATACGAAATGGGAAAAGCTCAATAATGAGGTCAGATGCACCCATTGGCACCTGCAGTTTTGAATGCATCACTCCAAATGGAAGCATTCCCAATGACAAACCTTTTCAAAATGTAAACAGGATCACATATGGGGCCTGCCCCAGATATGTTAAGCAAAACACTCTGAAATTGGCAACAGGGATGCGGAATGTACCAGAGAAACAAACTAGA'},\n",
       "   {'taxon': 'A_Finland_205_1992',\n",
       "    'sequence': 'CAAAAACTTCCCGGAAATGACAACAGCACAGCAACGCTGTGCCTGGGACATCATGCAGTGCCAAACGGAACGCTAGTGAGAACAATCACGAATGATCAAATTGAAGTGACTAATGCTACTGAGCTGGTTCAGAGTTCCTCAACAGGTAGAATATGTGACAGTCCTCACCGAATCCTTGATGGAAAAAATTGCACACTGATAGATGCTCTATTGGGAGACCCTCATTGTGATGGCTTCCAAAATAAGGAATGGGACCTTTTTGTTGAACGCAGCAAAGCTTACAGCAACTGTTACCCTTATGATGTGCCGGATTATGCCTCCCTTAGGTCACTAGTTGCCTCATCAGGCACCCTGGAGTTTACCAATGAAGACTTCAATTGGACTGGAGTCGCTCAGAGTGGGGAAAGCTATGCTTGCAAAAGGGGATCTGTTAAAAGTTTCTTTAGTAGATTGAATTGGTTGCACRAATCAGATTACAAATATCCAGCGCTGAACGTGACTATGCCAAACAATGGCAAATTTGACAAATTGTACATTTGGGGGGTTCACCACCCGAGCACGGACAGAGAACAAACCAGCCTATATGTTCGAGCATCAGGGAGAGTCACAGTCTCCACCAAAAGAAGCCAACAAACTGTGATCCCGAATATCGGGTCCAGACCCTGGGTAAGGGGTCTGTCCAGTAGAATAAGCATCTATTGGACAATAGTGAAACCGGGAGACATACTTTTGATTAATAGCACCGGGAACCTAATTGCTCCTCGGGGTTACTTCAAAATACGAACTGGGAAAAGCTCGATAATGAGATCAGATGCACCCATTGGCACCTGCAGTTCTGAATGCATCACTCCAAATGGAAGCATTCCCAATGACAAACCCTTTCAAAACGTAAACAGGATCACATATGGGGCATGTCCCAGATATGTTAAGCAAAACACTCTGAAATTGGCAACAGGGATGCGGAATGTACCAGAGAAACAAACT---'},\n",
       "   {'taxon': 'A_Harbin_15_1992',\n",
       "    'sequence': 'CAAAAACTTCCCGGAAATGACAACAGCACAGCAACGCTGTGCCTGGGACATCATGCAGTGCCAAACGGAACGCTAGTGAAAACAATCACGAATGATCAGATTGAAGTGACTAATGCTACTGAGCTGGTACAGAGTTCCTCAACAGGTAGAATATGCGACAGTCCTCACCGAATCCTTGATGGAAAAAACTGCACACTGATAGATGCTCTATTGGGAGACCCTCATTGTGATGGCTTCCAAAATAAGGAATGGGACCTTTTTGTTGAACGCAGCAAAGCTTACAGCAACTGTTACCCTTATGATGTGCCGGATTATGCCTCCCTTAGGTCACTAGTTGCCTCATCAGGCACCCTGGAGTTTATCAATGAAGACTTCAATTGGACTGGAGTCGCTCAGGATGGGGGAAGCTATGCTTGCAAAAGGGGATCTGTTAACAGTTTCTTTAGTAGATTGAATTGGTTGCACAAATTAGAATACAAATATCCAGCGCTGAACGTGACTATGCCAAACAATGGCAAATTTGACAAATTGTACATTTGGGGGGTTCACCACCCGAGCACGGACAGTGACCAAACCAGCCTATATGTTCGAGCATCAGGGAGAGTCACAGTCTCTACCAAAAGAAGCCAACAAACTGTAATCCCGAATATCGGGTCTAGACCCTGGGTAAGGGGTCAGTCCAGTAGAATAAGCATCTATTGGACAATAGTAAAACCGGGAGACATACTTTTGATTAATAGCACAGGGAATCTAATTGCTCCTCGGGGTTACTTCAAAATACGAAATGGGAAAAGCTCAATAATGAGATCAGATGCACCCATTGGCAACTGCAGTTCTGAATGCATCACTCCAAATGGAAGCATTCCCAATGACAAACCTTTTCAAAATGTAAACAGGATCACATATGGGGCCTGCCCCAGATATGTTAAGCAAAACACTCTGAAATTGGCAACAGGGATGCGGAATGTACCAGAGAAACAAACTAGA'},\n",
       "   {'taxon': 'A_Hawaii_3_1992',\n",
       "    'sequence': 'CAAAAACTTCCCGGAAATGACAACAGCACAGCAACGCTGTGCCTGGGACATCATGCAGTGCCAAACGGAACGCTAGTGAAAACAATCACGAATGATCAAATTGAAGTGACTAATGCTACTGAGCTGGTTCAGAGTTCCTCAACAGGTAGAATATGCGACAGTCCTCACCGAATCCTTGATGGAAAAAACTGCACACTGATAGATGCCCTATTGGGAGACCCTCATTGTGATGGCTTCCAAAATAAGGAATGGGACCTTTTTGTTGAACGCAGCAAAGCTTACAGCAACTGTTACCCTTATGATGTGCCGGATTATGCCTCCCTTAGGTCACTAGTTGCCTCATCAGGCACCCTGGAGTTTATCAATGAAGACTTCAATTGGACTGGAGTCGCTCAGGATGGGGGAAGCTATGCTTGCAAAAGGGGATCTGTTAACAGTTTCTTTAGTAGATTGAATTGGTTGCACAAATCAGAATACAAATATCCAGCGCTAAACGTGACTATGCCAAACAATGGCAAATTTGACAAATTGTACATTTGGGGGGTTCACCACCCGAGCACGGACAGTGACCAAACCAGCCTATATGTTCGAGCATCAGGGAGAGTCACAGTCTCTACCAAAAGAAGCCAACAAACTGTAACCCCGAATATCGGGTCTAGACCCTGGGTAAGGGGTCTGTCCAGTAGAATAAGCATCTATTGGACAATAGTAAAACCGGGAGACATACTTTTGATTAATAGCACAGGGAATCTAATTGCTCCTCGGGGTTACTTCAAAATACGAAATGGGAAAAGCTCAATAATGAGGTCAGATGCACCCATTGGCACCTGCAGTTCTGAATGCATCACTCCAAATGGAAGCATTCCCAATGACAAACCTTTTCAAAATGTAAACAGGATCACATATGGGGCCTGCCCCAGATATGTTAAGCAAAACACTCTGAAATTGGCAACAGGGATGCGGAATGTACCAGAGAAACAAACTAGA'},\n",
       "   {'taxon': 'A_Indonesia_3946_1992',\n",
       "    'sequence': 'CAAAAACTTCCCGGAAATGACAACAGCACAGCAACGCTGTGCCTGGGGCATCATGCAGTGCCAAACGGAACTCTAGTGAAAACAATCACGAATGATCAAATTGAAGTGACTAATGCTACTGAGCTGGTTCAGAGTTCCTCAACAGGTAGAATATGCGACAGTCCTCACCGAATCCTCGATGGAAAAAACTGCACACTGATAGATGCTCTATTGGGAGACCCTCATTGTGATGACTTCCAAAATAAGGAATGGGACCTTTTTGTTGAACGCAGCAAAGCTTACAGCAATTGTTACCCTTATGATGTGCCAGATTATGCCTCCCTTAGGTCACTAGTTGCCTCATCAGGCACCCTGGAGTTTATCAATGAAGACTTCAATTGGACTGGAGTCGCTCAGAGTGGGGACAGCTATGCTTGCAAAAGGGGATCTGTTAAAAGTTTCTTTAGTAGATTGAATTGGTTGCACGAATCAGAATACAAATATCCATCGCTGAACGTGACTATGCCAAACAATGACAAATTTGACAAGTTGTACATTTGGGGGGTTCACCACCCGAGCACGGACAGAGAACAAACCAGCCTATATATTCGAGCATCAGGGAGAGTCACAGTCTCTACCAAAAGAAGCCAACAAACTGTAATCCCGAATATCGGGTCCAGACCCTGGGTAAGGGGTCTGTCCAGTAGAATAAGCATCTATTGGACAATAGTAAAACCGGGAGACATACTTTTGATTAATAGCACCGGGAATCTAATTGCTCCACGGGGTTACTTCAAAATACGAACTGGGAAAAGCTCGATAATGAGGTCAGATGCACCCATTGGCACCTGCAGTTCTGAATGCATCACTCCAAATGGAAGCATCCCCAATGACAAACCTTTTCAAAATGTAAACAGGATCACATATGGGGCATGTCCCAGATATGTTAAGCAAAACACTCTGAAATTGGCAACAGGGATGCGGAATGTACCAGAGAAACAAACTAGA'},\n",
       "   {'taxon': 'A_Perth_1_1992',\n",
       "    'sequence': 'CAAAAACTTCCCGGAAATGACAACAGCACAGCAACGCTATGCCTGGGACATCATGCAGTGCCAAATGGAACGCTAGTGAAAACAATCACGAATGACCAAATTGAAGTGACTAATGCTACTGAGCTGGTTCAGAGTTCCTCAACAGGTAGAATATGCGACAGTCCTCACCGAATCCTTGATGGAAAAAACTGCACACTGATAGATGCTCTATTGGGAGACCCTCATTGTGATAGCTTCCAAAACAAGGAATGGGACCTTTTTGTTGAACGCAGCAAAGCTTACAGCAACTGTTACCCTTATGATGTGCCGGATTATGCCTCCCTTAGGTCACTAGTTGCCTCATCAGGCACCCTGGAGTTTATCAATGAAGACTTCAATTGGACTGGAGTCGCTCAGGATGGGGGAAGCTATGCTTGCAAAAGGGGATCTGTTAACAGTTTCTTTAGTAGATTGAATTGGTTGCACGAATCAGAATACAAATATCCAGCGCTGAACGTGACTATGCCAAACAATGGCAAAGTTGACAAATTGTACATTTGGGGGGTTCACCACCCGAGCACGGACAGAGACCAAACCAGCCTATATGTTCGAGCATCAGGGAGAGTCACAGTCTCTACCAAAAGAAGCCAACAAACTGTAATCCCGAATATCGGGTCTAGACCCTGGGTAAGGGGTCAGTCCAGTAGAATAAGCATCTATTGGACAATAGTAAAACCGGGAGACATACTTTTGATTAATAGCATCGGGAACCTAATTGCTCCTCGGGGTTACTTCAAAATACGAAATGGGAAAAGCTCAATAATGAGGTCAGATGCACCCATTGGCACCTGCAGTTCTGAATGCATCACTCCAAATGGAAGCATTCCCAATGACAAACCTTTTCAAAATGTAAACAGGATCACATATGGGGCATGTCCCAGATATGTTAAGCAAAACACTCTGAAATTGGCAACAGGGATGCGGAATGTACCAGAGAAACAAACTAGA'},\n",
       "   {'taxon': 'A_Qingdao_53_1992',\n",
       "    'sequence': 'CAAAAACTTCCCGGAAATGACAACAGCACAGCAACGCTGTGCCTGGGACATCATGCAGTGCCAAACGGAACGCTAGTGAAAACAATCACGAATGATCAAATTGAAGTGACTAATGCTACTGAGCTGGTTCAGAGTTCCTCAACAGGTAGAATATGCGACAGTCCTCACCGAATCCTTGATGGAAAAAACTGCACACTGATAGATGCTCTATTGGGAGACCCTCATTGTGATGGCTTCCAAAATAAGGAATGGGACCTTTTTGTTGAACGCAGCAAAGCTTACAGCAACTGTTACCCTTATGATGTGCCGGATTATGCCTCCCTTAGGTCACTAGTTGCCTCATCAGGCACCCTGGAGTTTATCAATGAAGACTTCAATTGGACTGAAGTCGCTCAGGATGGGGGAAGCTGTGCTTGCAAAAGGGGATCTGTTAACAGTTTCTTTAGTAGATTGAATTGGTTGCACAAATCAGAATACAAATATCCAGCGCTGAACGTGACTATGCCAAACAATGGCAAATTTGACAAATTGTACATTTGGGGGGTTCACCACCCGAGCACGGACAGTGACCAAACCCGCCTATATGTTCGAGCATCAGGGAGAGTCACAGTCTCTACCAAAAGAAGCCAACAAACTGTAACCCCGAATATCGGGTCTAGACCCTGGGTAAGGGGTCTGTCCAGTAGAATAAGCATCTATTGGACAATAGTAAAACCGGGAGACATACTTTTGATTAATAGCACAGGGAATCTAATTGCTCCTCGGGGTTACTTCAAAATACGAAATGGGAAAAGCTCAATAATGAGGTCAGATGCACCCATTGGCACCTGCAGTTCTGAATGCATCACTCCAAATGGAAGCATTCCCAATGACAAACCTTTTCAAAATGTAAACAGGATCACATATGGGGCCTGCCCCAGATATGTTAAGCAAAACACTCTGAAATTGGCAACAGGGATGCGGAATGTACCAGAGAAACAAACTAGA'},\n",
       "   {'taxon': 'A_Sapporo_304_1992',\n",
       "    'sequence': 'CAAAAACTTCCCGGAAATGACAACAGCACAGCAACGCTGTGCCTGGGACATCATGCAGTGCCAAACGGAACGCTAGTGAAAACAATCACGAATGATCAAATTGAAGTGACTAATGCTACTGAGTTGGTTCAGAGTTCCTCAACAGGTAGAATATGCGACAGTCCTCACCGAATCCTTGATGGAAAAAACTGCACACTGATAGATGCTCTATTGGGAGACCCTCATTGTGATGGCTTCCAAAATAAGGAATGGGACCTTTTTGTTGAACGCAGCAAAGCTTACAGCAACTGTTACCCTTATGATGTGCCGGATTATGCCTCCCTTAGGTCACTAGTTGCCTCATCAGGCACCCTGGAGTTTATCAATGAAGACTTCAATTGGACTGGAGTCGCTCAGGATGGGGGAAGCTATGCTTGCAAAAGGGGATCTGTTAACAGTTTCTTTAGTAGATTGAATTGGTTGCACAAATTAGAATACAAATATCCAGCGCTGAACGTGACTATGCCAAACAATGGCAAATTTGACAAATTGTACATTTGGGGGGTTCACCACCCGAGCACGGACAGTGACCAAACCAGCCTATATGTTCGAGCATCAGGGAGAGTCACAGTCTCTACCAAAAGAAGCCAACAAACTGTAACCCCGAATATCGGGTCTAGACCCTGGGTAAGGGGTCAGTCCAGTAGAATAAGCATCTATTGGACAATAGTAAAACCGGGAGACATACTTTTGATTAATAGCACAGGGAATCTAATTGCTCCTCGGGGTTACTTCAAAATACGAAATGGGAAAAGCTCAATAATGAGGTCAGATGCACCCATTGGCAACTGCAGTTCTGAATGCATCACTCCAAATGGAAGCATTCCCAATGACAAACCTTTTCAAAATGTAAACAGGATCACATATGGGGCCTGCCCCAGATATGTTAAGCAAAACACTCTGAAATTGGCAACAGGGATGCGGAATGTACCAGAGAAACAAACTAGA'},\n",
       "   {'taxon': 'A_SouthAustralia_36_1992',\n",
       "    'sequence': 'CAAAAACTTCCCGGAAATGACAACAGCACAGCAACGCTGTGCCTGGGACATCATGCAGTGCCAAACGGAACGCTAGTGAAAACAATCACGAATGATCAAATTGAAGTGACTAATGCTACTGAGCTGGTTCAGAGTTCCTCAACAGGTAGAATATGTGACAGTCCTCACCGAATCCTTGATGGAAAAAATTGCACACTGATAGATGCTCTATTGGGAGACCCTCATTGTGATGGCTTCCAAAATAAGGAATGGGACCTTTTTGTTGAACGCAGCAAAGCTTACAGCAACTGTTACCCTTATGATGTGCCGGATTATGCCTCCCTTAGGTCACTAGTTGCCTCATCAGGCACCCTGGAGTTTACCAATGAAGACTTCAATTGGACTGGAGTCGCTCAGAGTGGGGAAAGCTATGCTTGCAAAAGGGGATCTGTTAAAAGTTTCTTTAGTAGATTGAATTGGTTGCACGAATCAGATTACAAATACCCAGCGCTGAACGTGACTATGCCAAACAATGGCAAATTTGACAAATTGTACATTTGGGGGGTTCACCACCCGAGCACGGACAGAGAACAAACCAGCCTATATGTTCGAGCATCAGGGAGAGTCACAGTCTCCACCAAAAGAAGCCAACAAACTGTGATCCCGAATATCGGGTCCAGACCCTGGGTAAGGGGTCTGTCCAGTAGAATAAGCATCTATTGGACAATAGTAAAACCGGGAGACATACTTTTGATTAATAGCACCGGGAACCTAATTGCTCCTCGGGGTTACTTCAAAATACGAACTGGGAAAAGCTCGATAATGAGATCAGATGCACCCATTGGCACCTGCAGTTCTGAATGCATCACTCCAAATGGAAGCATCCCCAATGACAAACCTTTTCAAAATGTAAACAGGATCACATATGGGGCATGTCCCAGATATGTTAAGCAAAACACTCTGAAATTGGCAACAGGAATGCGGAATGTACCAGAGAAACAAACTAGA'},\n",
       "   {'taxon': 'A_Tianjin_33_1992',\n",
       "    'sequence': 'CAAAAACTTCCCGGAAATGACAACAGCACAGCAACGCTGTGCCTGGGACATCATGCAGTGCCAAACGGAACGCTAGTGAAAACAATCACGAATGATCAAATTGAAGTGACTAATGCTACTGAGCTGGTTCAGAGTTCCTCAACAGGTAGAATATGCGACAGTCCTCACCGAATCCTTGATGGAAAAAACTGCACACTGATAGATGCTCTATTGGGAGACCCTCATTGTGATGGCTTCCAAAATAAGGAATGGGACCTTTTTGTTGAACGCAGCAAAGCTTACAGCAACTGTTACCCTTATGATGTGCCGGATTATGCCTCCCTTAGGTCACTAGTTGCCTCATCAGGCACCCTGGAGTTTATCAATGAAGACTTCAATTGGACTGGAGTCGCTCAGGATGGGGGAAGCTATGCTTGCAAAAGGGGATCAGTTAACAGTTTCTTTAGTAGATTGAATTGGTTGCACAAATCAGAATACAAATATCCAGCTCTGAACGTGACTATGCCAAACAATGGCAAATTTGACAAATTGTACATTTGGGGGGTTCACCACCCGAGCACGGACAGTGACCAAACCAGCCTATATGTTCGAGCATCAGGGAGAGTCACAGTCTCTACCAAAAGAAGCCAACAAACTGTAACCCCGAATATCGGGTCTAGACCCTGGGTAAGGGGTCAGTCCAGTAGAATAAGCATCTATTGGACAATAGTAAAACCGGGAGACATACTTTTGATTAATAGCACAGGGAATCTAATTGCTCCTCGGGGTTACTTCAAAATACGAAATGGGAAAAGCTCAATAATGAGGTCAGATGCACCCATTGGCACCTGCAGTTCTGAATGCATCACTCCAAATGGAAGCATTCCCAATGACAAACCTTTTCAAAATGTAAACAGGATCACATATGGGGCCTGCCCCAGATATGTTAAGCAAAACACTCTGAAATTGGCAACAGGGATGCGGAATGTACCAGAGAAACAAACTAGA'},\n",
       "   {'taxon': 'A_Umea_1_1992',\n",
       "    'sequence': 'CAAAAACTTCCCGGAAATGACAACAGCACAGCAACGCTGTGCCTGGGGCATCATGCAGTGCCAAACGGAACTCTAGTGAAAACAATCACGAATGATCAAATTGAAGTGACTAATGCTACTGAGCTGGTTCAGAGTTCCTCAACAGGTAAAATATGCGACAGTCCTCACCGAATCCTCGATGGAAAAAACTGCACACTGATAGATGCTCTATTGGGAGACCCTCATTGTGATGACTTCCAAAATAAGGAATGGGACCTTTTTGTTGAACGCAGCAAAGCTTACAGCAATTGTTACCCTTATGATGTGCCAGATTATGCCTCCCTTAGGTCACTAGTTGCCTCATCAGGCACCCTGGAGTTTATCAATGAAGACTTCAATTGGACTGGAGTCGCTCAGAGTGGGGACAGCTATGCTTGCAAAAGGGGATCTGTTAAAAGTTTCTTTAGTAGATTGAATTGGTTGCACGAATCAGAATACAAATATCCAGCGCTGAACGTGACTATGCCAAACAATGACAAATTTGACAAGTTGTACATTTGGGGGGTTCACCACCCGAGCACGGACAGAGAACAAACCAGCCTATATATTCGAGCATCAGGGAGAGTCACAGTCTCTACCAAAAGAAGTCAACAAACTGTAATCCCAAATATCGGGTCCAGACCCTGGGTAAGGGGTCTGTCCAGTAGAATAAGCATCTATTGGACAATAGTAAAACCGGGAGACATACTTTTGATTAATAGCACCGGGAATCTAATTGCTCCTCGGGGTTACTTCAAAATACGAACTGGGAAAAGCTCGATAATGAGGTCAGATGCACCCATTGGCACCTGCAGTTCTGAATGCATCACTCCAAATGGAAGCATCCCCAATGACAAACCTTTTCAAAATGTAAACAGGATCACATATGGGGCATGTCCCAGATATGTTAAGCAAAACACTCTGAAATTGGCAACAGGGATGCGGAATGTACCAGAGAAACAAACTAGA'},\n",
       "   {'taxon': 'A_Victoria_29_1992',\n",
       "    'sequence': 'CAAAAACTTCCCGGAAATGACAACAGCACAGCAACGCTATGCCTGGGGCATCATGCAGTGCCAAACGGAACTCTAGTGAAAACAATCACGAATGATCAAATTGAAGTGACTAATGCTACTGAGCTGGTTCAGAGTTCCTCAACAGGTAGAATATGCGACAGTCCTCACCGAATCCTCGATGGAAAAAACTGCACACTGATAGATGCTCTATTGGGAGACCCTCATTGTGATGGCTTCCAAAATAAGGAATGGGACCTTTTTGTTGAACGCAGCAAAGCTTACAGCAATTGTTACCCTTATGATGTGCCAGATTATGCCTCCCTTAGGTCACTAGTTGCCTCATCAGGCACCCTGGAGTTTATCAATGAAGACTTCAATTGGACTGGAGTCGCTCAGAATGGGGGCAGCTATGCTTGCAAAAGGGGATCTGTTAAAAGTTTCTTTAGTAGATTGAATTGGTTGCACGAATCAGAATACAAATATCCAGCGCTGAACGTGACTATGCCAAACAACGACAAATTTGACAAGTTGTACATTTGGGGGGTTCACCACCCGAGCACGGACAGAGAACAAACCAGCCTATATATTCGAGCATCAGGGAGAGTCACAGTCTCTACCAAAAGAAGCCAACAAACTGTAATCCCGAATATCGGGTCCAGACCCTGGGTAAGGGGTCTGTCCAGTAGAATAAGCATCTATTGGACAATAGTAAAACCGGGAGACATACTTTTGATTAATAGCACCGGGAATCTAATTGCTCCTCGGGGTTACTTCAAAATACGGACTGGGAAAAGCTCGATAATGAGGTCAGATGCACCCATTGGCACCTGCAGTTCTGAATGCATCACTCCAAATGGAAGCATCCCCAATGACAAACCTTTTCAAAATGTAAACAGGATCACATATGGGGCATGTCCCAGATATGTTAAGCAAAACACTCTGAAATTGGCAACAGGAATGCGGAATGTACCAGAGAAACAAACTAGA'},\n",
       "   {'taxon': 'A_Wellington_66_1992',\n",
       "    'sequence': 'CAAAAACTTCCCGGAAATGACAACAGCACAGCAACGCTGTGCCTGGGGCATCATGCAGTGCCAAACGGAACTCTAGTGAAAACAATCACGAATGATCAAATTGAAGTGACTAATGCTACTGAGCTGGTCCAGAGTTCCTCAACAGGTAGAATATGCGACAGTCCTCACCGAATCCTCGATGGAAAAAACTGCACACTGATAGATGCTCTATTGGGAGACCCTCATTGTGATGGCTTCCAAAATAAGGAATGGGACCTTTTTGTTGAACGCAGCAAAGCTTACAGCAATTGTTACCCTTATGATGTGCCAGATTATGCCTCCCTTAGGTCACTAGTTGCCTCATCAGGCACCCTGGAGTTTATCAATGAAGACTTCAATTGGACTGGAGTCCCTCAGAATGGGGACAGCTATGCTTGCAAAAGGGGATCTGTTAAAAGTTTCTTTAGTAGATTGAATTGGTTGCACGAATCAGAATACAAATATCCAACGCTGAACGTGACTATGCCAAACAATGACAAATTTGACAAGTTGTACATTTGGGGGGTTCACCACCCGAGCACGGACAGAGAACAAACCAGCCTATATATTCGAGCATCAGGGAGAGTCACAGTCTCTACCAAAAGAAGCCAACAAACTGTAATCCCGAATATCGGGTCCAGACCCTGGGTAAGGGGTCTGTCCAGTAGAATAAGCATCTATTGGACAATAGTAAAACCGGGAGACATACTTTTGATTAATAGCACCGGGAATCTAATTGCTCCTCGGGGTTACTTCAAAATACGGACTGGGAAAAGCTCGATAATGAGGTCAGATGCACCCATTGGCACCTGCAGTTCTGAATGCATCACTCCAAATGGAAGCATCCCCAATGACAAACCTTTTCAAAATGTAAACAGGATCACATATGGGGCATGTCCCAGATATGTTAAGCAAAACACTCTGAAATTGGCAACAGGGATGCGGAATGTACCAGAGAAACAAACTAGA'},\n",
       "   {'taxon': 'A_Aichi_69_1994',\n",
       "    'sequence': 'CAAAAACTTCCCGGAAATGACAACAGCACAGCAACGCTGTGCCTGGGACACCATGCAGTGCCAAACGGAACGCTAGTGAAAACAATCACGAATGATCAAATTGAAGTGACTAATGCTACTGAGCTGGTTCAGAGTTCCTCAACAGGTAGAATATGCGACAGTCCTCACCGAATCCTTGATGGAAAAAACTGCACACTGATAGATGCTCTATTGGGAGACCCTCATTGTGATGGCTTCCAAAATAAGGAATGGGACCTTTTTGTTGAACGCAGCAAAGCTTACAGCAACTGTTACCCTTATGATGTGCCGGACTATGCCTCCCTTAGGTCACTAGTTGCCTCATCAGGCACCCTGGAGTTTACCAATGAAGGCTTCAATTGGACTGGAGTCGCTCAGGATGGGAAAAGCTATGCTTGCAAAAGGGGATCTGTTAACAGTTTCTTTAGTAGATTGAATTGGTTGCACAAATTAGAATACAAATATCCAGCACTGAACGTGACTATGCCAAACAATGACAAATTTGACAAATTGTACATTTGGGGGGTTCACCACCCGAGCACGGACAGTGACCAAACCAGCCTATATGTTCAAGCATCAGGGAGAGTCACAGTCTCTACCAAAAGAAGCCAACAAACTGTAATCCCGAATATCGGGTCTAGACCCTGGGTAAGGGGTATCTCCAGTAGAATAAGCATCTATTGGACAATAGTAAAACCGGGAGACATACTTTTGGTTAACAGCACAGGGAATCTAATTGCTCCTCGAGGTTACTTCAAAATACGAAATGGGAAAAGCTCAATAATGAGATCAGATGCACCCATTGACAACTGCAATTCTGAATGCATCACTCCAAATGGAAGCATTCCCAATGACAAACCTTTTCAAAATGTAAACAGGATCACATATGGGGCCTGTCCCAGATATGTTAAGCAAAACACTCTGAAGTTGGCAACAGGGATGCGGAATGTACCAGAGAAACAAACT---'},\n",
       "   {'taxon': 'A_Akita_1_1994',\n",
       "    'sequence': 'CAAAAACTTCCCGGAAATGACAACAGCACAGCAACGCTGTGCCTGGGACACCATGCAGTGCCAAACGGAACGCTAGTGAGAACAATCACGAATGATCAAATTGAAGTGACTAATGCTACTGAGCTGGTTCAGAGTTCCTCAACAGGTAGAATATGCGACAGTCCTCACCGAATCCTTGATGGAAAAAACTGCACACTGATAGATGCTCTATTGGGAGACCCTCATTGTGATGGCTTCCAAAATAAGGAATGGGACCTTTTTGTTGAACGCAGCAAAGCTTACAGCAACTGTTACCCTTATGATGTGCCGGATTATGCCTCCCTTAGGTCACTAGTTGCCTCATCAGGCACCCTGGAGTTTATCAATGAAGACTTCAATTGGACTGGAGTCGCTCAGGATGGGAAAAGCTATGCTTGCAAAAGGGGATCTGTTAAAAGTTTCTTTAGTAGATTGAATTGGCTGCACAAATTAGAATACAAATATCCAGCGCTGAACGTGACTATGCCAAACAATGGCAAATTTGACAAATTGTACATTTGGGGGGTTCACCACCCGAGCACGGACAGTGACCAAACCAGCCTATATGTTCGAGCATCAGGGAGAGTCACAGTCTCTACCAAAAGAAGCCAACAAACTGTAATCCCGAATATCGGGTTTAGACCCTGGGTAAGGGGTCAGTCCAGTAGAATAAGCATCTATTGGACAATAGTAAAACCGGGAGACATACTTTTGATTAATAGCACAGGGAATTTAATTGCTCCTCGGGGTTACTTCAAAATACGAAATGGGAAAAGCTCAATAATGAGGTCAGATGCACCCATTGGCAACTGCAGTTCTGAATGCATCACTCCAAATGGAAGCATTCCCAATGACAAACCTTTTCAAAATGTAAACAGGATCACATATGGGGCCTGCCCCAGATATGTTAAGCAAAACACTCTGAAGTTGGCAACAGGGATGCGGAATGTACCAGAGAAACAAACT---'},\n",
       "   {'taxon': 'A_Argentina_3779_1994',\n",
       "    'sequence': 'CAAAAACTTCCCGGAAATGACAACAGCACAGCAACGCTGTGCCTGGGACACCATGCAGTGCCAAACGGAACGCTAGTGAAAACAATCACGAATGATCAAATTGAAGTGACTAATGCTACTGAGCTGGTTCAGAGTTCCCCAACAGGTAGAATATGCGACAGCCCTCACCGAATCCTTGATGGAAAGAACTGCACACTGATAGATGCTCTATTGGGAGACCCTCATTGTGATGGCTTCCAAAATAAGGAATGGGACCTTTTTGTTGAACGCAGCAAAGCTTACAGCAACTGTTACCCTTATGATGTGCCGGATTATGCCTCCCTTAGGTCACTAGTTGCCTCATCAGGCACCCTGGAGTTTATCAACGAAAACTTCAATTGGACTGGAGTCGCTCAGGATGGGAAAAGCTATGCTTGCAAAAGGGGATCTGTTAACAGTTTCTTTAGTAGATTGAATTGGTTGCACAAATTAGAATACAAATATCCAGCGCTGAACGTGACTATGCCACACAATGGCAAATTTGACAAATTGTACATTTGGGGGGTTCACCACCCGAGCACGGACAGTGTCCAAACCAGCCTATATGTCCGAGCATCAGGGAGAGTCACAGTCTCTACCAAAAGAAGCCAACAAACTGTAATCCCGGATATCGGGTATAGACCATGGGTAAGGGGTCAGTCCAGTAGAATAAGCATCTATTGGACAATAGTAAAACCGGGAGACATACTTTTGATTAATAGCACAGGGAATCTAATTGCTCCTCGGGGTTACTTCAAAATACGAAATGGGAAAAGCTCAATAATGAGGTCAGATGCACCCATTGGCAACTGCAGTTCTGAATGCATCACTCCAAATGGAAGCATTCCCAATGACAAACCTTTTCCAAATGTAAACAGGATCACATATGGGGCCTGCCCCAGATATGTTAAGGAAAACACTCTGAAATTGGCAACAGGGATGCGGAATGTACCAGAGAAACAAACTAGA'},\n",
       "   {'taxon': 'A_England_67_1994',\n",
       "    'sequence': 'CAAAAACTTCCCGGAAATGACAACAGCACAGCAACGCTGTGCCTGGGACACCATGCAGTGCCAAACGGAACGCTAGTGAAAACAATCACGAATGATCAAATTGAAGTGACTAATGCTACTGAGCTGGTTCAGAGTTCCCCAACAGGTAGAATATGCAACAGTCCTCACCGAATCCTTGATGGAAAGAACTGCACACTGATAGATGCTCTATTGGGAGACCCTCATTGTGATGGCTTCCAAAATAAGGAATGGGACCTTTTTGTTGAACGCAGCAAAGCTTACAGCAACTGTTACCCTTATGATGTGCCGGACTATGCCTCCCTTAGGTCACTAGTTGCCTCATCAGGCACCCTGGAGTTTATCAACGAAAACTTCAATTGGACCGGAGTCGCTCAGGATGGGAAAAGCTATACTTGCAAAAGGGGATCTGTTAACAGTTTCTTTAGTAGATTGAATTGGTTGCACAAATTAGAATACAAATATCCAGCGCTGAACGTGACTATGCCAAACAATGGCAAATTTGACAAATTGTACATTTGGGGGGTTCACCACCCGAGCACGGACAGTGACCAAACCAGCCTATATGTCCGAGCATCAGGGAGAGTCACAGTCTCTACCAAAAGAAGCCAACAAACTGTAATCCCGGATATCGGGTATAGACCATGGGTAAGGGGTCTGTCCAGTAGAATAAGCATCTATTGGACAATAGTAAAACCGGGAGACATACTTTTGATTAATAGCACAGGGAATCTAATTGCTCCTCGGGGTTACTTTAAAATACGAAATGGGAAAAGCTCAATAATGAGGTCAGATGCATCCATTGGCAACTGCAGTTCTGAATGCATCACTCCAAATGGAAGCATTCCCAATGACAAACCTTTTCAAAATGTAAACAGGATCACATATGGGGCCTGCCCCAGATATGTTAAGCAAAACACTCTGAAATTGGCAACAGGGATGCGGAATGTACCAGAGAAACAAACTAGA'},\n",
       "   {'taxon': 'A_France_1109_1994',\n",
       "    'sequence': 'CAAAAACTTCCCGGAAATGACAACAGCACAGCAACGCTGTGCCTGGGACACCATGCAGTGCCAAACGGAACGCTAGTGAAAACAATCACGAATGATCAAATTGAAGTGACTAATGCTACTGAGCTGGTTCAGAGTTCCTCAACAGGTAGAATATGCGACAGTCCTCACAGAATCCTTGATGGGAAAAACTGCACACTGATAGATGCTCTATTGGGAGACCCTAATTGTGATGGCTTCCAAAATAAGGAATGGGACCTTTTTGTTGAACGCAGCAAAGCTTACAGCAACTGTTACCCTTATGATGTGCCGGATTATGCCTCCCTTAGGTCACTAGTTGCCTCATCAGGCACCCTGGAGTTTACCAATGAGGACTTCAATTGGACTGGAGTCGCTCAGGATGGGGGAAGCTATGCTTGCAAAAGGGGATCTGTTAACAGTTTCTTTAGTAGATTGAATTGGTTGCACAAATTAGAATACAAATATCCAGCGCTGAACGTGACTATGCCAAACAATGGCAAATTTGACAAATTGTACATTTGGGGGGTTCACCACCCGAGCACGGACAGTGACCAAACTAGCCTATATGTTCGAGCATCAGGGAGAGTCACAGTCTCTACCAAAAGAAGCCAACAAACTGTAACCCCGAATATCGGGTCTAGACCCTGGGTAAGGGGTCTGTCCAGTAGAATAAGCATCTATTGGACAATAGTAAAACCGGGAGACATACTTTTGATTAATAGCACAGGAAATCTAATTGCTCCTCGGGGTTACTTCAAAATACGAAATGGGAAAAGCTCAATAATGAGGTCAGATGCACCCATTGGCACCTGCAGTTCTGAATGCATCACTCCAAATGGAAGCATTCCCAATGACAAACCTTTTCAAAATGTAAACAGGATCACATATGGGGCCTGCCCCAGATACGTTAAGCAAAACACTCTGAAATTGGCAACAGGGATGCGGAATGTACCAGAGAAACAAACTAGA'},\n",
       "   {'taxon': 'A_HongKong_1_1994',\n",
       "    'sequence': 'CAAAAACTTCCCGGAAATGACAACAGCACAGCAACGCTGTGCCTGGGACACCATGCAGTGCCAAACGGAACGCTAGTGAAAACAATCACGAATGATCAAATTGAAGTGACTAATGCTACTGAGCTGGTTCAGAGTTCCCCAACAGGTAGAATATGCGACAGTCCTCACCGAATCCTTGATGGAAAGAACTGCACACTGATAGATGCTCTATTGGGAGACCCTCATTGTGATGGCTTCCAAAATAAGGAATGGGACCTTTTTGTTGAACGCAGCAAAGCTTACAGCAACTGTTACCCTTATGATGTGCCGGATTATGCCTCCCTTAGGTCACTAGTTGCCTCATCAGGCACCCTGGAGTTTATCAACGAAAACTTCAATTGGACTGGAGTCGCTCAGGATGGGAAAAGCTATGCTTGCAAAAGGGGATCTGTTAACAGTTTCTTTAGTAGATTGAATTGGTTGCACAAATTAGAATACAAATATCCAGCGCTGAACGTGACTATGCCAAACAATGGCAAATTTGACAAATTGTACATTTGGGGGGTTCACCACCCGAGCACGGACAGTGACCAAACCAGCCTATATGTCCGAGCATCAGGGAGAGTCACAGTCTCTACCAAAAGAAGCCAACAAACTGTAATCCCGGATATCGGGTATAGACCATGGGTAAGGGGTCTGTCCAGTAGAATAAGCATCTATTGGACAATAGTAAAACCGGGAGACATACTTCTGATTAATAGCACAGGGAATCTAATTGCTCCTCGGGGTTACTTCAAAATACGAAATGGGAAAAGCTCAATTATGAGGTCAGATGCACCCATTGGCAACTGCAGTTCTGAATGCATCACTCCAAATGGAAGCATTCCCAATGACAAACCTTTTCAAAATGTAAACAGGATCACATATGGGGCCTGTCCCAGATATGTTAAGCAAAACACTCTGAAATTGGCAACAGGGATGCGGAATGTACCAGAGAAACAAACTAGA'},\n",
       "   {'taxon': 'A_Johannesburg_33_1994',\n",
       "    'sequence': 'CAAAAACTTCCCGGAAATGACAACAGCACAGCAACGCTGTGCCTGGGACACCATGCAGTGCCAAACGGAACGCTAGTGAAAACAATCACGAATGATCAAATTGAAGTGACTAATGCTACTGAGCTGGTTCAGAGTTCCCCAACAGGTAGAATATGCGACAGTCCTCACCGAATCCTTGATGGAAAGAACTGCACACTGATAGATGCTCTATTGGGAGACCCTCATTGTGATGGCTTCCAAAATAAGGAATGGGACCTTTTTGTTGAACGCAGCAAAGCTTACAGCAACTGTTACCCTTATGATGTGCCGGATTATGCCTCCCTTAGGTCACTAGTTGCCTCATCAGGCACCCTGGAGTTTATCAACGAAAACTTCAATTGGACTGGAGTCGCTCAGGATGGGAAAAGCTATGCTTGCAAAAGGGGATCTGTTAACAGTTTCTTTAGTAGATTGAATTGGTTGCACAAATTAGAATACAAATATCCAGCGCTGAACGTGACTATGCCAAACAATGGCAAATTTGACAAATTGTACATTTGGGGGGTTCACCACCCGAGCACGGACAGTGACCAAACCAGCCTATATGTCCGAGCATCAGGGAGAGTCACAGTCTCTACCAAAAGAAGCCAACAAACTGTAATCCCGGATATCGGGTATAGACCATGGGTAAGGGGTCAGTCCAGTAGAATAAGCATCTATTGGACAATAGTAAAACCGGGAGACATACTTTTGATTAATAGCACAGGGAATCTAATTGCTCCTCGGGGTTACTTCAAAATACGAAATGGGAAAAGCTCAATAATGAGGTCAGATGCACCCATTGGCAACTGCAGTTCTGAATGCATCACTCCAAATGGAAGCATTCCCAATGACAAACCTTTTCAAAATGTAAACAGGATCACATATGGGGCCTGCCCCAGATATGTTAAGCAAAACACTCTGAAATTGGCAACAGGGATGCGGAATGTACCAGAGAAACAAACTAGA'},\n",
       "   {'taxon': 'A_Mexico_3255_1994',\n",
       "    'sequence': 'CAAAAACTTCCCGGAAATGACAACAGCACAGCAACGCTGTGCCTGGGACATCATGCAGTGCCAAACGGAACGCTAGTGAAAACAATCACGAATGATCAAATTGAAGTGACTAATGCTACTGAGCTGGTTCAGAGTTCCTCAACAGGTAGAATATGTGACAGTCCTCACCGAATCCTTGATGGAAAAAATTGCACACTGATAGATGCTCTATTGGGAGACCCTCATTGTGATGGCTTCCAAAATAAGGAATGGGACCTTTTTGTTGAACGCAGCAAAGCTTACAGCAACTGTTACCCTTATGATGTGCCGGATTATGCCTCCCTTAGATCACTAGTTGCCTCATCAGGCACCCTGGAGTTTATCAATGAAGACTTCAATTGGACTGGAGTCGCTCAGAGTGGGGAAAGCTATGCTTGCAAAAGGGGATCTGTTAAAAGTTTCTTTAGTAGATTGAATTGGTTGCACGAATCAGATTACAAATATCCAGCGCTGAACGTGACTATGCCAAACAATGGCAAATTTGACAAATTGTACATTTGGGGGGTTCACCACCCGAGCACGGACAGAGAACAAACCAGCCTATATGTTCGAGCATCAGGGAGAGTCACAGTCTCCACCAAAAGAAGCCAACAAACTGTGATCCCGAATATCGGGTCCAGACCCTGGGTAAGGGGTCTGTCCAGTAGAATAAGCATCTATTGGACAATAGTGAAACCGGGAGACATACTTTTGATTAATAGCACCGGGAACCTAATTGCTCCTCGGGGTTACTTCAAAATACGAACTGGGAAAAGCTCGATAATGAGATCAGATGCACCCATTGGCACCTGCAGTTCTGAATGCATCACTCCAAATGGAAGCATCCCCAATGACAAACCTTTTCAAAACGTAAACAGGATCACATATGGGGCATGTCCCAGATATGTTAAGCAAAACACTCTGAAATTGGCAACAGGGATGCGGAATGTACCAGAGAAACAAACTAGA'},\n",
       "   {'taxon': 'A_Pennsylvania_7_1994',\n",
       "    'sequence': 'CAAAAACTTCCCGGAAATGACAACAGCACAGCAACGCTGTGCCTGGGACACCATGCAGTGCCAAACGGAACGCTAGTGAAAACAATCACGAATGATCAAATTGAAGTGACTAATGCTACTGAGCTGGTTCAGAGTTCCCCAACAGGTAGAATATGCGACAGTCCTCACCGAATCCTTGATGGAAGAAACTGCACACTGATAGATGCTCTATTGGGAGACCCTCATTGTGATGGCTTCCAAAATAAGGAATGGGACCTTTTTGTTGAACGCAGCAAAGCTTACAGCAACTGTTACCCTTATGATGTGCCGGATTATGCCTCCCTTAGGTCACTAGTTGCCTCATCAGGCACCCTGGAGTTTACCAACGAAAACTTCAATTGGACTGGAGTCGCTCAGGATGGGAAAAGCTATTCTTGCAAAAGGGGATCTGTTAACAGTTTCTTTAGTAGATTGAATTGGTTGCACAAATTAGAATACAAATATCCAGCGCTGAACGTGACTATGCCAAACAATGGCAAATTTGACAAATTGTACATTTGGGGGGTTCACCACCCGAGCACGGACAGTGACCAAACCAGCCTATATGTCCGAGCATCAGGGAGAGTCACAGTCTCTACCAAAAGAAGCCAACAAACTGTAATCCCGGATATCGGGTATAGACCATGGGTAAGGGGTCTGTCCAGTAGAATAAGCATCTATTGGACAATAGTAAAACCGGGAGACATACTTTTGATTAATAGCACAGGGAATCTAATTGCTCCTCGGGGTTACTTCAAAATACGAAATGGGAAAAGCTCAATAATGAGGTCAGATGCACCCATTGACAACTGCAGTTCTGAATGCATCACTCCAAATGGAAGCATTCCCAATGACAAACCTTTTCAAAATGTAAACAGGATCACATATGGGGCCTGCCCCAGATATGTTAAGCAAAACACTCTGAAATTGGCAACAGGGATGCGGGATGTACCAGAGAAACA-------'},\n",
       "   {'taxon': 'A_Romania_160_1994',\n",
       "    'sequence': 'CACAAACTTCCCAGAAATGACAACAGCACAGCAACGCTGTGCCTGGGACACCATGCAGTGCCAAACGGAACGCTAGTGAAAACAATCACGAATGATCAAATTGAAGTGACTAATGCTACTGAGCTGGTTCAGAGTTCCTCAACAGGTAGAATATGCGACAGTCCTCACCGAATCCTTGATGGAAAAAACTGCACACTGATAGATGCTCTATTGGGAGACCCTCATTGTGATGGCTTCCAAAATAAGGAATGGGACCTTTTTGTTGAACGCAGCAAAGCTTACAGCAACTGTTACCCTTATGATGTGCCGGATTATGCCTCCCTTAGGTCACTAGTTGCCTCATCAGGCACCCTGGAGTTTATCAATGAAGACTTCAATTGGACTGGAGTCGCTCAGGATGGGAAAAGCTATGCTTGCAAAAGGGGATCTGTTAACAGTTTCTTTAGTAGATTGAATTGGCTGCACAAATTAGAATACAAATATCCAGCGCTGAACGTGACTATGCCAAACAATGGCAAATTTGACAAATTGTACATTTGGGGGGTTCACCACCCGAGCACGGACAGTGACCAAACCAGCCTATATGTTCGAGCATCAGGGAGAGTCACAGTCTCTACCAAAAGAAGCCAACAAACTGTAATCCCGAATATCGGGTTTAGACCCTGGGTAAGGGGTCAGTCCAGTAGAATAAGCATCTATTGGACAATAGTAAAACCGGGAGACATACTTTTGATTAATAGCACAGGGAATCTAATTGCTCCTCGGGGTTACTTCAAAATACGAAATGGGAAAAGCTCAATAATGAGGTCAGATGCACCCATTGGCAACTGCAGTTCTGAATGCATCACTCCAAATGGAAGCATTCCCAATGACAAACCCTTTCAAAATGTAAACAGGATCACATATGGGGCCTGCCCCAGATACGTTAAGCAAAACACTCTGAAGTTGGCAACAGGGATGCGGAATGTACCAGAGAAACAAACTAGA'},\n",
       "   {'taxon': 'A_Santiago_7198_1994',\n",
       "    'sequence': 'CAAAAACTTCCCGGAAATGACAACAGCACAGCAACGCTGTGCCTGGGACACCATGCAGTGCCAAACGGGACGCTAGTGAAAACAATCACGAATGATCAAATTGAAGTGACTAATGCTACTGAGCTGGTTCAGAGTTCCTCAACAGGTAGAATATGCGACAGTCCTCACCGAATCCTTGATGGAAAAAACTGCACACTGATAGATGCTCTATTGGGAGACCCTCATTGTGATGGCTTCCAAAATAAGGAATGGGACATTTTTGTTGAACGCAGCAAAGCTTACAGCAACTGTTACCCTTATGATGTGCCGGATTATGCCTCCCTTAGGTCACTAGTTGCCTCATCAGGCACCCTGGAGTTTATCAATGAAGACTTCAATTGGACTGGCGTCGCTCAGGATGGGAAAAGCTATGCTTGCAAAAGGGGATCTGTTAACAGTTTCTTTAGTAGATTGAATTGGCTGCACAAATTAGAATACAAATATCCAGCGCTGAACGTGACTATGCCAAACAATGGCAAATTTGACAAATTGTACATTTGGGGGGTTCACCACCCGAGCACGGACAGTGACCAAACCAGACTATATGTTCGAGCATCAGGGAGAGTCACAGTCTCTACCAAAAGAAGCCAACAAACTGTAATCCCGAATATCGGGTTTAGACCCTGGGTAAGGGGTCAGTCCAGTAGAATAAGCATCTATTGGACAATAGTAAAACCGGGAGACATACTTTTGATTAATAGCACAGGGAATCTAATTGCTCCTCGGGGTTACTTCAAAATCCGAAATGGGAAAAGCTCAATAATGAGGTCAGATGCACCCATTGGCAGCTGCAGTTCTGAATGCATCACTCCAAATGGAAGCATTCCCAATGACAAACCTTTTCAAAATGTAAACAGGATCACATATGGGGCCTGCCCCAGATATGTTGAGCCACACACTCTGAAGTTGGCAACAGGGATGCGGTATGTACCAGAGAAACAAACTAGA'},\n",
       "   {'taxon': 'A_Shangdong_5_1994',\n",
       "    'sequence': 'CAAAAACTTCCCGGAAATGACAACAGCACAGCAACGCTGTGCCTGGGACACCATGCAGTGCCAAACGGAACGCTAGTGAAAACAATCACGAATGATCAAATTGAAGTGACTAATGCTACTGAGCTGGTTCAGAGTTCCTCAACAGGTAGAATATGCGACAGTCCTCACCGAATCCTTGATGGAAAAAACTGCACACTGATAGATGCTCTATTGGGAGACCCTCATTGTGATGGCTTCCAAAATAAGGAATGGGACCTTTTTGTTGAACGCAGCAAAGCTTACAGCAACTGTTACCCTTATGATGTGCCGGATTATGCCTCCCTTAGGTCACTAGTTGCCTCATCAGGCACCCTGGAGTTTACCAATGAAGGCTTCAATTGGACTGGAGTCGCTCAGGATGGGAAAAGCTATGCTTGCAAAAGGGGATCTGTTAACAGTTTCTTTAGTAGATTGAATTGGTTGCACAAATTAGAATACAAATATCCAGCACTGAACGTGACTATGCCAAACAATGACAAATTTGACAAATTGTACATTTGGGGGGTTCACCACCCGAGCACGGACAGTGACCAAACCAGAATATATGTTCAAGCATCAGGGAGAGTCACAGTCTCTACCAAAAGAAGCCAACAAACTGTAATCCCGAATATCGGGTCTAGACCCTGGGTGAGGGGTATCTCCAGTAGAATAAGCATCTATTGGACAATAGTAAAACCGGGAGACATACTTTTGATTAACAGCACAGGGAATCTAATTGCTCCTCGGGGTTACTTCAAAATACGAAATGGGAAAAGCTCAATAATGAGGTCAGATGCACCCATTGGCAACTGCAATTCTGAATGCATCACTCCAAATGGAAGCATTCCCAATGACAAACCTTTTCAAAATGTAAACAGGATCACATATGGGGCCTGTCCCAGATATGTTAAGCAAGACACTCTGAAATTGGCAACAGGGATGCGGAATGTACCAGAGAAACAAACTAGA'},\n",
       "   {'taxon': 'A_Singapore_7_1994',\n",
       "    'sequence': 'CAAAAACTTCCCGGAAATGACAACAGCACAGCAACGCTGTGCCTGGGGCACCATGCGGTGCCAAACGGAACGCTAGTGAAAACAATCGCGAATGATCAAATTGAAGTGACTAATGCTACTGAGCTGGTTCAGAATTCTTCAACAGGTAGAATATGCGACAGTCCTCACCGAATCCTTGATGGAAAAAACTGCACACTGATAGATGCTCTATTGGGAGACCCTCATTGTGATGGCTTCCAAAATAAGGAATGGGACCTTTTTGTTGAACGCAGCAAAGCTTACAGCAACTGTTACCCTTATGATGTGCCGGATTATGCCTCCCTTAGGTCACTAGTTGCCTCATCAGGCACCCTGGAGTTTATCAATGAAGACTTCAATTGGACTGGAGTCGCTCAGGATGGGAAAAGCTATACTTGCAAAAGGGGATCTGTTAACGGTTTCTTTAGTAGATTGAATTGGTTGCACAAATTAGAATACAAATATCCAGCGCTGAACGTGACTATGCCAAACAATGGCAAATTTGACAAATTGTACATTTGGGGGGTTCACCACCCGAGCACGGACAGTGACCAAACCAGCCTATATGTTCGAGCATCAGGGGGAGTCACAGTCTCTACCAAAAGAAGCCAACAAACAGTAATCCCGAGTATCGGGTCTAGACCCTGGGTAAGGGGTCAGTCCAGTAGAATAAGCATCTATTGGACAATAGTAAAACCGGGAGACATACTTTTGATTAATAGCACAGGGAATCTAATTGCTCCTCGGGGTTACTTCAAAATACGAAATGGGAAAAGCTCAATAATGAGGTCAGATGCACCCATTGGCAACTGCAGTTCTGAATGCATCACTCCAAATGGAAGCATTCCCAATGACAAACCTTTTCAAAATGTAAACAGGATCACATATGGGGCCTGCCCCAGATATGTTAAGCAAAACACTCTGAAATTGGCAACAGGGATGCGGAATGTACCAGAGAAACAAACTAGA'},\n",
       "   {'taxon': 'A_Thailand_75_1994',\n",
       "    'sequence': 'CAAAAACTTCCCGGAAATGACAACAGCACAGCAACGCTGTGCCTGGGACACCATGCGGTGCCAAACGGAACGCTAGTGAAAACAATCACGAATGATCAAATTGAAGTGACTAATGCTACTGAGCTGGTTCAGAATTCCTCAACAGGTAGAATATGCGACAGTCCTCACCGAATCCTTGATGGAAAAAACTGCACACTGATAGATGCTCTATTGGGAGACCCTCATTGTGATGGCTTCCAAAATAAGGAATGGGACCTTTTTGTTGAACGCAGCAAAGCTTACAGCAACTGTTACCCTTATGATGTGCCGGATTATGCCTCCCTTAGGTCACTAGTTGCCTCATCAGGCACCCTGGAGTTTATTAATGAAGACTTCAATTGGACTGGAGTCGCTCAGGATGGGAAAAGCTATGCTTGCAAAAGGGGATCTGTTAAAGGTTTCTTTAGTAGATTGAATTGGTTGCACAAATTAGAATACAAATATCCAGCGCTGAACGTGACTATACCAAACAATGGCAAATCTGACAAATTGTACATTTGGGGGGTTCACCACCCGAGCACGGACAGTGACCAAACCAGCCTATATGTTCGAGCATCAGGGGGAGTCACAGTCTCTACCAAAAGAAGCCAACAAACAGTAATCCCGAGTATCGGGTCTAGACCCTGGGTAAGGGGTCTGTCCAGTAGAATAAGCATCTATTGGACAATAGTAAAACCGGGAGACATACTTTTGATTAATAGCACAGGGAATCTAATTGCTCCTCGGGGTTACTTCAAAATACGAAATGGGAAAAGCTCAATAATGAGGTCAGATGCACCCATTGGCAACTGCAGTTCTGAATGCATCACTCCAAATGGAAGCATTCCCAATGACAAACCTTTTCAAAATGTAAACAGGATCACATATGGGGCCTGCCCCAGATATGTTAAGCAAAACACTCTGAAATTGGCAACAGGAATGCGGAATGTACCAGAGAAACAAACTAGA'},\n",
       "   {'taxon': 'A_Vermont_3_1994',\n",
       "    'sequence': 'CAAAAACTTCCCGGAAATGACAACAGCACAGCAACGCTGTGCCTGGGACACCATGCAGTGCCAAACGGAACGCTAGTGAAAACAATCACGAATGATCAAATTGAAGTGACTAATGCTACTGAGCTGGTTCAGAGTTCCTCAACAGGTAGAATATGCGACAGTCCTCACCGAATCCTTGATGGAAAAAACTGCACACTGATAGATGCTCTATTGGGAGACCCTCATTGTGATGGCTTCCAAAATAAGGAATGGGACCTTTTTGTTGAACGCAGTAAAGCTTACAGCAACTGTTACCCTTATGATGTGCCGGATTATGCCTCCCTTAGGTCACTAGTTGCCTCATCAGGCACCCTGGAGTTTATCAATGAAGACTTCAATTGGACTGGAGTCGCTCAGGATGGGAAAAGCTATGCTTGCAAAAGGGGATCTGTTAACAGTTTCTTTAGTAGATTGAATTGGCTGCACAAATTAGAATACAAATATCCAGCGCTGAACGTGACTATGCCAAACAATGGCAAATTTGACAAATTGTACATTTGGGGGGTTCACCACCCGAGCACGGACAGTGACCAAACCAGCCTATATGTTCGAGCATCAGGGAGAGTCACAGTCTCTACCAAAAGAAGCCAACAAACTGTAATCCCGAATATCGGGTTTAGACCCTGGGTAAGGGGTCAGTCCAGTAGAATAAGCATCTATTGGACAATAGTAAAACCGGGAGACATACTTTTGATTAATAGCACAGGGAATCTAATTGCTCCTCGGGGTTACTTCAAAATACGAAATGGGAAAAGCTCAATAATGAGGTCAGATGCACCCATTGGCAACTGCAGTTCTGAATGCATCACTCCAAATGGAAGCATTCCCAATGACAAACCTTTTCAAAATGTAAACAGGATCACATATGGGGCCTGCCCCAGATATGTTAAGCAAAACACTCTGAAGTTGGCAACAGGGATGCGGAATGTACCAGAGAAACAAACTAGA'},\n",
       "   {'taxon': 'A_Athens_1_1998',\n",
       "    'sequence': 'CAAAAACTTCCCGGAAATGACAACAGCACGGCAACGCTGTGCCTGGGACACCATGCAGTGCCAAACGGAACGCTAGTGAAAACAATCACGAATGACCAAATTGAAGTGACTAATGCTACTGAGCTGGTTCAGAGTTCCTCAACAGGTAGAATATGCGACAGTCCTCACCGAATCCTTGATGGAAAAAACTGCACACTGATAGATGCTCTATTGGGAGACCCTCATTGTGATGACTTCCAAAATAAGGAATGGGACCTTTTTGTTGAACGCAGCAAAGCTTACAGCAACTGTTACCCTTATGATGTGCCGGATTATGCCTCCCTTAGGTCACTAGTTGCCTCATCCGGCACCCTGGAGTTTAACAATGAAAGCTTCAATTGGACTGGAGTCGCTCAGAATGGAACAAGCTATGCTTGCAAAAGGAGATCTGTTAAAAGTTTCTTTAGTAGATTGAATTGGTTGCACAAATTAGAATACAAATATCCAGCACTGAACGTGACTATGCCAAACAATGACAAATTTGACAAATTGTACATTTGGGGGGTTCACCACCCGAGTACGGACAGTGACCAAACCAGCGTATATGTTCAAGCATCAGGGAGAGTCACAGTCTCTACCAAAAGAAGCCAACAAACTGTAATCCCGAATATCGGATCTAGACCCTGGGTAAGGGGTGTCTCCAGCAGAATAAGCATCTATTGGACAATAGTAAAACCTGGAGACATACTTTTGATTAACAGCACAGGGAATCTAATTGCTCCTCGGGGTTACTTCAAAATACGAAGTGGGAAAAGCTCAATAATGAGGTCAGATGCACCCATTGGCAACTGCAATTCTGAATGCATCACTCCAAATGGAAGCATTCCCAATGACAAACCATTTCAAAATGTAAACAGGATCACATATGGGGCCTGTCCCAGATATGTTAAGCAAAACACTCTGAAATTGGCAACAGGGATGCGGAATGTACCAGAGAAACAAACTAGA'},\n",
       "   {'taxon': 'A_Christchurch_45_1998',\n",
       "    'sequence': 'CAAAAACTTCCCGGAAATGACAACAGCACGGCAACGCTGTGCCTGGGACATCATGCAGTGCCAAACGGAACGCTAGTGAAAACAATCACGAATGACCAAATTGAAGTGACTAATGCTACTGAGCTGGTTCAGAGTTCCTCAACAGATAGAATATGCGACAGTCCTCACCAAATCCTTGATGGAGAAAACTGCACACTGATAGATGCTCTATTGGGAGACCCTCATTGTGATGGCTTCCAAAATAAGGAATGGGACCTTTTTGTTGAACGCAGCAAAGCCTACAGCAACTGTTACCCTTATGATGTGCCGGATTATGCCTCCCTTAGGTCACTAGTTGCCTCATCCGGCACCCTGGAGTTTAACAATGAAAGCTTCAATTGGACTGGAGTCGCTCAGAATGGAACAAGCTCTGCTTGCAAAAGGAGATCTATTAAAAGTTTCTTTAGTAGATTGAATTGGTTGCACCAATTAAAATACAAATATCCAGCACTGAACGTGACTATGCCAAACAATGACAAATTTGACAAATTGTACATTTGGGGGGTTCACCACCCGAGTACGGACAGTGACCAAACCAGCCTATATGCTCAAGCATCAGGGAGAGTCACAGTCTCTACCAAAAGAAGCCAACAAACTGTAATCCCGAATATCGGATCTAGACCCTGGGTAAGGGGTGTCTCCAGCAGAATAAGCATCTATTGGACAATAGTAAAACCGGGAGACATACTTTTGATTAACAGCACAGGGAATCTAATTGCTCCTCGGGGTTACTTCAAAATACGAAGTGGGAAAAGCTCAATAATGAGGTCAGATGCACCCATTGGCAAATGCAATTCTGAATGCATCACTCCAAATGGAAGCATTCCCAATGACAAACCATTTCAAAATGTAAACAGGATCACATATGGGGCCTGTCCCAGATATGTTAAGCAAAACACTCTGAAATTGGCAACAGGGATGCGGAATGTACCAGAGAAACAAACTAGA'},\n",
       "   {'taxon': 'A_Cordoba_V185_1998',\n",
       "    'sequence': 'CAAAAACTTCCCGGAAATGACAACAGCACGGCAACGCTGTGCCTGGGACATCATGCAGTGCCAAACGGAACGCTAGTGAAAACAATCACGAATGACCAAATTGAAGTGACTAATGCTACTGAGCTGGTTCAGAGTTCCTCAACAGGTAGAATATGCGACAGTCCTCACCGAATCCTTGATGGAGAAAACTGCACACTGATAGATGCTCTATTGGGAGACCCTCATTGTGATGGCTTCCAAAATAAGGAATGGGACCTTTTTGTTGAACGCAGCAAAGCCTACAGCAACTGTTACCCTTATGATGTGCCGGATTATGCCTCCCTTAGGTCACTAGTTGCCTCATCCGGCACCCTGGAGTTTAACAATGAAAGCTTCAATTGGACTGGAGTCGCTCAGAATGGAACAAGCTCTGCTTGCAAAAGGAGATCTATTAAAAGTTTCTTTAGTAGATTGAATTGGTTGCACCAATTAAAATACAAATATCCAGCACTGAACGTGACTATGCCAAACAATGACAAATTTGACAAATTGTACATTTGGGGGGTTCACCACCCGAGTACGGACAGTGACCAAACCAGCCTATATGCTCAAGCATCAGGGAGAGTCACAGTCTCTACCAAAAGAAGCCAACAAACTGTAATCCCAAATATCGGATCTAGACCCTGGGTAAGGGGTGTCTCCAGCAAAATAAGCATCTATTGGACAATAGTAAAACCGGGAGACATACTTTTGATTAACAGCACAGGGAATCTAATTGCTCCTCGGGGTTACTTCAAAATACGAAGTGGGAAAAGCTCAATAATGAGGTCAGATGCACCCATTGGCAAATGCAATTCTGAATGCATCACTCCAAATGGAAGCATTCCCAATGACAAACCATTTCAAAATGTAAACAGGATCACATATGGGGCCTGTCCCAGATATGTTAAGCAAAACACTCTTAAATTGGCAACAGGGATGCGGAATGTACCAGAGAAACAAACT---'},\n",
       "   {'taxon': 'A_Greece_103_1998',\n",
       "    'sequence': 'CAAAAACTTCCCGGAAATGACAACAGCACGGCAACTCTGTGCCTGGGACACCATGCAGTGCCAAACGGAACGCTTGTGAAAACAATCACGAATGACCAAATTGAAGTGACTAATGCTACTGAGCTGGTTCAGAGTTCCTCAACAGGTAGAATATGCGACAGTCCTCACCGAATCCTTGATGGAGAAAACTGCACACTGATAGATGCTCTATTGGGAGACCCTCATTGTGATGGCTTCCAAAATAAGAAATGGGACCTTTTTGTTGAACGCAGCAAAGCCTACAGCAACTGTTACCCTTATGATGTGCCGGATTATGCCTCCCTTAGGTCACTAGTTGCCTCATCCGGCACCCTGGAGTTTAACAATGAAAGCTTCAATTGGACTGGAGTCGCTCAGAATGGAACAAGCTATGCTTGCAAAAGGAGATCTATTAAAAGTTTCTTTAGTAGATTGAATTGGTTGCACCAATTAAAATACAAATATCCAGCACTGAACGTGACTATGCCAAACAATGACAAATTTGACAAATTGTACATTTGGGGGGTTCACCACCCGAGTACGGACAGTGACCAAACCAGCCTATATGCTCAAGCATCAGGGAGAGTCACAGTCTCTACCAAAAGAAGCCAACAAACTGTAATCCCGAATATCGGATCTAGACCCTGGGTAAGGGGTGTCTCCAGCAGAATAAGCATCTATTGGACAATAGTAAAACCGGGAGACATACTTTTGATTAACAGCACAGGGAATCTAATTGCTCCTCGGGGTTACTTCAAAATACGAAGTGGGAAAAGCTCAATAATGAGGTCAGATGCACCCATTGACAAATGCAATTCTGAATGCATCACTCCAAATGGAAGCATTCCCAATGACAAACCATTTCAAAATGTAAACAGGATCACATATGGGGCCTGTCCCAGATATGTTAAGCAAAACACCCTGAAATTGGCAACAGGGATGCGGAATGAACCAGAAATAAAACTA---'},\n",
       "   {'taxon': 'A_JOHANNESBURG_3_1998',\n",
       "    'sequence': 'CAAAAACTTCCCGGAAATGACAACAGCACGGCAACGCTGTGCCTGGGACACCATGCAGTGCCAAACGGAACGCTAGTGAAAACAATCACGAATGACCAAATTGAAGTGACTAATGCTACTGAGCTGGTTCAGAGTTCCTCAACAGGTAGAATATGCGACAGTCCTCACCGAATCCTTGATGGAGAAAACTGCACACTGATAGATGCTCTATTGGGAGACCCTCATTGTGATGGCTTCCAAAATAAGGAATGGGACCTTTTTGTTGAACGCAGCAAAGCCTACAGCAACTGTTACCCTTATGATGTGCAGGATTATGCCTCCCTTAGGTCACTAGTTGCCTCATCCGGCACCCTGGAGTTTAACAATGAAAGCTTCAATTGGACTGGAGTCGCTCAGAATGGAACAAGCTATGCTTGCAAAAGGAGATCTATTAAAAGTTTCTTTAGTAGATTGAATTGGTTGCACCAATTAAAATACAAATATCCAGCACTGAACGTGACTATGCCAAACAATGACAAATTTGACAAATTGTACATTTGGGGGGTTCACCACCCGAGTACGGACAGTGACCAAACCAGCCTATATGCTCAAGCATCAGGGAGAGTCACAGTCTCTACCAAAAGAAGCCAACAAACTGTAATCCCGAATATCGGATCTAGACCCTGGGTAAGGGGTGTCTCCAGCAGAATAAGCATCTATTGGACAATAGTAAAACCGGGAGACATACTTTTGATTAACAGCACAGGGAATCTAATTGCTCCTCGGGGTTACTTCAAAATACGAAGTGGGAAAAGCTCAATAATGAGGTCAGATGCACCCATTGGCAAATGCAATTCTGAATGCATCACTCCAAATGGAAGCATTCCCAATGACAAACCATTTCAAAATGTAAACAGGATCACATATGGGGCCTGTCCCAGATATGTTAAGCAAAACACTCTGAAATTGGCAACAGGGATGCGGAATGTACCAGAGAAACAAACTAGA'},\n",
       "   {'taxon': 'A_MALMO_1_1998',\n",
       "    'sequence': 'CAAAAAATTCCCGGAAATGACAACAGCACGGCAACGCTGTGCCTGGGACACCATGCAGTGCCAAACGGAACGCTAGTGAAAACAATCACGAATGACCAAATTGAAGTGACTAATGCTACTGAGCTGGTTCAGAGTTCCTCAACAGGTAGAATATGCGACAGTCCTCACCGAATCCTTGATGGAGAAAACTGCACACTGATAGATGCTCTATTGGGAGACCCTCACTGTGATGGCTTCCAAAATAAGGAATGGGACCTTTTTGTTGAACGCAGCAAAGCCTACAGCAACTGTTACCCTTATGATGTGCCGGATTATGCCTCCCTTAGGTCACTAGTTGCCTCATCCGGCACCCTGGAGTTTAACAATGAAAGCTTCAATTGGACTGGAGTCGCTCAGAATGGAACAAGCTATGCTTGCAAAAGGAGATCTATTAAAAGTTTCTTTAGTAGATTGAATTGGTTGCACCAATTAAAATACAAATATCCAGCACTGAACGTGACTATGCCAAACAATGACAAATTTGACAAGTTGTACATTTGGGGGGTTCACCACCCGAGTACGGACAGTGACCAAACCAGCCTATATGCTCAAGCATCAGGGAGAGTCACAGTCTCTACCAAAAGAAGCCAACAAACTGTAATCCCGAATATCGGATCTAGACCCTGGGTAAGGGGTGTCTCCAGCAGAATAAGCATCTATTGGACAATAGTAAAACCGGGAGACATACTTTTGATTAACAGCACAGGGAATCTAATTGCTCCTCGGGGTTACTTCAAAATACGAAGTGGGAAAAGCTCAATAATGAGGTCAGATGCACCCATTGGCAAATGCAATTCTGAATGCATCACTCCAAATGGAAGCATTCCCAATGACAAACCATTTCAAAATGTAAACAGGATCACATATGGGGCCTGTCCCAGATATGTTAAGCAAAACACTCTGAAATTGGCAACAGGGATGCGGAATGTACCAGAGAAACAAACTAGA'},\n",
       "   {'taxon': 'A_Nagasaki_76_1998',\n",
       "    'sequence': 'CAAAAACTTCCCGGAAATGACAACAGCACGGCAACACTGTGCCTGGGACACCATGCAGTGCCAAACGGAACGCTAGTGAAAACAATCACGAATGACCAAATTGAAGTGACTAATGCTACTGAGCTGGTTCAGAGTTCCTCAACAGGTAGAATATGCGACAGTCCTCACCGAATCCTTGATGGAGAGAACTGCACACTGATAGATGCTCTATTGGGAGACCCTCATTGTGATGGCTTCCAAAATAAGGAATGGGACCTTTTTGTTGAACGCAGCAAAGCCTACAGCAACTGTTACCCTTATGATGTGCCGGATTATGCCTCCCTTAGATCACTAGTTGCCTCATCCGGCACCCTGGAGTTTAACAATGAAAGCTTCAATTGGACTGGAGTCGCTCAGAATGGAACAAGCTCTGCTTGCAAAAGGAGATCTATTAAAAGTTTCTTTAGTAGATTGAATTGGTTGCACCAATTAAAATACAAATATCCAGCACTGAACGTGACTATGCCAAACAATGACAAATTTGACAAATTGTACATTTGGGGGGTTCACCACCCGAGTACGGACAGTGACCAAACCAGCCTATATGCTCAAACATCAGGGAGAGTCACAGTCTCTACCAAAAGAAGCCAACAAACTGTAATCCCGAATATCGGATCTAGACCCTGGGTAAGGGGTGTCTCCAGCAGAATAAGCATCTATTGGACAATAGTAAAACCGGGAGACATACTTTTGATTAACAGCACAGGGAATCTAATTGCTCCTCGGGGTTACTTCAAAATACGAAGTGGGAAAAGCTCAATAATGAGGTCAGATGCACCCATTGGCAAATGCAATTATGAATGCATCACTCCAAATGGAAGCATTCCCAATGACAAACCATTTCAAAATGTAAACAGGATCACATATGGGGCCTGTCCCAGATATGTTAAGCAAAACACTCTGAAATTGGCAACAGGGATGCGGAATGTACCAGAGAAACAAACTAGA'},\n",
       "   {'taxon': 'A_Neuquen_V541_1998',\n",
       "    'sequence': 'CAAAAACTTCCCGGAAATGACAACAGCACGGCAACGCTGTGCCTGGGACACCATGCAGTGCCAAACGGAACGCTAGTGAAAACAATCACGAATGACCAAATTGAAGTGACTAATGCTACTGAGCTGGTTCAGAGTTCCTCAACAGGTAGAATATGCGACAGTCCTCACCGAATCCTTGATGGAGAAAACTGCACACTGATAGATGCTCTATTGGGAGACCCTCATTGTGATGGCTTCCAAAATAAGGAATGGGACCTTTTTGTTGAACGCAGCAAAGCCTACAGCAACTGTTACCCTTATGATGTGCAAGATTATGCCTCCCTTAGGTCACTAGTTGCCTCATCCGGCACCCTGGAGTTTAACAATGAAAGCTTCAATTGGACTGGAGTCGCTCAGAATGGAACAAGCTATGCTTGCAAAAGGAGATCTATTAAAAGTTTCTTTAGTAGATTGAATTGGTTGCACCAATTAAAATACAAATATCCAGCACTGAACGTGACTATGCCAAACAATGACAAATTTGACAAATTGTACATTTGGGGGGTTCACCACCCGAGTACGGACAGTGACCAAACCAGCCTATATGCTCAAGCATCAGGGAGAGTCACAGTCTCTACCAAAAGAAGCCAACAAACTGTAATCCCGAATATCGGATCTAGACCCTGGGTAAGGGGTGTCTCCAGCAGAATAAGCATCTATTGGACAATAGTAAAACCGGGAGACATACTTTTGATTAACAGCACAGGGAATCTAATTGCTCCTCGGGGTTACTTCAAAATACGAAGTGGGAAAAGCTCAATAATGAGGTCAGATGCACCCATTGGCAAATGCAATTCTGAATGCATCACTCCAAATGGAAGCATTCCCAATGACAAACCATTTCAAAATGTAAACAGGATCACATATGGGGCCTGTCCCAGATATGTTAAGCAAAACACTCTGAAATTGGCAACAGGGATGCGGAATGTACCAGAGAAACAAACT---'},\n",
       "   {'taxon': 'A_PERTH_24_1998',\n",
       "    'sequence': 'CAAAAACTTCCCGGAGATGACAACAGCACGGCAACGCTGTGCCTGGGACACCATGCAGTGCCAAACGGAACGCTAGTGAAAACAATCACGAATGACCAAATTGAAGTGACTAATGCTACTGAGCTGGTTCAGAGTTCCTCAACAGGTAGAATATGCGACAGTCCTCACCGAATCCTTGATGGAGAAAACTGCACACTGATAGATGCTCTATTGGGAGACCCTCATTGTGATGGCTTCCAAAATAAGGAATGGGACCTTTTTGTTGAACGCAGCAAAGCCTACAGCAACTGTTACCCTTATGATGTGCAGGATTATGCCTCCCTTAGGTCACTAGTTGCCTCATCCGGCACCCTGGAGTTTAACAATGAAAGCTTCAATTGGACTGGAGTCGCTCAGAATGGAACAAGCTATGCTTGCAAAAGGAGATCTATTAAAAGTTTCTTTAGTAGATTGAATTGGCTGCACCAATTAAAATACAAGTATCCAGCACTGAACGTGACTATGCCAAACAATGACAAATTTGACAAATTGTACATTTGGGGGGTTCACCACCCGAGTACGGACAGTGACCAAACCAGCCTATATGCTCAAGCATCAGGGAGAGTCACAGTCTCTACCAAAAGAAGCCAACAAACTGTAATCCCGAATATCGGATCTAGACCCTGGGTAAGGGGTGTCTCCAGCAGAATAAGCATCTATTGGACAATAGTAAAACCGGGAGACATACTTTTGATTAACAGCACAGGGAATCTAATTGCTCCTCGGGGTTACTTCAAAATACGAAGTGGGAAAAGCTCAATAATGAGGTCAGATGCACCCATTGGCAAATGCAATTCTGAATGCATCACTCCAAATGGAAGCATTCCCAATGACAAACCATTTCAAAATGTAAACAGGATCACATATGGGGCCTGTCCCAGATATGTTAAGCAAAACACTCTGAAATTGGCAACAGGGATGCGGAATGTACCAGAGAAACAAACTAGA'},\n",
       "   {'taxon': 'A_Pusan_68_1998',\n",
       "    'sequence': 'CAAAAACTTCCCGGAAATGACAACAGCACGGCAACGCTGTGCCTGGGACACCATGCAGTGCCAAACGGAACGCTAGTGAAAACAATCACGAGTGACCAAATTGAAGTGACTAATGCTACTGAGCTGGTTCAGAGTTCCTCAACAGGTAGAATATGCGACAGTCCTCACCGAATCCTTGATGGAGAAAACTGCACACTGATAGATGCTCTATTGGGAGACCCTCATTGTGATGGCTTCCAAAATAAGGAATGGGACCTTTTTGTTGAACGCAGCAAAGCCTACAGCAACTGTTACCCTTATGATGTGCCGGATTATGCCTCCCTTAGGTCACTAGTTGCCTCATCCGGCACCCTGGAGTTTAACAATGAAAGCTTCAATTGGACTGGAGTCGCTCAGAATGGAACAAGCTTTGCTTGCAAAAGGAGATCTATTAAAAGTTTCTTTAGTAGATTGAATTGGTTGCACCAATTAAAATACAAATATCCAGCACTGAACGTGACTATGCCAAACAATGACAAATTTGACAAATTGTACATTTGGGGGGTTCACCACCCGAGTACGGACAGTGACCAAACCAGCCTATATGCTCAAGCATCAGGGAGAGTCACAGTCTCTACCAAAAGAAGCCAACAAACTGTAATCCCGAATATCGGATCTAGACCCTGGGTAAGGGGTGTTTCCAGCAGAATAAGCATCTATTGGACAATAGTGAAACCGGGAGACATACTTCTGATTAACAGCACAGGGAATCTAATTGCTCCTCGGGGTTACTTCAAAATACGAAGTGGGAAAAGCTCAATAATGAAGTCAGATGCACCCATTGGCAAATGCAATTCTGAATGCATCACTCCAAATGGAAGCATTCCCAATGACAAACCATTTCAAAATGTAAACAGGATCACATATGGGGCCTGTCCCAGATATGTTAAGCAAAACACTCTGAAATTGGCAACAGGGATGCGGAATGTACCAGAGAAACAAACTAGA'},\n",
       "   {'taxon': 'A_Seoul_37_1998',\n",
       "    'sequence': 'CAAAAACTTCCCGGAAATGACAACAGCACGGCAACGCTGTGCCTGGGACACCATGCAGTGCCAAACGGAACGCTAGTGAAAACAATCACGAATGACCAAATTGAAGTGACTAATGCTACTGAGCTGGTTCAGAGTTCCTCAACAGGTAGAATATGCGACAGTCCTCACCGAATCCTTGATGGAGAAAACTGCACACTGATAGATGCTCTATTGGGAGACCCTCATTGTGATGGCTTCCAAAATAAGGAATGGGACCTTTTTGTTGAACGCAGCAAAGCCTACAGCAACTGTTACCCTTATGATGTGCAGGATTATGCCTCCCTTAGGTCACTAGTTGCCTCATCCGGCACCCTGGAGTTTAACAATGAAAGCTTCAATTGGACTGGAGTCGCTCAGAATGGAACAAGCTATGCTTGCAAAAGGAGATCTATTAAAAGTTTCTTTAGTAGATTGAATTGGTTGCACCAATTAAAATACAAATATCCAGCACTGAACGTGACTATGCCAAACAATGACAAATTTGACAAATTGTACATTTGGGGGGTTCACCACCCGAGTACGGACAGTGACCAAACAAGCCTATATGCTCAAGCATCAGGGAGAGTCACAGTCTCTACCAAAAGAAGCCAACAAACTGTAATCCCGAATATCGGATCTAGACCCTGGGTAAGGGGTGTCTCCAGCAGAATAAGCATCTATTGGACAATAGTAAAACCGGGAGACATACTTTTGATTAACAGCACAGGGAATCTAATTGCTCCTCGGGGTTACTTCAAAATACGAAGTGGGAAAAGCTCAATAATGAGGTCAGATGCACCCATTGGCAAATGCAATTCTGAATGCATCACTCCAAATGGAAGCATTCCCAATGACAAACCATTTCAAAATGTAAACAGGATCACATATGGGGCCTGTCCCAGATATGTTAAGCAAAACACTCTGAAATTGGCAACAGGGATGCGGAATGTACCAGAGAAACAAACTAGA'},\n",
       "   {'taxon': 'A_Switzerland_7729_1998',\n",
       "    'sequence': 'CAAAAACTTCCCGGAAATGACAACAGCACGGCAACGCTGTGCCTGGGACACCATGCAGTGCCAAACGGAACGCTAGTGAAAACAATCACGAATGACCAAATTGAAGTGACTAATGCTACTGAGCTGGTTCAGAGTTCCTCAACAGGTAGAATATGCGACAGTCCTCACCGAATCCTTGATGGAGAAAACTGCACACTGATAGATGCTCTATTGGGAGACCCTCATTGTGATGGCTTCCAAAATAAGGAATGGGACCTTTTTGTTGAACGCAGCAAAGCCTACAGCAACTGTTACCCTTATGATGTGCAGGATTATGCCTCCCTTAGGTCACTAGTTGCCTCATCCGGCACCCTGGAGTTTAACAATGAAAGCTTCAATTGGACTGAAGTCGCTCAGAATGGAACAAGCTATGCTTGCAAAAGGAGATCTATTAAAAGTTTCTTTAGTAGATTGAATTGGTTGCACCAATTAAAATACAAATATCCAGCACTGAACGTGACTATGCCAAACAATGACAAATTTGACAAATTGTACATTTGGGGGGTTCACCACCCGAGTACGGACAGTGACCAAACCAGCCTATATGCTCAAGCATCAGGGAGAGTCACAGTCTCTACCAAAAGAAGCCAACAAACTGTAATCCCGAATATCGGATCTAGACCCTGGGTAAGGGGTGTCTCCAGCAGAATAAGCATCTATTGGACAATAGTAAAACCGGGAGACATACTTTTGATTAACAGCACAGGGAATCTAATTGCTCCTCGGGGTTACTTCAAAATACGAAGTGGGAAAAGCTCAATAATGAGGTCAGATGCACCCATTGGCAAATGCAATTCTGAATGCATCACTCCAAATGGAAGCATTCCCAATGACAAACCATTTCAAAATGTAAACAGGATCACATATGGGGCCTGTCCCAGATATGTTAAGCAAAACACTCTGAAATTGGCAACAGGGATGCGGAATGTACCAGAGAAACAAACTAGA'},\n",
       "   {'taxon': 'A_Tucuman_V425_1998',\n",
       "    'sequence': 'CAAAAACTTCCCGGAAATGACAACAGCACGGCAACGCTGTGCCTGGGACACCATGCAGTGCCAAACGGAACGCTAGTGAAAACAATCACGAATGACCAAATTGAAGTGACTAATGCTACTGAGCTGGTTCAGAGTTCCTCAACAGGTAGAATATGCGACAGTCCTCACCGAATCCTTGATGGAGAAAACTGCACACTGATAGATGCTCTATTGGGAGACCCTCATTGTGATGGCTTCCAAAATAAGGAATGGGACCTTTTTGTTGAACGCAGCAAAGCCTACAGCAACTGTTACCCTTATGATGTGCCGGATTATGCCTCCCTTAGGTCACTAGTTGCCTCATCCGGCACCCTGGAGTTTAACAATGAAAGCTTCAATTGGACTGAAGTCGCTCAGAATGGAACAAGCTCTGCTTGCAAAAGGAGATCTATTAAAAGTTTCTTTAGTAGATTGAATTGGTTGCACCAATTAAAATACAAATATCCAGCACTGAACGTGACTATGCCAAACAATGACAAATTTGACAAATTGTACATTTGGGGGGTTCACCACCCGAGTACGGACAGTGACCAAACCAGCATATATGCTCAAGCATCAGGGAGAGTCACAGTCTCTACCAAAAGAAGCCAACAAACTGTAATCCCGAATATCGGATCTAGACCCTGGATAAGGGGTGTCTCCAGCAGAATAAGCATCTATTGGACAATAGTAAAACCGGGAGACATACTTTTGATTAACAGCACAGGGAATCTAATTGCTCCTCGGGGTTACTTCAAAATACGAAGTGGGAAAAGCTCAATAATGAGGTCAGATGCACCCATTGGCAAATGCAATTCTGAATGCATCACTCCAAATGGAAGCATTCCCAATGACAAACCATTTCAAAATGTAAACAGGATCACATATGGGGCCTGTCCCAGATATGTTAAGCAAAACACTCTTAAATTGGCAACAGGGATGCGGAATGTACCAGAGAAACAAACT---'},\n",
       "   {'taxon': 'A_Ushuaia_R127_1998',\n",
       "    'sequence': 'CAAAAACTTCCCGGAAATGACAACAGCACGGCAACGCTGTGCCTGGGACACCATGCAGTGCCAAACGGAACGCTAGTGAAAACAATCACGAATGACCAAATTGAAGTGACTAATGCTACTGAGCTGGTTCAGAGTTCCTCAACAGGTAGAATATGCGACAGTCCTCACCGAATCCTTGATGGAGAAAACTGCACACTGATAGATGCTCTATTGGGAGACCCTCATTGTGATGGCTTCCAAAATAAGGAATGGGACCTTTTTGTTGAACGCAGCAAAGCCTACAGCAACTGTTACCCTTATGATGTGCCGGATTATGCCTCCCTTAGGTCACTAGTTGCCTCATCCGGCACCCTGGAGTTTAACAATGAAAGCTTCAATTGGACTGGAGTCGCTCAGAATGGAACAAGCTCTGCTTGCAAAAGGAGATCTATTAAAAGTTTCTTTAGTAGATTGAATTGGTTGCACCAATTAAAATACAAATATCCAGCACTGAACGTGACTATGCCAAACAATGACAAATTTGACAAATTGTACATTTGGGGGGTTCACCACCCGAGTACGGACAGTGACCAAACCAGCCTATATGCTCAAGCATCAGGGAGAGTCACAGTCTCTACCAAAAGAAGCCAACAAACTGTACTCCCGAATATCGGATCTAGACCCTGGGTAAGGGGTGTCTCCAGCAGAATAAGCATCTATTGGACAATAGTAAAACCGGGAGACATACTTTTGATTAACAGCACAGGGAATCTAATTGCTCCTCGGGGTTACTTCAAAATACGAAGTGGGAAAAGCTCAATAATGAGGTCAGATGCACCCATTGGCAAATGCAATTCTGAATGCATCACTCCAAATGGAAGCATTCCCAATGACAAACCATTTCAAAATGTAAACAGGATCACATATGGGGCCTGTCCCAGATATGTTAAGCAAAACACTCTGAAATTGGCAACAGGGATGCGGAATGTACCAGAGAAACAAACT---'},\n",
       "   {'taxon': 'A_Waikato_12_1998',\n",
       "    'sequence': 'CAAAAACTTCCCGGAAATGACAACAGCACGGCAACGCTGTGCCTGGGACACCATGCAGTGCCAAACGGAACGCTAGTGAAAACAATCACGAATGACCAAATTGAAGTGACTAATGCTACTGAGCTGGTTCAGAGTTCCTCAACAGATAGAATATGCGACAGTCCTCACCAAATCCTTGATGGAGAAAACTGCACACTGATAGATGCTCTATTGGGAGACCCTCATTGTGATGGCTTCCAAAATAAGGAATGGGACCTTTTTGTTGAACGCAGCAAAGCCTACAGCAACTGTTACCCTTATGATGTGCCGGATTATGCCTCCCTTAGGTCACTAGTTGCCTCATCCGGCACCCTGGAGTTTAACAATGAAAGCTTCAATTGGACTGGAGTCGCTCAGAATGGAACAAGCTCTGCTTGCAAAAGGAGATCTATTAAAAGTTTCTTTAGTAGATTGAATTGGTTGCACCAATTAAAATACAAATATCCAGCACTGAACGTGACTATGCCAAACAATGACAAATTTGACAAATTGTACATTTGGGGGGTTCACCACCCGAGTACGGACAGTGACCAAACCAGCCTATATGCTCAAGCATCAGGGAGAGTCACAGTCTCTACCAAAAGAAGCCAACAAACTGTAATCCCGAATATCGGATCTAGACCCTGGGTAAGGGGTGTCTCCAGCAGAATAAGCATCTATTGGACAATAGTAAAACCGGGAGACATACTTTTGATTAACAGCACAGGGAATCTAATTGCTCCTCGGGGTTACTTCAAAATACGAAGTGGGAAAAGCTCAATAATGAGGTCAGATGCACCCATTGGCAAATGCAATTCTGAATGCATCACTCCAAATGGAAGCATTCCCAATGACAAACCATTTCAAAATGTAAACAGGATCACATATGGGGCCTGTCCCAGATATGTTAAGCAAAACACTCTGAAATTGGCAACAGGGATGCGGAATGTACCAGAGAAACAAACTAGA'},\n",
       "   {'taxon': 'A_Czechoslovakia_4_1986',\n",
       "    'sequence': 'CAAAAACTTCCCGGAAATGACAACAGCACAGCAACGCTGTGCCTGGGACATCATGCAGTGCCAAACGGAACGCTAGTGAAAACAATCACGAATGATCAGATTGAAGTGACTAATGCTACTGAGCTGGTTCAGAGTTCCTCAACAGGTAGAATATGCGACAGTCCTCACCGAATCCTTGATGGAAAAAACTGCACACTGATAGATGCTCTATTGGGAGACCCTCATTGTGATGGCTTCCAAAATGAGAAATGGGACCTTTTTATTGAACGCAGCAAAGCTTTCAGCAACTGTTACCCTTATGATGTGCCGGATTATGCCTCCCTTAGGTCACTAGTTGCCTCATCAGGCACCCTGGAGTTTATCAATGAAGGCTTCAATTGGACTGGAGTCACTCAGAGTGGGGGAAGCTATGCTTGCAAAAGGGGATCTGTTAACAGTTTCTTCAGTAGATTGAATTGGTTGTACGAATCAGAATACAAATATCCAGCGCTGAACGTGACTATGCCAAACAATGGCAAATTTGACAAACTGTACATTTGGGGGGTTCACCACCCGATCACGGAAAAAGAACAAACCAACCTATATGTTCGAGCATCAGGGAGAGTCACAGTCTCTACCAAGAGAAGCCAGCAAACTGTAATCCCGAATATCGGGTCTAGACCCTGGGTAAGGGGTCTGTCTAGTAGAATAAGCATCTATTGGACAATAGTAAAACCGGGAGACATACTGTTAATTAATAGCACTGGGAACCTAATTGCTCCTCGGGGTTACTTCAAAATACGCACTGGGAAAAGCTCAATAATGAGGTCAGATGCACCTATTGGCACCTGCAGTTCTGAATGCATCACTCCAAATGGAAGCATTCCCAATGACAAACCCTTTCAAAATGTAAACAAGATCACATATGGGGCATGTCCCAGGTATGTTAAGCAAAACACTCTGAAATTGGCAACAGGGATGCGGAATGTACCAGAGAAACAAACTAGA'},\n",
       "   {'taxon': 'A_Leningrad_360_1986',\n",
       "    'sequence': 'CAAAAACTTCCCGGAAATGACAACAGCACAGCAACGCTGTGCCTGGGACATCATGCAGTGCCAAACGGAACGCTAGTGAAAACAATCACGAATGATCAGATTGAAGTGACTAATGCTACTGAGCTGGTTCAGAGTTCCTCAACAGGTAGAATATGCGACAGTCCTCACCGAATCCTTGATGGAAAAAACTGCACACTGATAGATGCTCTATTGGGAGACCCTCATTGTGATGGCTTCCAAAATGAGAAATGGGACCTTTTTATTGAACGCAGCAAAGCTTTCAGCAACTGTTACCCTTATGATGTGCCGGATTATGCCTCCCTTAGGTCACTAGTTGCCTCATCAGGCACCCTGGAGTTTATCAATGAAGGCTTCAATTGGACTGGAGTCACTCAGAGTGGGGGAAGCTATACTTGTAAAAGGGGATCTGTTAACAGTTTCTTCAGTAGATTGAATTGGTTGTACGAATCAGAATACAAATATCCAGCGCTGAACGTGACTATGCCAAACAATGGCAAATTTGACAAATTGTACATTTGGGGGGTTCACCACCCGAGCACGGAAAAAGAACAAACCAACCTATATGTTCGAGCATCAGGGAGAGTCACAGTCTCTACCAAGAGAAGCCAGCAAACTGTAATCCCGAATATCGGGTCTAGACCATGGGTAAGGGGTCTGTCTAGTAGAATAAGCATCTATTGGACAATAGTAAAACCGGGAGACATACTGTTGATTAATAGCACTGGGAACCTAATTGCTCCTCGGGGTTACTTCAAAATACGCACTGGGAAAAGCTCAATAATGAGGTCAGATGCACCTATTGGCACCTGCAGTTCTGAATGCATCACTCCAAATGGAAGCATTCCCAATGACAAACCCTTTCAAAATGTAAACAAGATCACATATGGGGCATGTCCCAGGTATGTTAAGCAAAACACTCTGAAATTGGCAACAGGGATGCGGAATGTACCAGAGAAACAAACTAGA'},\n",
       "   {'taxon': 'A_Memphis_6_1986',\n",
       "    'sequence': 'CAAAAACTTCCCGGAAATGACAACAGCACAGCAACGCCGTGTCTGGGACATCATGCAGTGCCAAACGGAACGCTAGTAGAAACAATCACGAATGATCAGATTGAAGTGACTAATGCTACTGAGCTGGTTCAGAGTTCCTCAACAGGTAGAATATGCGACAGTCCTCACCGAATCCTTGATGGAAAAAACTGCACACTGATAGATGCTCTATTGGGAGACCCTCATTGTGATGGCTTCCAAAATGAGAAATGGGACCTTTTTATTGAACGCAGCAAAGCTTTCAGCAACTGTTACCCTTATGATGTGCCGGATTATGCCTCCCTTAGGTCACTAGTTGCCTCATCAGGCACCCTGGAGTTTATCAATGAAGGCTTCAATTGGACTGGAGTCACTCAGAGTGGGGGAAGCTATGCTTGCAAAAGGGGATCTGTTAACAGTTTCTTCAGTAGATTGAATTGGTTGTACGAATCAGAATACAAATATCCAGCGCTGAACGTGACTATGCCAAACAATGGCAAATTTGACAAACTGTACATTTGGGGGGTTCACCACCCGAGCACGGAAAAAGAACAAACCAACCTATATGTTCGAGCATCAGGGAGAGTCACAGTCTCTACCAAGAGAAGCCAGCAAACTGTAATCCCGAATATCGGGTCTAGACCCTGGGTAAGGGGTCTGTCCAGTAGAATAAGCATCTATTGGACAATAGTAAAACCGGGAGACATACTGTTGATTAATAGCACTGGGAACCTAATTGCTCCTCGGGGTTACTTCAAAATACGCACTGGGAAAAGCTCAATAATGAGGTCAGATGCACCTATTGGCACCTGCAGTTCTGAATGCATCACTCCAAATGGAAGCATTCCCAATGACAAACCCTTTCAAAATGTAAACAAGATCACATATGGGGCATGTCCCAGGTATGTTAAGCAAAACACTCTGAAATTGGCAACAGGGATGCGGAATGTACCAGAGAAACAAACTAGA'},\n",
       "   {'taxon': 'A_Wellington_4_1985',\n",
       "    'sequence': 'CAAAAACTGCCTGGAAATGACAACAGCACAGCAACGCTGTGCCTGGGACATCATGCAGTGCCAAACGGAACGCTAGTGAAAACAATCACGAATGATCAGATTGAAGTGACTAATGCTACTGAGCTGGTTCAGAGTTCCTCAACAGGTAGAATATGCGACAGTCCTCACCGAATCCTTGATGGAAAAAACTGCACACTGATAGATGCTCTATTGGGAGACCCTCATTGTGATGGCTTCCAAAATGAGAAATGGGACCTTTTTGTTGAACGCAGCAAAGCTTTCAGCAACTGTTACCCTTATGATGTGCCTGATTATGCCTCCCTTAGGTCACTAGTTGCCTCATCAGGCACCCTGGAGTTTATCAATGAAGGCTTCAATTGGACTGGAGTCACTCAGAGTGGGGGAAGCTATGCTTGCAAAAGGGGATCTGTTAACAGTTTCTTCAGTAGATTGAATTGGTTGTACGAATCAGAATACAAATATCCAGCGCTGAACGTGACTATGCCAAACAATGGCAAATTTGACAAATTGTACATTTGGGGGGTTCACCACCCGAGCACGGACAAAGAACAAACCAACCTATATGTTCGAGCATCAGGGAGAGTCACAGTCTCTACCAAGAGAAGCCAGCAAACTGTAATCCCGAATATCGGGTCTAGACCCTGGGTAAGAGGTCTGTCCAGTAGAATAAGCATCTATTGGACAATAGTAAAACCGGGAGACATACTGTTGATTAATAGCACTGGGAACCTAATTGCTCCTCGGGGTTACTTCAAAATACGCACTGGGAAAAGCTCAATAATGAGGTCAGATGCACCTATTGGCACCTGCAGTTCTGAATGCATCACTCCAAATGGAAGCATTCCCAATGACAAACCCTTTCAAAATGTAAACAAGATCACATATGGGGCATGTCCCAGGTATGTTAAGCAAAACACTCTGAAATTGGCAACAGGGATGCGGAATGTACCAGAGAAACAAACTAGA'},\n",
       "   {'taxon': 'A_Tonga_23_1985',\n",
       "    'sequence': 'CAAAAACTTCCCGGAAATGACAACAGCACAGCAACGCTGTGCCTGGGACATCATGCAGTGCCAAACGGAACGCTAGTGAAAACAATCACGAATGATCAGATTGAAGTGACTAATGCTACTGAGCTGGTTCAGAGTTCCTCAATAGGTAGAATATGCGACAGTCCTCACCGAATCCTTGATGGAAAAAACTGCACACTGATAGATGCTCTATTGGGAGACCCTCATTGTGATGGCTTCCAAAATGAGAAATGGGACCTTTTTGTTGAACGCAGCAAAGCTTTCAGCAACTGTTACCCTTATGATGTGCCGGATTATGCCTCCCTTAGGTCACTAGTTGCCTCATCAGGCACCCTGGAGTTTATCAATGAAGGCTTCAATTGGACTGGAGTCACTCAGAGTGGGGGAAGCTCTGCTTGCAAAAGGGGATCTGTTAACAGTTTCTTCAGTAGATTGAATTGGTTGTACAAATCAGAATACAAATATCCAGCGCTGAACGTGACTATGCCAAACAATGGCAAATTTGACAAATTGTACATTTGGGGGGTTCACCACCCGAGCACGGACAAAGAACAAACCAACCTATATGTTCGAGCATCAGGGAGAGTCACAGTCTCTACCAAGAGAAGCCAGCAAACTGTAATCCCGAATATCGGGTCTAGACCCTGGGTAAGAGGTCTGTCTAGTAGAATAAGCATCTATTGGACAATAGTAAAACCTGGAGACATACTGTTGATTAATAGCACTGGGAACCTAATTGCTCCTCGGGGTTACTTCAAAATACGCACTGGGAAAAGCTCAATAATGAGGTCAGATGCACCTATTGGCACCTGCAGTTCTGAATGCATCACTCCAAATGGAAGCATTCCCAATGACAAACCCTTTCAAAATGTAAACAAGATCACATATGGGGCATGTCCCAGGTATGTTAAGCAAAACACTCTGAAATTGGCAACAGGGATGCGGAATGTACCAGAGAAACAAACTAGA'}]},\n",
       " {'id': 'joint',\n",
       "  'type': 'JointDistributionModel',\n",
       "  'distributions': [{'id': 'like',\n",
       "    'type': 'TreeLikelihoodModel',\n",
       "    'tree_model': {'id': 'tree',\n",
       "     'type': 'UnRootedTreeModel',\n",
       "     'newick': '(((((((((((((((((((((((A_Aichi_69_1994:0.761119957483416,((A_Athens_1_1998:1.77960546386231,(((((A_Christchurch_45_1998:0.18382663880472105,A_Waikato_12_1998:0.18382663880472105):0.36080685757901976,(A_Nagasaki_76_1998:0.4683586942800507,A_Ushuaia_R127_1998:0.4683586942800507):0.07627480210369009):0.07665539949443301,(A_Cordoba_V185_1998:0.42013593002764343,A_Tucuman_V425_1998:0.42013593002764343):0.20115296585053039):0.03328825741009933,((((((A_JOHANNESBURG_3_1998:0.06543681392374098,A_Neuquen_V541_1998:0.06543681392374098):0.12559877256022828,A_Seoul_37_1998:0.19103558648396926):0.02851185075593457,A_Switzerland_7729_1998:0.21954743723990383):0.12370209856431102,A_PERTH_24_1998:0.34324953580421486):0.20173113562224637,A_MALMO_1_1998:0.5449806714264612):0.0574910637513778,A_Pusan_68_1998:0.602471735177839):0.05210541811043412):0.16173751115964685,A_Greece_103_1998:0.81631466444792):0.96329079941439):2.807683231679572,A_Shangdong_5_1994:0.5872886955418819):0.1738312619415341):0.8054851777952443,((((A_Argentina_3779_1994:0.3280215863955993,A_Johannesburg_33_1994:0.3280215863955993):0.05633023389252756,A_HongKong_1_1994:0.38435182028812687):0.1225054221114652,A_England_67_1994:0.5068572423995921):0.3153017874290107,A_Pennsylvania_7_1994:0.8221590298286028):0.7444461054500575):0.1117041564039738,(((A_Akita_1_1994:0.6417587798584359,A_Vermont_3_1994:0.6417587798584359):0.05127233466151093,A_Romania_160_1994:0.6930311145199468):0.47541600449847365,A_Santiago_7198_1994:1.1684471190184205):0.5098621726642136):0.047631087415734186,(A_Singapore_7_1994:1.1305477759728984,A_Thailand_75_1994:1.1305477759728984):0.5953926031254699):0.4338339424951094,A_Harbin_15_1992:0.1597743215934777):0.02629920620920867,A_Sapporo_304_1992:0.18607352780268638):0.1937484748838907,(A_Beijing_32_1992:0.23695409632825193,A_Tianjin_33_1992:0.23695409632825193):0.14286790635832514):0.1591978420861624,A_Alaska_9_1992:0.5390198447727395):0.12628662793003453,A_Hawaii_3_1992:0.665306472702774):0.0842046904371454,((A_California_271_1992:0.451897299281085,A_France_1109_1994:2.451897299281085):0.1572740000983215,A_Qingdao_53_1992:0.6091712993794065):0.14033986376051288):1.0777933630502368,A_Perth_1_1992:1.8273045261901562):0.7301151810754547,(((A_Finland_205_1992:0.13077691856428508,A_Mexico_3255_1994:2.130776918564285):0.443510083848059,A_SouthAustralia_36_1992:0.5742870024123441):0.8306358088764121,((A_Indonesia_3946_1992:0.3229462972945232,A_Umea_1_1992:0.3229462972945232):0.137940246693538,(A_Victoria_29_1992:0.38730776979656234,A_Wellington_66_1992:0.38730776979656234):0.07357877419149883):0.944036267300695):1.1524968959768547):2.9089261572998097,(A_Guangdong_9_1987:0.017198347860013286,A_Sichuan_2_1987:0.017198347860013286):0.4491475167054073):0.10465592148998759,(A_Sydney_1_1987:0.4728837583601262,A_Tokyo_1275_1987:0.4728837583601262):0.098118027695282):0.10660804403484114,A_Victoria_7_1987:0.6776098300902493):0.2830481789149868,(A_Colorado_2_1987:0.6970395797457538,((A_Guizhou_1_1987:0.3294708875986849,A_Qingdao_10_1987:0.3294708875986849):0.14581436538279213,(A_LosAngeles_1987:0.2080843644249839,A_Shanghai_11_1987:0.2080843644249839):0.26720088855649315):0.22175432676427675):0.2636184292594823):1.3960105466893005,((A_Czechoslovakia_4_1986:0.7324724768450999,A_Memphis_6_1986:0.7324724768450999):0.23780269841325996,A_Leningrad_360_1986:0.9702751752583598):0.38639338043617677):0.2954618004514806,(A_Tonga_23_1985:0.5359949423414125,A_Wellington_4_1985:0.5359949423414125):0.11613541380460468):1.5799204291316418,A_Texas_12764_1983:0.232050785277659):0.2731286767267669,A_Alaska_8_1984:1.5051794620044259):0.17177455784891293,((A_Caen_1_1984:1.1478076744720962,A_Oita_3_1983:0.1478076744720962):0.48275071680632564,A_Texas_17988_1984:1.6305583912784218):0.04639562857491697):1.2615765324262416,A_Philippines_2_1982:0.9385305522795804):1.615956610302284,((A_Baylor1B_1983:2.65070571597235,A_ChristHospital_231_1982:1.6507057159723502):0.5244230005194801,A_Belgium_2_1981:1.1751287164918303):0.3793584460900341);',\n",
       "     'branch_lengths': {'id': 'tree.blens',\n",
       "      'type': 'Parameter',\n",
       "      'full': [135],\n",
       "      'tensor': 0.1,\n",
       "      'lower': 0.0},\n",
       "     'taxa': 'taxa'},\n",
       "    'site_model': {'id': 'sitemodel',\n",
       "     'type': 'InvariantSiteModel',\n",
       "     'invariant': {'id': 'sitemodel.pinv',\n",
       "      'type': 'Parameter',\n",
       "      'tensor': [0.1],\n",
       "      'lower': 0,\n",
       "      'upper': 1}},\n",
       "    'site_pattern': {'id': 'patterns',\n",
       "     'type': 'SitePattern',\n",
       "     'alignment': 'alignment'},\n",
       "    'substitution_model': {'id': 'substmodel',\n",
       "     'type': 'GTR',\n",
       "     'rates': {'id': 'substmodel.rates',\n",
       "      'type': 'Parameter',\n",
       "      'full': [6],\n",
       "      'tensor': 0.16666666666666666,\n",
       "      'simplex': True},\n",
       "     'frequencies': {'id': 'substmodel.frequencies',\n",
       "      'type': 'Parameter',\n",
       "      'tensor': [0.25, 0.25, 0.25, 0.25],\n",
       "      'simplex': True}}},\n",
       "   {'id': 'tree.blens.prior',\n",
       "    'type': 'Distribution',\n",
       "    'distribution': 'torch.distributions.Exponential',\n",
       "    'x': 'tree.blens',\n",
       "    'parameters': {'rate': 10.0}},\n",
       "   {'id': 'sitemodel.pinv.prior',\n",
       "    'type': 'Distribution',\n",
       "    'distribution': 'torch.distributions.Exponential',\n",
       "    'x': 'sitemodel.pinv',\n",
       "    'parameters': {'rate': 2.0}},\n",
       "   {'id': 'substmodel.frequencies.prior',\n",
       "    'type': 'Distribution',\n",
       "    'distribution': 'torch.distributions.Dirichlet',\n",
       "    'x': 'substmodel.frequencies',\n",
       "    'parameters': {'concentration': [1.0, 1.0, 1.0, 1.0]}},\n",
       "   {'id': 'substmodel.rates.prior',\n",
       "    'type': 'Distribution',\n",
       "    'distribution': 'torch.distributions.Dirichlet',\n",
       "    'x': 'substmodel.rates',\n",
       "    'parameters': {'concentration': [1.0, 1.0, 1.0, 1.0, 1.0, 1.0]}}]}]"
      ]
     },
     "execution_count": 28,
     "metadata": {},
     "output_type": "execute_result"
    }
   ],
   "source": [
    "json_list = []\n",
    "json_list.append(taxa)\n",
    "json_list.append(alignment)\n",
    "json_list.append(joint_dic)\n",
    "json_list"
   ]
  },
  {
   "cell_type": "markdown",
   "id": "ae5b9091",
   "metadata": {},
   "source": [
    "## IV. Variational meanfield distribution"
   ]
  },
  {
   "cell_type": "markdown",
   "id": "82bd3504",
   "metadata": {},
   "source": [
    "### 1. Variational independent distributions"
   ]
  },
  {
   "cell_type": "code",
   "execution_count": 29,
   "id": "94ddabc7",
   "metadata": {},
   "outputs": [],
   "source": [
    "var_dist = \"Normal\"\n",
    "var_id = 'var.' + var_dist"
   ]
  },
  {
   "cell_type": "code",
   "execution_count": 30,
   "id": "c5cd7a7e",
   "metadata": {},
   "outputs": [],
   "source": [
    "# convert Parameters with constraints to TransformedParameters\n",
    "# and create variational distributions\n",
    "\n",
    "# TO_DO not use directlly create_meanfield()\n",
    "var_distributions, var_parameters = create_meanfield(var_id, json_list, var_dist)\n",
    "\n",
    "# Jacobian\n",
    "# I don't think this is useful here\n",
    "jacobians_list = create_jacobians(json_list)\n",
    "joint_dic['distributions'].extend(jacobians_list)"
   ]
  },
  {
   "cell_type": "markdown",
   "id": "2c6dbe56",
   "metadata": {},
   "source": [
    "### 2. Variational joint distribution *Q*()"
   ]
  },
  {
   "cell_type": "code",
   "execution_count": 31,
   "id": "e43ef96b",
   "metadata": {},
   "outputs": [],
   "source": [
    "# Variational joint distribution\n",
    "variational = {'id': \"variational\", 'type': 'JointDistributionModel'}\n",
    "\n",
    "variational['distributions'] = var_distributions\n",
    "json_list.append(variational)"
   ]
  },
  {
   "cell_type": "markdown",
   "id": "1d50d231",
   "metadata": {},
   "source": [
    "## V. Fitting the variational model using ADVI\n",
    "\n",
    "### 1. Automatic Differentiation Variational Inference (ADVI)"
   ]
  },
  {
   "cell_type": "code",
   "execution_count": 32,
   "id": "3a6bae45",
   "metadata": {},
   "outputs": [],
   "source": [
    "## Hyperparams\n",
    "lr = 0.1\n",
    "iterations = 100000\n",
    "grad_samples = 1\n",
    "convergence_every = 100\n",
    "elbo_samples = 100\n",
    "tol_rel_obj = 0.01"
   ]
  },
  {
   "cell_type": "code",
   "execution_count": 33,
   "id": "b13c5ebe",
   "metadata": {},
   "outputs": [],
   "source": [
    "# Initialize optimizer\n",
    "advi_dic = {\n",
    "    'id': 'advi',\n",
    "    'type': 'Optimizer',\n",
    "    'algorithm': 'torch.optim.Adam',\n",
    "    'options': {'lr': lr},\n",
    "    'maximize': True,\n",
    "    'checkpoint': checkpoint_file,\n",
    "    'iterations': iterations,\n",
    "    'loss': {\n",
    "        'id': 'elbo',\n",
    "        'type': 'ELBO',\n",
    "        'samples': grad_samples,\n",
    "        'joint': 'joint', \n",
    "        'variational': 'variational',\n",
    "        },\n",
    "    'parameters': var_parameters,\n",
    "}"
   ]
  },
  {
   "cell_type": "code",
   "execution_count": 34,
   "id": "6ea76c60",
   "metadata": {},
   "outputs": [],
   "source": [
    "# Initialize convergence\n",
    "advi_dic['convergence'] = {\n",
    "    'type': 'StanVariationalConvergence',\n",
    "    'max_iterations': iterations,\n",
    "    'loss': 'elbo',\n",
    "    'every': convergence_every,\n",
    "    'samples': elbo_samples,\n",
    "    'tol_rel_obj': tol_rel_obj,\n",
    "    }\n"
   ]
  },
  {
   "cell_type": "code",
   "execution_count": 35,
   "id": "18a9f4f8",
   "metadata": {},
   "outputs": [],
   "source": [
    "# Initialize scheduler\n",
    "advi_dic['scheduler'] = {\n",
    "    'type': 'torchtree.optim.Scheduler',\n",
    "    'scheduler': 'torch.optim.lr_scheduler.LambdaLR',\n",
    "    'lr_lambda': 'lambda epoch: 1.0 / (epoch + 1)**0.5',\n",
    "}\n",
    "\n",
    "json_list.append(advi_dic)"
   ]
  },
  {
   "cell_type": "code",
   "execution_count": 36,
   "id": "5eca0133",
   "metadata": {},
   "outputs": [
    {
     "data": {
      "text/plain": [
       "[{'id': 'taxa',\n",
       "  'type': 'Taxa',\n",
       "  'taxa': [{'id': 'A_Belgium_2_1981', 'type': 'Taxon'},\n",
       "   {'id': 'A_ChristHospital_231_1982', 'type': 'Taxon'},\n",
       "   {'id': 'A_Philippines_2_1982', 'type': 'Taxon'},\n",
       "   {'id': 'A_Baylor1B_1983', 'type': 'Taxon'},\n",
       "   {'id': 'A_Oita_3_1983', 'type': 'Taxon'},\n",
       "   {'id': 'A_Texas_12764_1983', 'type': 'Taxon'},\n",
       "   {'id': 'A_Alaska_8_1984', 'type': 'Taxon'},\n",
       "   {'id': 'A_Caen_1_1984', 'type': 'Taxon'},\n",
       "   {'id': 'A_Texas_17988_1984', 'type': 'Taxon'},\n",
       "   {'id': 'A_Colorado_2_1987', 'type': 'Taxon'},\n",
       "   {'id': 'A_Guangdong_9_1987', 'type': 'Taxon'},\n",
       "   {'id': 'A_Guizhou_1_1987', 'type': 'Taxon'},\n",
       "   {'id': 'A_LosAngeles_1987', 'type': 'Taxon'},\n",
       "   {'id': 'A_Qingdao_10_1987', 'type': 'Taxon'},\n",
       "   {'id': 'A_Shanghai_11_1987', 'type': 'Taxon'},\n",
       "   {'id': 'A_Sichuan_2_1987', 'type': 'Taxon'},\n",
       "   {'id': 'A_Sydney_1_1987', 'type': 'Taxon'},\n",
       "   {'id': 'A_Tokyo_1275_1987', 'type': 'Taxon'},\n",
       "   {'id': 'A_Victoria_7_1987', 'type': 'Taxon'},\n",
       "   {'id': 'A_Alaska_9_1992', 'type': 'Taxon'},\n",
       "   {'id': 'A_Beijing_32_1992', 'type': 'Taxon'},\n",
       "   {'id': 'A_California_271_1992', 'type': 'Taxon'},\n",
       "   {'id': 'A_Finland_205_1992', 'type': 'Taxon'},\n",
       "   {'id': 'A_Harbin_15_1992', 'type': 'Taxon'},\n",
       "   {'id': 'A_Hawaii_3_1992', 'type': 'Taxon'},\n",
       "   {'id': 'A_Indonesia_3946_1992', 'type': 'Taxon'},\n",
       "   {'id': 'A_Perth_1_1992', 'type': 'Taxon'},\n",
       "   {'id': 'A_Qingdao_53_1992', 'type': 'Taxon'},\n",
       "   {'id': 'A_Sapporo_304_1992', 'type': 'Taxon'},\n",
       "   {'id': 'A_SouthAustralia_36_1992', 'type': 'Taxon'},\n",
       "   {'id': 'A_Tianjin_33_1992', 'type': 'Taxon'},\n",
       "   {'id': 'A_Umea_1_1992', 'type': 'Taxon'},\n",
       "   {'id': 'A_Victoria_29_1992', 'type': 'Taxon'},\n",
       "   {'id': 'A_Wellington_66_1992', 'type': 'Taxon'},\n",
       "   {'id': 'A_Aichi_69_1994', 'type': 'Taxon'},\n",
       "   {'id': 'A_Akita_1_1994', 'type': 'Taxon'},\n",
       "   {'id': 'A_Argentina_3779_1994', 'type': 'Taxon'},\n",
       "   {'id': 'A_England_67_1994', 'type': 'Taxon'},\n",
       "   {'id': 'A_France_1109_1994', 'type': 'Taxon'},\n",
       "   {'id': 'A_HongKong_1_1994', 'type': 'Taxon'},\n",
       "   {'id': 'A_Johannesburg_33_1994', 'type': 'Taxon'},\n",
       "   {'id': 'A_Mexico_3255_1994', 'type': 'Taxon'},\n",
       "   {'id': 'A_Pennsylvania_7_1994', 'type': 'Taxon'},\n",
       "   {'id': 'A_Romania_160_1994', 'type': 'Taxon'},\n",
       "   {'id': 'A_Santiago_7198_1994', 'type': 'Taxon'},\n",
       "   {'id': 'A_Shangdong_5_1994', 'type': 'Taxon'},\n",
       "   {'id': 'A_Singapore_7_1994', 'type': 'Taxon'},\n",
       "   {'id': 'A_Thailand_75_1994', 'type': 'Taxon'},\n",
       "   {'id': 'A_Vermont_3_1994', 'type': 'Taxon'},\n",
       "   {'id': 'A_Athens_1_1998', 'type': 'Taxon'},\n",
       "   {'id': 'A_Christchurch_45_1998', 'type': 'Taxon'},\n",
       "   {'id': 'A_Cordoba_V185_1998', 'type': 'Taxon'},\n",
       "   {'id': 'A_Greece_103_1998', 'type': 'Taxon'},\n",
       "   {'id': 'A_JOHANNESBURG_3_1998', 'type': 'Taxon'},\n",
       "   {'id': 'A_MALMO_1_1998', 'type': 'Taxon'},\n",
       "   {'id': 'A_Nagasaki_76_1998', 'type': 'Taxon'},\n",
       "   {'id': 'A_Neuquen_V541_1998', 'type': 'Taxon'},\n",
       "   {'id': 'A_PERTH_24_1998', 'type': 'Taxon'},\n",
       "   {'id': 'A_Pusan_68_1998', 'type': 'Taxon'},\n",
       "   {'id': 'A_Seoul_37_1998', 'type': 'Taxon'},\n",
       "   {'id': 'A_Switzerland_7729_1998', 'type': 'Taxon'},\n",
       "   {'id': 'A_Tucuman_V425_1998', 'type': 'Taxon'},\n",
       "   {'id': 'A_Ushuaia_R127_1998', 'type': 'Taxon'},\n",
       "   {'id': 'A_Waikato_12_1998', 'type': 'Taxon'},\n",
       "   {'id': 'A_Czechoslovakia_4_1986', 'type': 'Taxon'},\n",
       "   {'id': 'A_Leningrad_360_1986', 'type': 'Taxon'},\n",
       "   {'id': 'A_Memphis_6_1986', 'type': 'Taxon'},\n",
       "   {'id': 'A_Wellington_4_1985', 'type': 'Taxon'},\n",
       "   {'id': 'A_Tonga_23_1985', 'type': 'Taxon'}]},\n",
       " {'id': 'alignment',\n",
       "  'type': 'Alignment',\n",
       "  'datatype': {'id': 'data_type', 'type': 'NucleotideDataType'},\n",
       "  'taxa': 'taxa',\n",
       "  'sequences': [{'taxon': 'A_Belgium_2_1981',\n",
       "    'sequence': 'CAAAAACTTCCCGGAAATGACAACAGCACAGCAACGCTGTGCCTGGGACACCATGCAGTGCCAAACGGAACGCTAGTGAAAACAATCACGAATGATCAGATTGAAGTGACTAATGCTACTGAGCTGGTTCAGAGTTCCTCAACAGGTAGAATATGCGACAGTCCTCATCGGATCCTTGATGGGAAAAACTGCACACTGGTAGATGCTCTATTGGGAGACCCTCATTGTGATGGCTTTCAAAATGAGAAATGGGACCTTTTTGTTGAACGCAGCAAAGCTTTCAGCAACTGTTACCCTTATGATGTGCCAGATTATGCCTCCCTTAGGTCACTAGTTGCCTCGTCAGGCACCCTGGAGTTTATCAATGAAAGCTTCAATTGGACTGGAGTCACTCAGAGTGGGGGAAGCTATGCTTGCAAAAGGGGATCTGATAAAAGTTTCTTCAGTAGACTGAATTGGTTGTACGAATCAGAAAGCAGATATCCAGTGCTGAACGTGACTATGCCAAACAATGGCAATTTTGACAAACTGTACATTTGGGGGGTTCACCACCCGAGCACGGACAAAGAACAAACCAACCTATATGTTCGAGCATCAGGGAGAGTCACAGTCTCTACCAAGAGAAGCCAGCAAACTATAATCCCGAATATCGGGTCTAGACCCTGGGTAAGGGGTCTGTCTAGCAGAATAAGCATCTATTGGACAATAGTAAAACCGGGAGACATACTGTTAATTAATAGTAATGGGAACCTAATTGCTCCTCGGGGTTACTTCAAAATGCGCACTGGGAAAAGCTCAATAATGAGGTCAGATGCACCTATTGGCACCTGCAGTTCTGAATGCATCACTCCAAATGGAAGCATTCCCAATGACAAGCCCTTTCAAAATGTAAACAAGATCACATATGGGGCATGTCCCAAGTATGTTAAGCAAAACACTCTGAAGTTGGCAACAGGGATGCGGAATGTACCAGAGAAACAAACTAGA'},\n",
       "   {'taxon': 'A_ChristHospital_231_1982',\n",
       "    'sequence': 'CAAAACCTTCCCGGAAATGACAACAGCACAGCAACGCTGTGCCTGGGACACCATGCAGTGCCAAACGGAACGCTAGTGAAAACAATCACGAATGATCAGATTGAAGTGACTAATGCTACTGAGCTGGTTCAGAGTTCCTCAACAGGTAAAATATGCGGCAGTCCTCACCGAATCCTTGATGGGAAAAACTGCACACTGGTAGATGCTCTATTGGGAGACCCTCATTGTGATGGCTCTCAAAATGAGAAATGGGACCTTTTTGTTGAACGCAGCAAAGCTTTCAGCAACTGTTACCCTTATGATGTGCCAGATTATGCCTCCCTTAGGTCACTAGTTGCCTCGTCAGGCACCCTGGAGTTTATCAATGAAAGCTTCAATTGGACTGGAGTCACTCAGAGTGGGGGAAGCTATGCTTGCAAAAGGGGATCTGATAACAGTTTCTTCAGTAGACTGAATTGGTTGTATGAATCAGAAAGCAAATATCCAGTGCTGAACGTGACTATGCCAAACAATGGCAATTTTGACAAACTGTACATTTGGGGGGTTCACCACCCGAGCACGGACAAAGAACAAACCAAACTATATGTTCGAGCATCAGGGAGAGTCACAGTCTCTACCAAGAGAAACCAGCAAACTGTAATCCCGAATATCGGGTCTAGACCCTGGGTAAGGGGTCTGTCTAGCAGAATAAGCATCTATTGGACAATAGTAAAACCGGGAGACATACTGCTAATTAATAGTAATGGGAACCTAATTGCTCCTCGGGGTTACTTCAAAATACGCAATGGGAAAAGCTCAATAATGAGGTCAGATGCACCTATTGGCACCTGCAGTTCTGAATGCATCACTCCAAATGGAAGCATTCCCAATGACAAGCCCTTTCAAAATGTAAACAAGATCACATATGGGGCATGTCCCAAGTATGTTAAGCAAAACACTCTGAAGTTGGCAACAGGGATGCGGAATGTACCAGAAAAACAAACTAGA'},\n",
       "   {'taxon': 'A_Philippines_2_1982',\n",
       "    'sequence': 'CAAAACCTTCCCGGAAATGACAACAGCACAGCAACGCTGTGCCTGGGACATCATGCAGTGCCAAACGGAACGCTAGTGAAAACAATCACGAATGATCAGATTGAAGTGACTAATGCTACTGAGCTGGTTCAGAGTTCCTCAACAGGTAGGATATGCGACAGTCCTCACCGAATCCTTGATGGGAAAAACTGCACACTGATAGATGCTCTATTGGGAGACCCTCATTGTGATGGCTTCCAAAATGAGAAATGGGACCTTTTTGTTGAACGCAGCAAAGCTTTCAGCAACTGTTACCCTTATGATGTGCCAGATTATGCCTCCCTTAGGTCACTAGTTGCCTCATCAGGCACCCTGGAGTTTATCAATGAAGGCTTCAATTGGACTGGAGTCACTCAGAGTGGGGGAAGCTATACTTGCAAAAGGGGATCTAATAACAGTTTCTTCAGTAGACTGAACTGGTTGTACGAATCAGAAAGCAAATATCCAGTGCTGAACGTGACTATGCCAAACAATGGCAAATTTGACAAATTGTACATTTGGGGGATTCACCACCCGAGCACGGACAAAGAACAAACCAACCTATATATTCGAGCATCAGGGAGAGTCACAGTCTCTACCAAGAGAAGCCAGCAAACTGTAATCCCGAATATCGGGTCTAGACCCTGGGTAAGGGGTCTGTCTAGTAGAATAAGTATCTATTGGACAATAGTAAAACCGGGAGACATACTGTTAATTAATAGCACTGGGAACCTAATTGCTCCTCGGGGTTACTTCAAAATACGCACTGGGAAAAGCTCAATAATGAGGTCAGATGCACCTATTGGCACCTGCAGTTCTGAATGCATCACTCCAAATGGAAGCATTCCCAATGACAAGCCCTTTCAAAACGTAAACAAGATCACATATGGGGCATGTCCCAGGTATGTTAAGCAAAACACTCTGAAGTTGGCAACAGGGATGCGGAATGTACCAGAGAAACAAACTAGA'},\n",
       "   {'taxon': 'A_Baylor1B_1983',\n",
       "    'sequence': 'CAAAACCTTCCCGGAAATGACAACAGCACAGCAACGCTGTGCCTGGGACACCATGCAGTGCCAAACGGAACGCTAGTGAAAACAATCACGAATGATCAGATTGAAGTGACTAATGCTACTGAGCTGGTTCAGAGTTCCTCAACAGGTAGAATATGCGACAGTCCTCACCGAATCCTTGATGGGAAAAACTGCACACTGGTAGATGCTCTATTGGGAGACCCTCATTGTGATGGCTTTCAAAATGAGAAATGGGACCTTTTTATTGAACGCAGCAAAGCTTTCAGCAACTGTTACCCTTATGATGTGCCAGATTATGCCTCCCTTAGGTCACTAGTTGCCTCGTCAGGCACCCTGGAGTTTATCAATGAAGGCTTCAATTGGACTGGAGTCACTCAGAGTGGGGGAAGCTATGCTTGCAAAAGGGGATCTGATAACAGTTTCTTCAGTAGACTGAATTGGTTGTACGAATCAGAAAGCAAATATCCAGTGCTGAACGTGACTATGCCAAACAATGGCAATTTTGACAAACTGTACATTTGGGGGGTTCACCACCCGAGCACGGACAAAGAACAAACCAACCTATATGTTCGAGCATCAGGGAGAGTCACAGTCTCTACCAAGAGAAACCAGCAAACTGTAATCCCGAATATCGGGTCTAGACCCTGGGTAAGGGGTCTGTCTAGCAGAATAAGCATCTATTGGACAATAGTAAAACCGGGAGACATACTGCTAATTAATAGTAATGGGAACCTAATTGCTCCTCGGGGTTACTTCAAAATACGCACTGGGAAAAGCTCAATAATGAGGTCAGATGCACCTATTGGCACCTGCAGTTCTGAATGCATCACTCCAAATGGAAGCATTCCCAATGACAAGCCCTTTCAAAATGTAAACAAGATCACATATGGGACATGTCCTAAATACGTTAAGCAAAACACTCTGAAGTTGGCAACAGGGATGCGGAATGTACCAGAGAAACAAACTAGA'},\n",
       "   {'taxon': 'A_Oita_3_1983',\n",
       "    'sequence': 'CAAAAACTTCCCGGAAATGACAACAGCACAGCAACGCTGTGCCTGGGACATCATGCAGTGCCAAACGGAACGCTAGTGAAAACAATCACGAATGATCAGATTGAAGTGACTAATGCTACTGAGCTGGTTCAGAGTTCCTCAACAGGTAGAATATGCGACAGTCCTCACCGAATCCTTGATGGGAAAAACTGCACACTGATAGATGCTCTATTGGGAGACCCTCATTGTGATGGCTTCCAAAATGAGAAATGGGACCTTTTTGTTGAACGCAGCAAAGCTTTCAGCAACTGTTACCCTTATGATGTGCCGGATTATGCCTCCCTTAGGTCACTAGTTGCCTCATCAGGCACCCTGGAGTTTATCAATGAAGGCTTCAATTGGACTGGAGTCACTCAGAGTGGGGGAAGCTATGCTTGCAAAAGGGGATCTGTTAACAGTTTCTTCAGTAGATTGAATTGGTTGTACAAATCAGAAAGCAAATATCCAGTGCTGAACGTGACTATGCCAAACAATGGCAAATTTGACAAATTGTACATTTGGGGGGTTCACCACCCGAGCACGGACAAAGAACAAACCAACCTATATGTTCGAGCATCAGGGAGAGTCACAGTCTCTACCAAGAGAAGCCAGCAAACTGTAATCCCGAATATCGGGTCTAGACCCTGGGTAAGGGGTCTGTCTAGCAGAATAAGTATCTATTGGACAATAGTAAAACCGGGAGACATACTGTTAATTAATAGCACTGGGAACCTAATTGCTCCTCGGGGTTACTTCAAAATACGCACTGGGAAAAGCTCAATAATGAGGTCAGATGCACCTATTGGCACCTGCAGTTCTGAATGCATCACTCCAAATGGAAGCATTCCCAATGACAAACCCTTTCAAAATGTAAACAAGATCACATATGGGGCATGTCCCAGGTATGTTAAGCAAAACACTCTGAAGTTGGCAACAGGGATGCGGAATGTACCAGAGAAACAAACTAGA'},\n",
       "   {'taxon': 'A_Texas_12764_1983',\n",
       "    'sequence': 'CAAAACCTTCCCGGAAATGACAACAGCACAGCAACGCTGTGCCTGGGACACCATGCAGTGCCAAACGGAACGCTAGTGAAAACAATCACGAATGATCAGATTGAAGTGACTAATGCTACTGAGCTGGTTCAGAGTTCCTCAACAGGTAGAATATGCGACAGTCCTCACCGAATCCTTGATGGAAAAAACTGCACACTGATAGATGCTCTATTGGGAGACCCTCATTGTGATGGCTTCCAAAATGAGAAATGGGACCTTTTTGTTGAACGCAGCAAAGCTTTCAGCAACTGTTACCCTTATGATGTGCCGGATTATGCCTCCCTTAGGTCACTAGTTGCCTCATCAGGCACCCTGGAGTTTATCAATGAAGGCTTCAATTGGACTGGAGTCACTCAGAGTGGGGGAAGCTATGCTTGCAAAAGGGGATCTGTTAACAGTTTCTTCAGTAGATTGAATTGGTTGTACGAATCAGAAAGCAAATATCCAGCGCTGAACGTGACTATGCCAAACAATGGCAAATTTGACAAATTGTACATTTGGGGGGTTCACCACCCGAGCACGGACAAAGAACAAACCAACCTATATGTTCGAGCATCAGGGAGAGTCACAGTCTCTACCAAGAGAAGCCAGCAAACTGTAATCCCGAATATCGGGTCTAGACCCTGGGTAAGGGGTCTGTCTAGTAGAATAAGCATCTATTGGACAATAGTAAAACCGGGAGACATACTGTTGATTAATAGCACTGGGAACCTAATTGCTCCTCGGGGTTACTTCAAAATACGCACTGGGAAAAGCTCAATAATGAGGTCAGATGCACCTATTGGCACCTGCAGTTCTGAATGCATCACTCCAAATGGAAGCATTCCCAATGACAAACCCTTTCAAAATGTAAACAAGATTACATATGGGGCATGTCCCAGGTATGTTAAACAAAACACTCTGAAATTGGCAACAGGGATGCGGAATGTACCAGAGAAACAAACTAGA'},\n",
       "   {'taxon': 'A_Alaska_8_1984',\n",
       "    'sequence': '---AAACTTCCCGGAAATGACAACAGCACAGCAACGCTGTGCCTGGGACATCATGCAGTACCAAACGGAACGCTAGTGAAAACAATCACGAATGATCAGATTGAAGTGACTAATGCTACTGAGCTGGTTCAGAGTTCCTCAACAGGTAGAATATGCGACAGTCCTCACCGAATCCTTGATGGAAAAAACTGCACACTGATAGATGCTCTATTGGGAGACCCTCATTGTGATGGCTTCCAAAATGAGAAATGGGACCTTTTTGTTGAACGCAGCAAAGCTTTCAGCAACTGTTACCCTTATGATGTGCCGGATTATGCCTCCCTTAGGTCACTAGTTGCCTCATCAGGCACCCTGGAGTTTATCAATGAAGGCTTCAATTGGACTGGAGTCACTCAGAGTGGGGGAAGCTATGCTTGCAAAAGGGGATCTGTTAACAGTTTCTTCAGTAGATTGAATTGGTTGTACGAGTCAGAAAGCAAATATCCAGCGCTGAACGTGACTATGCCAAACAATGGCAAATTTGACAAATTGTACATTTGGGGGGTTCACCACCCGATCACGGACAAAGAACAAACCAACCTATATGTTCGAGCATCAGGGAGAGTCACAGTCTCTACCAAGAGAAGCCAGCAAACTGTAATCCCGAATATCGGGCCTAGACCCTGGGTAAGGGGTCTGTCTAGTAGAATAAGTATCTATTGGACAATAGTAAAACCGGGAGACATACTGTTAATTAATAGCACTGGGAACCTAATTGCTCCTCGGGGTTACTTCAAAATACGCACTGGGAAAAGCTCAATAATGAGGTCAGATGCACCTATTGGCACCTGCAGTTCTGAATGCATCACTCCAAATGGAAGCATTCCCAATGACAAACCCTTTCAAAATGTAAACAAGATCACATATGGGGCATGTCCCAGGTATGTTAAGCAAAACACTCTGAAGTTGGCAACAGGGATGCGGAATGTACCTGAGAAACAAACTAGA'},\n",
       "   {'taxon': 'A_Caen_1_1984',\n",
       "    'sequence': 'CAAAAACTTCCCGGAAATGACAACAGCACAGCAACGCTGTGCCTGGGACATCATGCAGTGCCAAACGGAACGCTAGTGAAAACAATCACGAATGATCAGATTGAAGTGACTAATGCTACTGAGCTGGTTCAGAGTTCCTCAACAGGTAGAATATGCGACAGTCCTCACCGAATCCTTGATGGGAAAAACTGCACACTGATAGATGCTCTATTGGGAGACCCTCATTGTGATGGCTTCCAAAATGAGAAATGGGACCTTTTTGTTGAACGCAGCAAAGCTTACAGCAACTGTTACCCTTATGATGTGCCGGATTATGCCTCCCTTAGGTCACTAGTTGCCTCATCAGGCACCCTGGAGTTTATCAACGAAGGCTTCAATTGGACTGGAGTCACTCAGAGTGGGGGAAGCTATGCTTGCAAAAGGGGATCTGTTAACAGTTTCTTCAGTAGATTGAATTGGTTGTACAAATCAGAAAGCAAATATCCAGTGCTGAACGTGACTATGCCAAACAATGGCAAATTTGACAAATTGTACATTTGGGGGGTTCACCACCCGAGCACGGACAAAGAACAAACCAACCTATATGTTCGAGCATCAGGGAGAGTCACAGTCTCTACCAAGAGAAGCCAGCAAACTGTAATCCCGAATATCGGGTCTAGACCCTGGGTAAGGGGTCTGTCTAGTAGAATAAGTATCTATTGGACAATAGTAAAACCGGGAGACATACTGTTAATTAATAGCACTGGGAACCTAATTGCTCCTCGGGGTTACTTCAAAATACGCACTGGGAAAAGCTCAATAATGAGGTCAGATGCACCTATTGGCACCTGCAGTTATGAATGCATCACTCCAAATGGAAGCATTCCCAATGACAAACCCTTTCAAAATGTAAACAAGATCACATATGGGGCATGTCCCAGGTATGTTAAGCAAAACACTCTGAAGTTGGCAACAGGGATGCGGAATGTACCAGAGAAACAAACTAGA'},\n",
       "   {'taxon': 'A_Texas_17988_1984',\n",
       "    'sequence': 'CAAAAACTTCCCGGAAATGACAACAGCACAGCAACGCTGTGCCTGGGACATCATGCAGTGCCAAACGGAACGCTAGTGAAAACAATCACGAATGATCAGATTGAAGTGACTAATGCTACTGAGCTGGTTCAGAGCTCTTCAACAGGTAGAATATGCGACAGTCCTCACCGAATCCTTGATGGGAAAAACTGCACACTGATAGATGCTCTATTGGGAGACCCTCATTGTGATGGCTTCCAAAATGAGAAATGGGACCTTTTTGTTGAACGCAGCAAAGCTTTCAGCAACTGTTACCCTTATGATGTGCCGGATTATGTCTCCCTTAGGTCACTAGTTGCCTCATCAGGCACCCTGGAATTTACCAATGAAGGCTTCAATTGGACTGGAGTCACTCAGAGTGGGGGAAGCTATGCTTGCAAAAGGGGATCTGTTAACAGTTTCTTCAGTAGATTGAATTGGTTGTACGAATCAGAAAGCAAATATCCAGTGCTGAACGTGAGTATGCCAAACAATGGCAAATTAGACAAATTGTACATTTGGGGGGTTCACCACCCGAGCACGGACAAAGTACAAACCAACCTATATGTTCGAGCATCAGGGAGAGTCACAGTCTCTACCAAGAGAAGCCAGCAAACTGTAATCCCGAATATCGGGTCTAGACCCTGGGTAAGGGGTCTGTCTAGTAGAATAAGTATCTATTGGACAATAGTAAAACCGGGAGACATACTGTTAATTAATAGCACTGGGAACCTAATTGCTCCTCGGGGTTACTTCAAAATACGCACTGGGAAAAGCTCAATAATGAGGTCAGATGCACCTATTGGCACCTGCAGTTCTGAATGCATCACTCCGAATGGAAGCATTCCCAATGACAAACCCTTTCAAAATGTAAACAAGATCACATATGGGGCATGTCCCAGGTATGTTAAGCAAAACACTCTGAAGTTGGCAACAGGGATGCGGAATGTACCAGAGAAACAAACTAGA'},\n",
       "   {'taxon': 'A_Colorado_2_1987',\n",
       "    'sequence': 'CAAAAACTTCCTGGAAATGACAACAGCACAGCAACGCTGTGCCTGGGACATCATGCAGTGCCAAACGGAACGCTAGTGAAAACAATCACGAATGATCAGATTGAAGTGACTAATGCTACTGAGCTGGTTCAGAGTTCCTCAACAGGTAGAATATGCGACAGTCCTCACCGAATCCTTGATGGAAAAAACTGCACTCTGATAGATGCTCTATTGGGAGACCCTCATTGTGATGGCTTCCAAAATGAGAAATGGGACCTTTTTGTTGAACGCAGCAAAGCTTACAGCAACTGTTACCCTTATGATGTGCCGGATTATGCCTCCCTTAGGTCACTAGTTGCCTCATCAGGCACCCTGGAGTTTATCAATGAAGACTTCAATTGGACTGGAGTCACTCAGAGTGGGGGAAGCTATGCTTGCAAAAGGGGATCTGTTAACAGTTTCTTCAGTAGATTGAATTGGTTGCACGTATCAGAATACAAATATCCAGCGCTGAACGTGACTATGCCAAACAATGGCAAATTTGACAAATTGTACATTTGGGGGGTTCACCACCCGAGCACGGACAGAGAACAAACCAAACTATATGTTCGAGCATCAGGAAGAGTCACAGTCTCTACCAAGAGAAGCCAGCAAACTGTAATCCCGAATATCGGGTCTAGACCCTGGGTAAGGGGTCTGTCTAGTAGAATAAGCATCTATTGGACAATAGTAAAACCGGGAGACATACTGTTGATTAATAGCACCGGGAACCTAATTGCTCCTCGGGGTTACTTCAAAATACGCACTGGGAAAAGCTCAATAATGAGGTCAGATGCACCTATTGGCACCTGCAGTTCTGAATGCATCACTCCAAATGGAAGCATTCCCAATGACAAACCCTTTCAAAATGTAAACAAGATCACATATGGGGCATGTCCCAGGTATGTTAAGCAAAACACTCTGAAATTGGCAACAGGGATGCGGAATGTACCAGAGAAACAAACTAGA'},\n",
       "   {'taxon': 'A_Guangdong_9_1987',\n",
       "    'sequence': 'CAAAAACTTCCCGGAAATGACAACAGCACAGCAACGCTGTGCCTGGGACATCATGCAGTGCCAAACGGAACGCTAGTGAAAACAATCACGAATGATCAGATTGAAGTGACTAATGCTACTGAGCTGGTTCAGAGTTCCTCAACAGGTAGAATATGCGACAGTCCTCACCGAATCCTTGATGGAAAAAACTGCACACTGATAGATGCTCTATTGGGAGACCCTCATTGTGATGGCTTCCAAAATGAGAAATGGGACCTTTTTGTTGAACGCAGCAAAGCTTACAGCAACTGTTACCCTTATGATGTGCCGGATTATGCCTCCCTTAGGTCACTAGTTGCCTCATCAGGCACCCTGGAGTTTATCAATGAAGACTTCAATTGGACTGGAGTCACTCAGAGTGGGGGAAGCTATGCTTGCAAAAGGGGATCTGTTAACAGTTTCTTCAGTAGATTGAATTGGTTGCACAAATCAGAATACAAATATCCAGCGCTGAACGTGACTATGCCAAACAATGGCAAATTTGACAAATTGTACATTTGGGGGGTTCACCACCCGGTCACGGACAGAGAACAAACCAACCTATATGTTCGAGCATCAGGGAGAGTCACAGTCTCTACCAAGAGAAGCCAGCAAACTGTAATCCCGAATATCGGGTCTAGACCCTGGGTAAGGGGTCTGTCTAGTAGAATAAGCATCTATTGGACAATAGTAAAACCGGGAGACATACTGTTGATTAATAGCACCGGGAACCTAATTGCTCCTCGGGGTTACTTCAAAATACGCACTGGGAAAAGCTCAATAATGAGGTCAGATGCACCTATTGGCACCTGCAGTTCTGAATGCATCACTCCAAATGGAAGCATTCCCAATGACAAACCCTTTCAAAATGTAAACAAGATCACATATGGGGCATGTCCCAGATATGTTAAGCAAAACACTCTGAAATTGGCAACAGGGATGCGGAATGTACCAGAGAAACAAACTAGA'},\n",
       "   {'taxon': 'A_Guizhou_1_1987',\n",
       "    'sequence': 'CAAAAACTTCCCGGAAATGACAACAGCACAGCAACGCTGTGCCTGGGACATCATGCAGTGCCAAACGGAACGCTAGTGAAAACAATCACGAATGATCAGATTGAAGTGACTAATGCTACTGAGCTGGTCCAGAGTTCCTCAACAGGTAGAATATGCGACAGTCCTCACCGAATCCTTGATGGAAAAAACTGCACACTGATAGATGCTCTATTGGGAGACCCTCATTGTGATGGCTTCCAAAATGAGAAATGGGACCTTTTTGTTGAACGCAGCAAAGCTTACAGCAACTGTTACCCTTATGATGTGCCGGATTATGCCTCCCTTAGGTCACTAGTTGCCTCATCAGGCACCCTGGAGTTTATCAATGAAGACTTCAATTGGACTGGAGTCACTCAGGGTGGGGGAAGCTATTCTTGCAAAAGGGGATCTGTTAACAGTTTCTTCAGTAGATTGAATTGGTTGCACGAATCAGAATGCAAATATCCAGCGCTGAACGTGACTATGCCAAACAATGGCAAATTTGACAAATTGTACATTTGGGGGGTTCACCACCCGAGCACGGACAGAGAACAAACCAACCTATATGTTCGAGCATCAGGGAGAGTCACAGTCTCTACCAAGAGAAGCCAGCAAGCTGTAATCCCGAATATCGGGTCTAGACCCTGGGTAAGGGGTCTGTCTAGTAGAATAAGCATCTATTGGACAATAGTAAAACCGGGAGACATACTGTTGATTAATAGCACCGGGAACCTAATTGCTCCTCGGGGTTACTTCAAAATACGCACTGGGAAAAGCTCAATAATGAGGTCAGATGCACCTATTGGCACCTGCAGTTCTGAATGCATCACTCCAAATGGAAGCATTCCCAATGACAAACCCTTTCAAAATGTAAACAAGATCACATATGGGGCATGTCCCAGGTATGTTAAGCAAAACACTCTGAAATTGGCAACAGGGATGCGGAATGTACCAGAGAAACAAACTAGA'},\n",
       "   {'taxon': 'A_LosAngeles_1987',\n",
       "    'sequence': 'CAAAAACTTCCCGGAAATGACAACAGCACAGCAACGCTGTGCCTGGGACATCATGCAGTGCCAAACGGAACGCTAGTGAAAACAATCACGAATGATCAGATTGAAGTGACTAATGCTACTGAGCTGGTTCAGAGTTCCTCAACAGGTAGAATATGCGACAGTCCTCACCGAATCCTTGATGGAAAAAACTGCACACTGATAGATGCTCTATTGGGAGACCCTCATTGTGATGGCTTCCAAAATGAGAAATGGGACCTTTTTGTTGAACGCAGCAAAGCTTACAGCAACTGTTACCCTTATGATGTGCCGGATTATGCCTCCCTTAGGTCACTAGTTGCCTCATCAGGCACCCTGGAGTTTATCAATGAAGACTTCAATTGGACTGGAGTCACTCAGAGTGGGGGAAGCTATGCTTGCAAAAGGGGATCTGTTAACAGTTTCTTCAGTAGATTGAATTGGTTGCACGAATCAGAATACAAATATCCAGCGCTGAACGTGACTATGCCAAACAATGGCAAATTTGACAAATTGTACATTTGGGGGGTTCACCACCCGATCACGGACAGAGAACAAACCAACCTATATGTTCGAGCATCAGGGAGAGTCACAGTCTCTACCAAGAGAAGCCAGCAAACTGTAATCCCGAATATCGGGTCTAGACCCTGGGTAAGGGGTCTGTCTAGTAGAATAAGCATCTATTGGACAATAGTAAAACCGGGAGACATACTGTTGATTAATAGCACCGGGAACCTAATTGCTCCTCGGGGTTACTTCAAAATACGCACTGGGAAAAGCTCAATAATGAGGTCAGATGCACCTATTGGCACCTGCAGTTCTGAATGCATCACTCCAAATGGAAGCATTCCCAATGACAAACCCTTTCAAAATGTAAACAAGATCACATATGGGGCATGTCCCAGGTATGTTAAGCAAAACACTCTGAAATTGGCAACAGGGATGCGGAATGTACCAGAGAAACAAACTAGA'},\n",
       "   {'taxon': 'A_Qingdao_10_1987',\n",
       "    'sequence': 'CAAAAACTTCCCGGAAATGACAACAGCACAGCAACGCTGTGCCTGGGACATCATGCAGTGCCAAACGGAACGCTAGTGAAAACAATCACGAATGATCAGATTGAAGTGACTAATGCTACTGAGCTGGTTCAGAGTTCCTCAACAGGTAGAATATGCGACAGTCCTCACCGAATCCTTGATGGAAAAAACTGCACACTGATAGATGCTCTATTGGGAGACCCTCATTGTGATGGCTTCCAAAATGAGAAATGGGACCTTTTTGTTGAACGCAGCAAAGCTTACAGCAACTGTTACCCTTATGATGTGCCGGATTATGCCTCCCTTAGGTCACTAGTTGCCTCATCAGGCACCCTGGAGTTTATCAATGAAGACTTCAATTGGACTGGAGTCACTCAGAGTGGGGGAAGCTATTCTTGCAAAAGGGGATCTGTTAACAGTTTCTTCAGTAGATTGAATTGGTTGCACGAATCAGAATACAAATATCCAGCGCTGAACGTGACTATGCCAAACAATGGCAAATTTGACAAATTGTACATTTGGGGGGTTCACCACCCGAGCACGGACAGAGAACAAACCAACCTATATGTTCGAGCATCAGGGAGAGTCACAGTCTCTACCAAGAGAAGCCAGCAAACTGTAATCCCGAATATCGGGTCTAGACCCTGGGTAAGGGGTCTGTCTAGTAGAATAAGCATCTATTGGACAATAGTAAAACCGGGAGACATACTGTTGATTAATAGCACCGGGAACCTAATTGCTCCTCGGGGTTACTTCAAAATACGCACTGGGAAAAGCTCAATAATGAGGTCAGATGCACCTATTGGCACCTGCAGTTCTGAATGCATCACTCCAAATGGAAGCATTCCCAATGACAAACCCTTTCAAAATGTAAACAAGATCACATATGGGGCATGCCCCAGGTATGTTAAGCAAAACACTCTGAAATTGGCAACAGGGATGCGGAATGTACCAGAGAAACAAACTAGA'},\n",
       "   {'taxon': 'A_Shanghai_11_1987',\n",
       "    'sequence': 'CAAAAACTTCCCGGAAATGACAACAGCACAGCAACGCTGTGCCTGGGACATCATGCAGTGCCAAACGGAACGCTAGTGAAAACAATCACGAATGATCAGATTGAAGTGACTAATGCTACTGAGCTGGTTCAGAGTTCCTCAACAGGTAGAATATGCGACAGTCCTCACCGAATCCTTGATGGAAAAAACTGCACACTGATAGATGCTCTATTGGGAGACCCTCATTGTGATGGCTTCCAAAATGAGAAATGGGACCTTTTTGTTGAACGCAGCAAAGCTTACAGCAACTGTTACCCTTATGATGTGCCGGATTATGCCTCCCTTAGGTCACTAGTTGCCTCATCAGGCACCCTGGAGTTTATCAATGAAGACTTCAATTGGACTGGAGTCACTCAGAGTGGGGGAAGCTATGCTTGCAAAAGGGGATCTGTTAACAGTTTCTTCAGTAGATTGAATTGGTTGCACGAATCAGAATACAAATATCCAGCGCTGAACGTGACTATGCCAAACAATGGCAAATTTGACAAATTGTACATTTGGGGGGTTCACCACCCGAGCACGGACAGAGAACAAACCAACCTATATGTTCGAGCATCAGGGAGAGTCACAGTCTCTACCAAGAGAAGCCAGCAAACTGTAATCCCGAATATCGGGTCTAGACCCTGGGTAAGGGGTCTGTCTAGTAGAATAAGCATCTATTGGACAATAGTAAAACCGGGAGACATACTGTTGATTAATAGAACCGGGAACCTAATTGCTCCTCGGGGTTACTTCAAAATACGCACTGGGAAAAGCTCAATAATGAGGTCAGATGCACCTATTGGCACCTGCAGTTCTGAATGCATCACTCCAAATGGAAGCATTCCCAATGACAAACCCTTTCAAAATGTAAACAAGATCACATATGGGGCATGTCCCAGGTATGTTAAGCAAAACACTCTGAAATTGGCAACAGGGATGCGGAATGTACCAGAGAAACAAACTAGA'},\n",
       "   {'taxon': 'A_Sichuan_2_1987',\n",
       "    'sequence': 'CAAAAACTTCCCGGAAATGACAACAGCACAGCAACGCTGTGCCTGGGACATCATGCAGTGCCAAACGGAACGCTAGTGAAAACAATCACGAATGATCAGATTGAAGTGACTAATGCTACTGAGCTGGTTCAGAGTTCCTCAACAGGTAGAATATGCGACAGTCCTCACCGAATCCTTGATGGAAAAAACTGCACACTGATAGATGCTCTATTGGGAGACCCTCATTGTGATGGCTTCCAAAATGAGAAATGGGACCTTTTTGTTGAACGCAGCAAAGCTTACAGCAACTGTTACCCTTATGATGTGCCGGATTATGCCTCCCTTAGGTCACTAGTTGCCTCATCAGGCACCCTGGAGTTTATCAATGAAGACTTCAATTGGACTGGAGTCACTCAGAGTGGGGGAAGCTATGCTTGCAAAAGGGGATCTGTTAACAGTTTCTTCAGTAGATTGAATTGGTTGCACAAATCAGAATACAAATATCCAGCGCTGAACGTGACTATGCCAAACAATGGCAAATTTGACAAATTGTACATTTGGGGGGTTCACCACCCGGTCACGGACAGAGAACAAACCAACCTATATGTTCGAGCATCAGGGAGAGTCACAGTCTCTACCAAGAGAAGCCAGCAAACTGTAATCCCGAATATCGGGTCTAGACCCTGGGTAAGGGGTCTGTCCAGTAGAATAAGCATCTATTGGACAATAGTAAAACCGGGAGACATACTGTTGATTAATAGCACCGGGAACCTAATTGCTCCTCGGGGTTACTTCAAAATACGCACTGGGAAAAGCTCAATAATGAGGTCAGATGCACCTATTGGCACCTGCAGTTCTGAATGCATCACTCCAAATGGAAGCATTCCCAATGACAAACCCTTTCAAAATGTAAACAAGATCACATATGGGGCATGTCCCAGATATGTTAAGCAAAACACTCTGAAATTGGCAACAGGGATGCGGAATGTACCAGAGAAACAAACTAGA'},\n",
       "   {'taxon': 'A_Sydney_1_1987',\n",
       "    'sequence': 'CAAAAACTTCCCGGAAATGACAACAGCACAGCAACGCTGTGCCTGGGACATCATGCAGTGCCAAACGGAACGCTAGTGAAAACAATCACGAATGATCAGATTGAAGTGACTAATGCTACTGAGCTGGTTCAGAGTTCCTCAACAGGTAGAATATGCGACAGTCCTCACCGAATCCTTGATGGAAAAAACTGCACACTGATAGATGCTCTATTGGGAGACCCTCATTGTGATGGCTTCCAAAATGAGAAATGGGACCTTTTTGTTGAACGCAGCAAGGCTTACAGCAACTGTTACCCTTATGATGTGCCGGATTATGCCTCCCTTAGGTCACTAGTTGCCTCATCAGGCACCCTGGAGTTTATCAATGAAGACTTCAATTGGACTGGAGTCACTCAGAGTGGGGGAAGCTATTCTTGCAAAAGGGGATCTGTTAACAGTTTCTTCAGTAGATTGAATTGGTTGCACGAATCAGAATACAAATATCCAGCGCTGAACGTGACTATGCCAAACAATGGCAAATTTGACAAATTGTACATTTGGGGGGTTCACCACCCGAGCACGGACAGAGAACAAACCAAACTATATGTTCGAGCATCAGGGAGAGTCACAGTCTCTACCAAGAGAAGCCAGCAAACTGTAATCCCGAATATCGGGTCTAGACCCTGGGTAAGGGGTCTGTCCAGTAGAATAAGCATCTATTGGACAATAGTAAAACCGGGAGACATACTGTTGATTAATAGCACCGGGAACCTAATTGCTCCTCGGGGTTACTTCAAAATACGCACTGGGAAAAGCTCAATAATGAGGTCAGATGCACCTATTGGCACCTGCAGTTCTGAATGCATCACTCCAAATGGAAGCATTCCCAATGACAAACCCTTTCAAAATGTAAACAAGATCACATATGGGGCATGTCCCAGATATGTTAAGCAAAACACTCTGAAATTGGCAACAGGGATGCGGAATGTACCAGAGAAACAAACTAGA'},\n",
       "   {'taxon': 'A_Tokyo_1275_1987',\n",
       "    'sequence': 'CAAAAACTTCCCGGAAATGACAACAGCACAGCAACGCTGTGCCTGGGACATCATGCAGTGCCAAACGGAACGCTAGTGAAAACAATCACGAATGATCAGATTGAAGTGACTAATGCTACTGAGCTGGTTCAGAGTTCCTCAACAGGTATAATATGCGACAGTCCTCACCGAATCCTTGATGGAAAAAACTGCACACTGATAGATGCTCTATTGGGAGACCCTCATTGTGATGGCTTCCAAAATGAGAAATGGGACCTTTTTGTTGAACGCAGCAAGGCTTACAGCAACTGTTACCCTTATGATGTGCCGGATTATGCCTCCCTTAGGTCACTAGTTGCCTCATCAGGCACCCTGGAGTTTATCAATGAAGACTTCAATTGGACTGGAGTCACTCAGAGTGGGGGAAGCTATACTTGCAAAAGGGGATCTGTTAACAGTTTCTTCAGTAGATTGAATTGGTTGCACGAATCAGAATACAAATATCCAGCGCTGAACGTGACTATGCCAAACAATGGCAAATCTGACAAATTGTACATTTGGGGGGTTCACCACCCGAGCACTGACAGAGAACAAACCAACCTATATGTTCGAGCATCAGGGAGAGTCACAGTCTCTACCAAGAGAAGCCAGCAAACTGTAATCCCGAATATCGGGTCTAGACCCTGGGTAAGGGGTCTGTCTAGTAGAATAAGCATCTATTGGACAATAGTAAAACCGGGAGACATACTGTTGATTAATAGCACCGGGAACCTAATTGCTCCTCGAGGTTACTTCAAAATACGCACTGGGAAAAGCTCAATAATGAGGTCAGATGCACCTATTGGCACCTGCAGTTCTGAATGCATCACTCCAAATGGAAGCATTCCCAATGACAAACCCTTTCAAAATGTAAACAAGATCACATATGGGGCATGTCCCAGATATGTTAAGCAAAACACTCTGAAATTGGCAACAGGGATGCGGAATGTACCAGAGAAACAAACTAGA'},\n",
       "   {'taxon': 'A_Victoria_7_1987',\n",
       "    'sequence': 'CAAAAACTTCCCGGAAATGACAACAGCACAGCAACGCTGTGCCTGGGACATCATGCAGTGCCAAACGGAACGCTAGTGAAAACAATCACGAATGATCAGATTGAAGTGACTAATGCTACTGAGCTGGTTCAGAGTTCCTCAACAGGTAGAATATGCGACAGTCCTCACCGAATCCTTGATGGAAAAAACTGCACACTGATAGATGCTCTATTGGGAGACCCTCATTGTGATGGCTTCCAAAATGAGAAATGGGACCTTTTTGTTGAACGCAGCAAAGCTTACAGCAACTGTTACCCTTATGATGTGCCGGATTATGCCTCCCTTAGGTCACTAGTTGCCTCATCAGGCACCCTGGAGTTTATCAATGAAGACTTCAATTGGACTGGAGTCACTCAGAGTGGGGGAAGCTATGCTTGCAAAAGGGGATCTGTTAACAGTTTCTTCAGTAGATTGAATTGGTTGCACGAATCAGAATACAAATATCCAGCGCTGAACGTGACTATGCCAAACAATGGCAAATTTGACAAATTGTACATTTGGGGGGTTCACCACCCGAGCACGGACAGAGAACAAACCAACCTATATGTTCGAGCATCAGGGAGAGTCACAGTCTCTACCAAGAGAAGCCAGCAAACTGTAATTCCGAATATCGGGTCTAGACCCTGGGTAAGGGGTCTGTCCAGTAGAATAAGCATCTATTGGACAATAGTAAAACCGGGAGACATACTGTTGATTAATAGCACCGGGAACCTAATTGCTCCTCGGGGTTACTTCAAAATACGCACTGGGAAAAGCTCAATAATGAGGTCAGATGCACCTATTGGCACCTGCAGTTCTGAATGCATCACTCCAAATGGAAGCATTCCCAATGACAAACCCTTTCAAAATGTAAACAAGATCACATATGGGGCATGTCCCAGGTATGTTAAGCAAAACACTCTGAAATTGGCAACAGGGATGCGGAATGTACCAGAGAAACAAACTAGA'},\n",
       "   {'taxon': 'A_Alaska_9_1992',\n",
       "    'sequence': 'CAAAAACTTCCCGGAAATGACAACAGCACAGCAACGCTGTGCCTGGGACATCATGCAGTGCCAAACGGAACGCTAGTGAAAACAATCACGAATGATCAAATTGAAGTGACTAATGCTACTGAGCTGGTTCAGAGTTCCTCAACAGGTAGAATATGCGACAGTCCTCACCAAATCCTTGATGGAAAAAACTGCACACTGATAGATGCTCTATTGGGAGACCCTCATTGTGATGGCTTCCAAAATAAGGAATGGGACCTTTTTGTTGAACGCAGCAAAGCTTACAGCAACTGTTACCCTTATGATGTGCCGGATTATGCCTCCCTTAGGTCACTAGTTGCCTCATCAGGCACCCTGGAGTTTATCAATGAAGACTTCAATTGGACTGGAGTCGCTCAGGATGGGGGAAGCTATTCTTGCAAAAGGGGATCTGTTAACAGTTTCTTTAGTAGATTGAATTGGTTGCACAAATCAGAATACAAATATCCAGCGCTGAACGTGACTATGCCAAACAATGGCAAATTTGACAAATTGTACATTTGGGGGGTTCACCACCCGAGCACGGACAGTGACCAAACCAGCCTATATGTTCGAGCATCAGGGAGAGTCACAGTCTCTACCAAAAGAAGCCAACAAACTGTAACCCCGAATATCGGGTCTAGACCCTGGGTAAGGGGTCTGTCCAGTAGAATAAGCATCTATTGGACAATAGTAAAACCGGGAGACATACTTTTGATTAATAGCACAGGGAATCTAATTGCTCCTCGGGGTTACTTCAAAATACGAAATGGGAAAAGCTCAATAATGAGGTCAGATGCACCCATTGGCACCTGCAGTTCTGAATGCATCACTCCAAATGGAAGCATTCCCAATGACAAACCTTTTCAAAATGTAAACAGGATCACATATGGGGCCTGCCCCAGATATGTTAAGCAAAACACTCTGAAATTGGCAACAGGGATGCGGAATGTACCAGAGAAACAAACTAGA'},\n",
       "   {'taxon': 'A_Beijing_32_1992',\n",
       "    'sequence': 'CAAAAACTTCCCGGAAATGACAACAGCACAGCAACGCTGTGCTTGGGACATCATGCAGTGCCAAACGGAACGCTAGTGAAAACAATCACGAATGATCAAATTGAAGTGACTAATGCTACTGAGCTGGTTCAGAGTTCCTCAACAGGTAGAATATGCGACAGTCCTCACCGAATCCTTGATGGAAAAAACTGCACACTGATAGATGCTCTATTGGGAGACCCTCATTGTGATGGCTTCCAAAATAAGGAATGGGACCTTTTTGTTGAACGCAGCAAAGCTTACAGCAACTGTTACCCTTATGATGTGCCGGATTATGCCTCCCTTAGGTCACTAGTTGCCTCATCAGGCACCCTGGAGTTTATCAATGAAGACTTCAATTGGACTGGAGTCGCTCAGGATGGGGGAAGCTATGCTTGCAAAAGGGGATCTGTTAACAGTTTCTTTAGTAGATTGAATTGGTTGCACAAATCAGAATACAAATATCCAGCGCTGAACGTGACTATGCCAAACAATGGCAAATTTGACAAATTGTACATTTGGGGGGTTCACCACCCGAGCACGGACAGAGACCAAACCAGCCTATATGTTCGAGCATCAGGGAGAGTCACAGTCTCTACCAAAAGAAGCCAACAAACTGTAACCCCGAATATCGGGTCTAGACCCTGGGTAAGGGGTCAGTCCAGTAGAATAAGCATCTATTGGACAATAGTAAAACCGGGAGACATACTTTTGATTAATAGCACAGGGAATCTAATTGCTCCTCGGGGTTACTTCAAAATACGAAATGGGAAAAGCTCAATAATGAGGTCAGATGCACCCATTGGCACCTGCAGTTCTGAATGCATCACTCCAAATGGAAGCATTCCCAATGACAAACCTTTTCAAAATGTAAACAGGATCACATATGGGGCCTGCCCCAGATATGTTAAGCAAAACACTCTGAAATTGGCAACAGGGATGCGGAATGTACCAGAGAAACAAACTAGA'},\n",
       "   {'taxon': 'A_California_271_1992',\n",
       "    'sequence': 'CAAAAACTTCCCGGAAATGACAACAGCACAGCAACGCTGTGCCTGGGACATCATGCAGTGCCAAACGGAACGCTAGTGAAAACAATCACGAATGATCAAATTGAAGTGACTAATGCTACTGAGCTGGTTCAGAGTTCCTCAACAGGTAGAATATGCGACAGTCCTCACCGAATCCTTGATGGAAAAAACTGCACACTGATAGATGCTCTATTGGGAGACCCTCATTGTGATGGCTTCCAAAATAAGGAATGGGACCTTTTTGTTGAACGCAGCAAAGCTTACAGCAACTGTTACCCTTATGATGTGCCGGATTATGCCTCCCTTAGGTCACTAGTTGCCTCATCAGGCACCCTGGAGTTTATCAATGAAGACTTCAATTGGACTGGAGTCGCTCAGGATGGGGGAAGCTATGCTTGCAAAAGGGGATCTGTTAACAGTTTCTTCAGTAGATTGAATTGGTTGCACAAATCAGAATACAAATATCCAGCGCTGAACGTGACTATGCCAAACAATGGCAAATTTGACAAATTGTACATTTGGGGGGTTCACCACCCGAGTACGGACAGTGACCAAACCAGCCTATATGTTCGAGCATCAGGGAGAGTCACAGTCTCTACCAAAAGAAGCCAACAAACTGTAACCCCGAATATCGGGTCTAGACCCTGGGTAAGGGGTCTGTCCAGTAGAATAAGCATCTATTGGACAATAGTAAAACCGGGAGACATACTTTTGATTAATAGCACAGGAAATCTAATTGCTCCTCGGGGTTACTTCAAAATACGAAATGGGAAAAGCTCAATAATGAGGTCAGATGCACCCATTGGCACCTGCAGTTTTGAATGCATCACTCCAAATGGAAGCATTCCCAATGACAAACCTTTTCAAAATGTAAACAGGATCACATATGGGGCCTGCCCCAGATATGTTAAGCAAAACACTCTGAAATTGGCAACAGGGATGCGGAATGTACCAGAGAAACAAACTAGA'},\n",
       "   {'taxon': 'A_Finland_205_1992',\n",
       "    'sequence': 'CAAAAACTTCCCGGAAATGACAACAGCACAGCAACGCTGTGCCTGGGACATCATGCAGTGCCAAACGGAACGCTAGTGAGAACAATCACGAATGATCAAATTGAAGTGACTAATGCTACTGAGCTGGTTCAGAGTTCCTCAACAGGTAGAATATGTGACAGTCCTCACCGAATCCTTGATGGAAAAAATTGCACACTGATAGATGCTCTATTGGGAGACCCTCATTGTGATGGCTTCCAAAATAAGGAATGGGACCTTTTTGTTGAACGCAGCAAAGCTTACAGCAACTGTTACCCTTATGATGTGCCGGATTATGCCTCCCTTAGGTCACTAGTTGCCTCATCAGGCACCCTGGAGTTTACCAATGAAGACTTCAATTGGACTGGAGTCGCTCAGAGTGGGGAAAGCTATGCTTGCAAAAGGGGATCTGTTAAAAGTTTCTTTAGTAGATTGAATTGGTTGCACRAATCAGATTACAAATATCCAGCGCTGAACGTGACTATGCCAAACAATGGCAAATTTGACAAATTGTACATTTGGGGGGTTCACCACCCGAGCACGGACAGAGAACAAACCAGCCTATATGTTCGAGCATCAGGGAGAGTCACAGTCTCCACCAAAAGAAGCCAACAAACTGTGATCCCGAATATCGGGTCCAGACCCTGGGTAAGGGGTCTGTCCAGTAGAATAAGCATCTATTGGACAATAGTGAAACCGGGAGACATACTTTTGATTAATAGCACCGGGAACCTAATTGCTCCTCGGGGTTACTTCAAAATACGAACTGGGAAAAGCTCGATAATGAGATCAGATGCACCCATTGGCACCTGCAGTTCTGAATGCATCACTCCAAATGGAAGCATTCCCAATGACAAACCCTTTCAAAACGTAAACAGGATCACATATGGGGCATGTCCCAGATATGTTAAGCAAAACACTCTGAAATTGGCAACAGGGATGCGGAATGTACCAGAGAAACAAACT---'},\n",
       "   {'taxon': 'A_Harbin_15_1992',\n",
       "    'sequence': 'CAAAAACTTCCCGGAAATGACAACAGCACAGCAACGCTGTGCCTGGGACATCATGCAGTGCCAAACGGAACGCTAGTGAAAACAATCACGAATGATCAGATTGAAGTGACTAATGCTACTGAGCTGGTACAGAGTTCCTCAACAGGTAGAATATGCGACAGTCCTCACCGAATCCTTGATGGAAAAAACTGCACACTGATAGATGCTCTATTGGGAGACCCTCATTGTGATGGCTTCCAAAATAAGGAATGGGACCTTTTTGTTGAACGCAGCAAAGCTTACAGCAACTGTTACCCTTATGATGTGCCGGATTATGCCTCCCTTAGGTCACTAGTTGCCTCATCAGGCACCCTGGAGTTTATCAATGAAGACTTCAATTGGACTGGAGTCGCTCAGGATGGGGGAAGCTATGCTTGCAAAAGGGGATCTGTTAACAGTTTCTTTAGTAGATTGAATTGGTTGCACAAATTAGAATACAAATATCCAGCGCTGAACGTGACTATGCCAAACAATGGCAAATTTGACAAATTGTACATTTGGGGGGTTCACCACCCGAGCACGGACAGTGACCAAACCAGCCTATATGTTCGAGCATCAGGGAGAGTCACAGTCTCTACCAAAAGAAGCCAACAAACTGTAATCCCGAATATCGGGTCTAGACCCTGGGTAAGGGGTCAGTCCAGTAGAATAAGCATCTATTGGACAATAGTAAAACCGGGAGACATACTTTTGATTAATAGCACAGGGAATCTAATTGCTCCTCGGGGTTACTTCAAAATACGAAATGGGAAAAGCTCAATAATGAGATCAGATGCACCCATTGGCAACTGCAGTTCTGAATGCATCACTCCAAATGGAAGCATTCCCAATGACAAACCTTTTCAAAATGTAAACAGGATCACATATGGGGCCTGCCCCAGATATGTTAAGCAAAACACTCTGAAATTGGCAACAGGGATGCGGAATGTACCAGAGAAACAAACTAGA'},\n",
       "   {'taxon': 'A_Hawaii_3_1992',\n",
       "    'sequence': 'CAAAAACTTCCCGGAAATGACAACAGCACAGCAACGCTGTGCCTGGGACATCATGCAGTGCCAAACGGAACGCTAGTGAAAACAATCACGAATGATCAAATTGAAGTGACTAATGCTACTGAGCTGGTTCAGAGTTCCTCAACAGGTAGAATATGCGACAGTCCTCACCGAATCCTTGATGGAAAAAACTGCACACTGATAGATGCCCTATTGGGAGACCCTCATTGTGATGGCTTCCAAAATAAGGAATGGGACCTTTTTGTTGAACGCAGCAAAGCTTACAGCAACTGTTACCCTTATGATGTGCCGGATTATGCCTCCCTTAGGTCACTAGTTGCCTCATCAGGCACCCTGGAGTTTATCAATGAAGACTTCAATTGGACTGGAGTCGCTCAGGATGGGGGAAGCTATGCTTGCAAAAGGGGATCTGTTAACAGTTTCTTTAGTAGATTGAATTGGTTGCACAAATCAGAATACAAATATCCAGCGCTAAACGTGACTATGCCAAACAATGGCAAATTTGACAAATTGTACATTTGGGGGGTTCACCACCCGAGCACGGACAGTGACCAAACCAGCCTATATGTTCGAGCATCAGGGAGAGTCACAGTCTCTACCAAAAGAAGCCAACAAACTGTAACCCCGAATATCGGGTCTAGACCCTGGGTAAGGGGTCTGTCCAGTAGAATAAGCATCTATTGGACAATAGTAAAACCGGGAGACATACTTTTGATTAATAGCACAGGGAATCTAATTGCTCCTCGGGGTTACTTCAAAATACGAAATGGGAAAAGCTCAATAATGAGGTCAGATGCACCCATTGGCACCTGCAGTTCTGAATGCATCACTCCAAATGGAAGCATTCCCAATGACAAACCTTTTCAAAATGTAAACAGGATCACATATGGGGCCTGCCCCAGATATGTTAAGCAAAACACTCTGAAATTGGCAACAGGGATGCGGAATGTACCAGAGAAACAAACTAGA'},\n",
       "   {'taxon': 'A_Indonesia_3946_1992',\n",
       "    'sequence': 'CAAAAACTTCCCGGAAATGACAACAGCACAGCAACGCTGTGCCTGGGGCATCATGCAGTGCCAAACGGAACTCTAGTGAAAACAATCACGAATGATCAAATTGAAGTGACTAATGCTACTGAGCTGGTTCAGAGTTCCTCAACAGGTAGAATATGCGACAGTCCTCACCGAATCCTCGATGGAAAAAACTGCACACTGATAGATGCTCTATTGGGAGACCCTCATTGTGATGACTTCCAAAATAAGGAATGGGACCTTTTTGTTGAACGCAGCAAAGCTTACAGCAATTGTTACCCTTATGATGTGCCAGATTATGCCTCCCTTAGGTCACTAGTTGCCTCATCAGGCACCCTGGAGTTTATCAATGAAGACTTCAATTGGACTGGAGTCGCTCAGAGTGGGGACAGCTATGCTTGCAAAAGGGGATCTGTTAAAAGTTTCTTTAGTAGATTGAATTGGTTGCACGAATCAGAATACAAATATCCATCGCTGAACGTGACTATGCCAAACAATGACAAATTTGACAAGTTGTACATTTGGGGGGTTCACCACCCGAGCACGGACAGAGAACAAACCAGCCTATATATTCGAGCATCAGGGAGAGTCACAGTCTCTACCAAAAGAAGCCAACAAACTGTAATCCCGAATATCGGGTCCAGACCCTGGGTAAGGGGTCTGTCCAGTAGAATAAGCATCTATTGGACAATAGTAAAACCGGGAGACATACTTTTGATTAATAGCACCGGGAATCTAATTGCTCCACGGGGTTACTTCAAAATACGAACTGGGAAAAGCTCGATAATGAGGTCAGATGCACCCATTGGCACCTGCAGTTCTGAATGCATCACTCCAAATGGAAGCATCCCCAATGACAAACCTTTTCAAAATGTAAACAGGATCACATATGGGGCATGTCCCAGATATGTTAAGCAAAACACTCTGAAATTGGCAACAGGGATGCGGAATGTACCAGAGAAACAAACTAGA'},\n",
       "   {'taxon': 'A_Perth_1_1992',\n",
       "    'sequence': 'CAAAAACTTCCCGGAAATGACAACAGCACAGCAACGCTATGCCTGGGACATCATGCAGTGCCAAATGGAACGCTAGTGAAAACAATCACGAATGACCAAATTGAAGTGACTAATGCTACTGAGCTGGTTCAGAGTTCCTCAACAGGTAGAATATGCGACAGTCCTCACCGAATCCTTGATGGAAAAAACTGCACACTGATAGATGCTCTATTGGGAGACCCTCATTGTGATAGCTTCCAAAACAAGGAATGGGACCTTTTTGTTGAACGCAGCAAAGCTTACAGCAACTGTTACCCTTATGATGTGCCGGATTATGCCTCCCTTAGGTCACTAGTTGCCTCATCAGGCACCCTGGAGTTTATCAATGAAGACTTCAATTGGACTGGAGTCGCTCAGGATGGGGGAAGCTATGCTTGCAAAAGGGGATCTGTTAACAGTTTCTTTAGTAGATTGAATTGGTTGCACGAATCAGAATACAAATATCCAGCGCTGAACGTGACTATGCCAAACAATGGCAAAGTTGACAAATTGTACATTTGGGGGGTTCACCACCCGAGCACGGACAGAGACCAAACCAGCCTATATGTTCGAGCATCAGGGAGAGTCACAGTCTCTACCAAAAGAAGCCAACAAACTGTAATCCCGAATATCGGGTCTAGACCCTGGGTAAGGGGTCAGTCCAGTAGAATAAGCATCTATTGGACAATAGTAAAACCGGGAGACATACTTTTGATTAATAGCATCGGGAACCTAATTGCTCCTCGGGGTTACTTCAAAATACGAAATGGGAAAAGCTCAATAATGAGGTCAGATGCACCCATTGGCACCTGCAGTTCTGAATGCATCACTCCAAATGGAAGCATTCCCAATGACAAACCTTTTCAAAATGTAAACAGGATCACATATGGGGCATGTCCCAGATATGTTAAGCAAAACACTCTGAAATTGGCAACAGGGATGCGGAATGTACCAGAGAAACAAACTAGA'},\n",
       "   {'taxon': 'A_Qingdao_53_1992',\n",
       "    'sequence': 'CAAAAACTTCCCGGAAATGACAACAGCACAGCAACGCTGTGCCTGGGACATCATGCAGTGCCAAACGGAACGCTAGTGAAAACAATCACGAATGATCAAATTGAAGTGACTAATGCTACTGAGCTGGTTCAGAGTTCCTCAACAGGTAGAATATGCGACAGTCCTCACCGAATCCTTGATGGAAAAAACTGCACACTGATAGATGCTCTATTGGGAGACCCTCATTGTGATGGCTTCCAAAATAAGGAATGGGACCTTTTTGTTGAACGCAGCAAAGCTTACAGCAACTGTTACCCTTATGATGTGCCGGATTATGCCTCCCTTAGGTCACTAGTTGCCTCATCAGGCACCCTGGAGTTTATCAATGAAGACTTCAATTGGACTGAAGTCGCTCAGGATGGGGGAAGCTGTGCTTGCAAAAGGGGATCTGTTAACAGTTTCTTTAGTAGATTGAATTGGTTGCACAAATCAGAATACAAATATCCAGCGCTGAACGTGACTATGCCAAACAATGGCAAATTTGACAAATTGTACATTTGGGGGGTTCACCACCCGAGCACGGACAGTGACCAAACCCGCCTATATGTTCGAGCATCAGGGAGAGTCACAGTCTCTACCAAAAGAAGCCAACAAACTGTAACCCCGAATATCGGGTCTAGACCCTGGGTAAGGGGTCTGTCCAGTAGAATAAGCATCTATTGGACAATAGTAAAACCGGGAGACATACTTTTGATTAATAGCACAGGGAATCTAATTGCTCCTCGGGGTTACTTCAAAATACGAAATGGGAAAAGCTCAATAATGAGGTCAGATGCACCCATTGGCACCTGCAGTTCTGAATGCATCACTCCAAATGGAAGCATTCCCAATGACAAACCTTTTCAAAATGTAAACAGGATCACATATGGGGCCTGCCCCAGATATGTTAAGCAAAACACTCTGAAATTGGCAACAGGGATGCGGAATGTACCAGAGAAACAAACTAGA'},\n",
       "   {'taxon': 'A_Sapporo_304_1992',\n",
       "    'sequence': 'CAAAAACTTCCCGGAAATGACAACAGCACAGCAACGCTGTGCCTGGGACATCATGCAGTGCCAAACGGAACGCTAGTGAAAACAATCACGAATGATCAAATTGAAGTGACTAATGCTACTGAGTTGGTTCAGAGTTCCTCAACAGGTAGAATATGCGACAGTCCTCACCGAATCCTTGATGGAAAAAACTGCACACTGATAGATGCTCTATTGGGAGACCCTCATTGTGATGGCTTCCAAAATAAGGAATGGGACCTTTTTGTTGAACGCAGCAAAGCTTACAGCAACTGTTACCCTTATGATGTGCCGGATTATGCCTCCCTTAGGTCACTAGTTGCCTCATCAGGCACCCTGGAGTTTATCAATGAAGACTTCAATTGGACTGGAGTCGCTCAGGATGGGGGAAGCTATGCTTGCAAAAGGGGATCTGTTAACAGTTTCTTTAGTAGATTGAATTGGTTGCACAAATTAGAATACAAATATCCAGCGCTGAACGTGACTATGCCAAACAATGGCAAATTTGACAAATTGTACATTTGGGGGGTTCACCACCCGAGCACGGACAGTGACCAAACCAGCCTATATGTTCGAGCATCAGGGAGAGTCACAGTCTCTACCAAAAGAAGCCAACAAACTGTAACCCCGAATATCGGGTCTAGACCCTGGGTAAGGGGTCAGTCCAGTAGAATAAGCATCTATTGGACAATAGTAAAACCGGGAGACATACTTTTGATTAATAGCACAGGGAATCTAATTGCTCCTCGGGGTTACTTCAAAATACGAAATGGGAAAAGCTCAATAATGAGGTCAGATGCACCCATTGGCAACTGCAGTTCTGAATGCATCACTCCAAATGGAAGCATTCCCAATGACAAACCTTTTCAAAATGTAAACAGGATCACATATGGGGCCTGCCCCAGATATGTTAAGCAAAACACTCTGAAATTGGCAACAGGGATGCGGAATGTACCAGAGAAACAAACTAGA'},\n",
       "   {'taxon': 'A_SouthAustralia_36_1992',\n",
       "    'sequence': 'CAAAAACTTCCCGGAAATGACAACAGCACAGCAACGCTGTGCCTGGGACATCATGCAGTGCCAAACGGAACGCTAGTGAAAACAATCACGAATGATCAAATTGAAGTGACTAATGCTACTGAGCTGGTTCAGAGTTCCTCAACAGGTAGAATATGTGACAGTCCTCACCGAATCCTTGATGGAAAAAATTGCACACTGATAGATGCTCTATTGGGAGACCCTCATTGTGATGGCTTCCAAAATAAGGAATGGGACCTTTTTGTTGAACGCAGCAAAGCTTACAGCAACTGTTACCCTTATGATGTGCCGGATTATGCCTCCCTTAGGTCACTAGTTGCCTCATCAGGCACCCTGGAGTTTACCAATGAAGACTTCAATTGGACTGGAGTCGCTCAGAGTGGGGAAAGCTATGCTTGCAAAAGGGGATCTGTTAAAAGTTTCTTTAGTAGATTGAATTGGTTGCACGAATCAGATTACAAATACCCAGCGCTGAACGTGACTATGCCAAACAATGGCAAATTTGACAAATTGTACATTTGGGGGGTTCACCACCCGAGCACGGACAGAGAACAAACCAGCCTATATGTTCGAGCATCAGGGAGAGTCACAGTCTCCACCAAAAGAAGCCAACAAACTGTGATCCCGAATATCGGGTCCAGACCCTGGGTAAGGGGTCTGTCCAGTAGAATAAGCATCTATTGGACAATAGTAAAACCGGGAGACATACTTTTGATTAATAGCACCGGGAACCTAATTGCTCCTCGGGGTTACTTCAAAATACGAACTGGGAAAAGCTCGATAATGAGATCAGATGCACCCATTGGCACCTGCAGTTCTGAATGCATCACTCCAAATGGAAGCATCCCCAATGACAAACCTTTTCAAAATGTAAACAGGATCACATATGGGGCATGTCCCAGATATGTTAAGCAAAACACTCTGAAATTGGCAACAGGAATGCGGAATGTACCAGAGAAACAAACTAGA'},\n",
       "   {'taxon': 'A_Tianjin_33_1992',\n",
       "    'sequence': 'CAAAAACTTCCCGGAAATGACAACAGCACAGCAACGCTGTGCCTGGGACATCATGCAGTGCCAAACGGAACGCTAGTGAAAACAATCACGAATGATCAAATTGAAGTGACTAATGCTACTGAGCTGGTTCAGAGTTCCTCAACAGGTAGAATATGCGACAGTCCTCACCGAATCCTTGATGGAAAAAACTGCACACTGATAGATGCTCTATTGGGAGACCCTCATTGTGATGGCTTCCAAAATAAGGAATGGGACCTTTTTGTTGAACGCAGCAAAGCTTACAGCAACTGTTACCCTTATGATGTGCCGGATTATGCCTCCCTTAGGTCACTAGTTGCCTCATCAGGCACCCTGGAGTTTATCAATGAAGACTTCAATTGGACTGGAGTCGCTCAGGATGGGGGAAGCTATGCTTGCAAAAGGGGATCAGTTAACAGTTTCTTTAGTAGATTGAATTGGTTGCACAAATCAGAATACAAATATCCAGCTCTGAACGTGACTATGCCAAACAATGGCAAATTTGACAAATTGTACATTTGGGGGGTTCACCACCCGAGCACGGACAGTGACCAAACCAGCCTATATGTTCGAGCATCAGGGAGAGTCACAGTCTCTACCAAAAGAAGCCAACAAACTGTAACCCCGAATATCGGGTCTAGACCCTGGGTAAGGGGTCAGTCCAGTAGAATAAGCATCTATTGGACAATAGTAAAACCGGGAGACATACTTTTGATTAATAGCACAGGGAATCTAATTGCTCCTCGGGGTTACTTCAAAATACGAAATGGGAAAAGCTCAATAATGAGGTCAGATGCACCCATTGGCACCTGCAGTTCTGAATGCATCACTCCAAATGGAAGCATTCCCAATGACAAACCTTTTCAAAATGTAAACAGGATCACATATGGGGCCTGCCCCAGATATGTTAAGCAAAACACTCTGAAATTGGCAACAGGGATGCGGAATGTACCAGAGAAACAAACTAGA'},\n",
       "   {'taxon': 'A_Umea_1_1992',\n",
       "    'sequence': 'CAAAAACTTCCCGGAAATGACAACAGCACAGCAACGCTGTGCCTGGGGCATCATGCAGTGCCAAACGGAACTCTAGTGAAAACAATCACGAATGATCAAATTGAAGTGACTAATGCTACTGAGCTGGTTCAGAGTTCCTCAACAGGTAAAATATGCGACAGTCCTCACCGAATCCTCGATGGAAAAAACTGCACACTGATAGATGCTCTATTGGGAGACCCTCATTGTGATGACTTCCAAAATAAGGAATGGGACCTTTTTGTTGAACGCAGCAAAGCTTACAGCAATTGTTACCCTTATGATGTGCCAGATTATGCCTCCCTTAGGTCACTAGTTGCCTCATCAGGCACCCTGGAGTTTATCAATGAAGACTTCAATTGGACTGGAGTCGCTCAGAGTGGGGACAGCTATGCTTGCAAAAGGGGATCTGTTAAAAGTTTCTTTAGTAGATTGAATTGGTTGCACGAATCAGAATACAAATATCCAGCGCTGAACGTGACTATGCCAAACAATGACAAATTTGACAAGTTGTACATTTGGGGGGTTCACCACCCGAGCACGGACAGAGAACAAACCAGCCTATATATTCGAGCATCAGGGAGAGTCACAGTCTCTACCAAAAGAAGTCAACAAACTGTAATCCCAAATATCGGGTCCAGACCCTGGGTAAGGGGTCTGTCCAGTAGAATAAGCATCTATTGGACAATAGTAAAACCGGGAGACATACTTTTGATTAATAGCACCGGGAATCTAATTGCTCCTCGGGGTTACTTCAAAATACGAACTGGGAAAAGCTCGATAATGAGGTCAGATGCACCCATTGGCACCTGCAGTTCTGAATGCATCACTCCAAATGGAAGCATCCCCAATGACAAACCTTTTCAAAATGTAAACAGGATCACATATGGGGCATGTCCCAGATATGTTAAGCAAAACACTCTGAAATTGGCAACAGGGATGCGGAATGTACCAGAGAAACAAACTAGA'},\n",
       "   {'taxon': 'A_Victoria_29_1992',\n",
       "    'sequence': 'CAAAAACTTCCCGGAAATGACAACAGCACAGCAACGCTATGCCTGGGGCATCATGCAGTGCCAAACGGAACTCTAGTGAAAACAATCACGAATGATCAAATTGAAGTGACTAATGCTACTGAGCTGGTTCAGAGTTCCTCAACAGGTAGAATATGCGACAGTCCTCACCGAATCCTCGATGGAAAAAACTGCACACTGATAGATGCTCTATTGGGAGACCCTCATTGTGATGGCTTCCAAAATAAGGAATGGGACCTTTTTGTTGAACGCAGCAAAGCTTACAGCAATTGTTACCCTTATGATGTGCCAGATTATGCCTCCCTTAGGTCACTAGTTGCCTCATCAGGCACCCTGGAGTTTATCAATGAAGACTTCAATTGGACTGGAGTCGCTCAGAATGGGGGCAGCTATGCTTGCAAAAGGGGATCTGTTAAAAGTTTCTTTAGTAGATTGAATTGGTTGCACGAATCAGAATACAAATATCCAGCGCTGAACGTGACTATGCCAAACAACGACAAATTTGACAAGTTGTACATTTGGGGGGTTCACCACCCGAGCACGGACAGAGAACAAACCAGCCTATATATTCGAGCATCAGGGAGAGTCACAGTCTCTACCAAAAGAAGCCAACAAACTGTAATCCCGAATATCGGGTCCAGACCCTGGGTAAGGGGTCTGTCCAGTAGAATAAGCATCTATTGGACAATAGTAAAACCGGGAGACATACTTTTGATTAATAGCACCGGGAATCTAATTGCTCCTCGGGGTTACTTCAAAATACGGACTGGGAAAAGCTCGATAATGAGGTCAGATGCACCCATTGGCACCTGCAGTTCTGAATGCATCACTCCAAATGGAAGCATCCCCAATGACAAACCTTTTCAAAATGTAAACAGGATCACATATGGGGCATGTCCCAGATATGTTAAGCAAAACACTCTGAAATTGGCAACAGGAATGCGGAATGTACCAGAGAAACAAACTAGA'},\n",
       "   {'taxon': 'A_Wellington_66_1992',\n",
       "    'sequence': 'CAAAAACTTCCCGGAAATGACAACAGCACAGCAACGCTGTGCCTGGGGCATCATGCAGTGCCAAACGGAACTCTAGTGAAAACAATCACGAATGATCAAATTGAAGTGACTAATGCTACTGAGCTGGTCCAGAGTTCCTCAACAGGTAGAATATGCGACAGTCCTCACCGAATCCTCGATGGAAAAAACTGCACACTGATAGATGCTCTATTGGGAGACCCTCATTGTGATGGCTTCCAAAATAAGGAATGGGACCTTTTTGTTGAACGCAGCAAAGCTTACAGCAATTGTTACCCTTATGATGTGCCAGATTATGCCTCCCTTAGGTCACTAGTTGCCTCATCAGGCACCCTGGAGTTTATCAATGAAGACTTCAATTGGACTGGAGTCCCTCAGAATGGGGACAGCTATGCTTGCAAAAGGGGATCTGTTAAAAGTTTCTTTAGTAGATTGAATTGGTTGCACGAATCAGAATACAAATATCCAACGCTGAACGTGACTATGCCAAACAATGACAAATTTGACAAGTTGTACATTTGGGGGGTTCACCACCCGAGCACGGACAGAGAACAAACCAGCCTATATATTCGAGCATCAGGGAGAGTCACAGTCTCTACCAAAAGAAGCCAACAAACTGTAATCCCGAATATCGGGTCCAGACCCTGGGTAAGGGGTCTGTCCAGTAGAATAAGCATCTATTGGACAATAGTAAAACCGGGAGACATACTTTTGATTAATAGCACCGGGAATCTAATTGCTCCTCGGGGTTACTTCAAAATACGGACTGGGAAAAGCTCGATAATGAGGTCAGATGCACCCATTGGCACCTGCAGTTCTGAATGCATCACTCCAAATGGAAGCATCCCCAATGACAAACCTTTTCAAAATGTAAACAGGATCACATATGGGGCATGTCCCAGATATGTTAAGCAAAACACTCTGAAATTGGCAACAGGGATGCGGAATGTACCAGAGAAACAAACTAGA'},\n",
       "   {'taxon': 'A_Aichi_69_1994',\n",
       "    'sequence': 'CAAAAACTTCCCGGAAATGACAACAGCACAGCAACGCTGTGCCTGGGACACCATGCAGTGCCAAACGGAACGCTAGTGAAAACAATCACGAATGATCAAATTGAAGTGACTAATGCTACTGAGCTGGTTCAGAGTTCCTCAACAGGTAGAATATGCGACAGTCCTCACCGAATCCTTGATGGAAAAAACTGCACACTGATAGATGCTCTATTGGGAGACCCTCATTGTGATGGCTTCCAAAATAAGGAATGGGACCTTTTTGTTGAACGCAGCAAAGCTTACAGCAACTGTTACCCTTATGATGTGCCGGACTATGCCTCCCTTAGGTCACTAGTTGCCTCATCAGGCACCCTGGAGTTTACCAATGAAGGCTTCAATTGGACTGGAGTCGCTCAGGATGGGAAAAGCTATGCTTGCAAAAGGGGATCTGTTAACAGTTTCTTTAGTAGATTGAATTGGTTGCACAAATTAGAATACAAATATCCAGCACTGAACGTGACTATGCCAAACAATGACAAATTTGACAAATTGTACATTTGGGGGGTTCACCACCCGAGCACGGACAGTGACCAAACCAGCCTATATGTTCAAGCATCAGGGAGAGTCACAGTCTCTACCAAAAGAAGCCAACAAACTGTAATCCCGAATATCGGGTCTAGACCCTGGGTAAGGGGTATCTCCAGTAGAATAAGCATCTATTGGACAATAGTAAAACCGGGAGACATACTTTTGGTTAACAGCACAGGGAATCTAATTGCTCCTCGAGGTTACTTCAAAATACGAAATGGGAAAAGCTCAATAATGAGATCAGATGCACCCATTGACAACTGCAATTCTGAATGCATCACTCCAAATGGAAGCATTCCCAATGACAAACCTTTTCAAAATGTAAACAGGATCACATATGGGGCCTGTCCCAGATATGTTAAGCAAAACACTCTGAAGTTGGCAACAGGGATGCGGAATGTACCAGAGAAACAAACT---'},\n",
       "   {'taxon': 'A_Akita_1_1994',\n",
       "    'sequence': 'CAAAAACTTCCCGGAAATGACAACAGCACAGCAACGCTGTGCCTGGGACACCATGCAGTGCCAAACGGAACGCTAGTGAGAACAATCACGAATGATCAAATTGAAGTGACTAATGCTACTGAGCTGGTTCAGAGTTCCTCAACAGGTAGAATATGCGACAGTCCTCACCGAATCCTTGATGGAAAAAACTGCACACTGATAGATGCTCTATTGGGAGACCCTCATTGTGATGGCTTCCAAAATAAGGAATGGGACCTTTTTGTTGAACGCAGCAAAGCTTACAGCAACTGTTACCCTTATGATGTGCCGGATTATGCCTCCCTTAGGTCACTAGTTGCCTCATCAGGCACCCTGGAGTTTATCAATGAAGACTTCAATTGGACTGGAGTCGCTCAGGATGGGAAAAGCTATGCTTGCAAAAGGGGATCTGTTAAAAGTTTCTTTAGTAGATTGAATTGGCTGCACAAATTAGAATACAAATATCCAGCGCTGAACGTGACTATGCCAAACAATGGCAAATTTGACAAATTGTACATTTGGGGGGTTCACCACCCGAGCACGGACAGTGACCAAACCAGCCTATATGTTCGAGCATCAGGGAGAGTCACAGTCTCTACCAAAAGAAGCCAACAAACTGTAATCCCGAATATCGGGTTTAGACCCTGGGTAAGGGGTCAGTCCAGTAGAATAAGCATCTATTGGACAATAGTAAAACCGGGAGACATACTTTTGATTAATAGCACAGGGAATTTAATTGCTCCTCGGGGTTACTTCAAAATACGAAATGGGAAAAGCTCAATAATGAGGTCAGATGCACCCATTGGCAACTGCAGTTCTGAATGCATCACTCCAAATGGAAGCATTCCCAATGACAAACCTTTTCAAAATGTAAACAGGATCACATATGGGGCCTGCCCCAGATATGTTAAGCAAAACACTCTGAAGTTGGCAACAGGGATGCGGAATGTACCAGAGAAACAAACT---'},\n",
       "   {'taxon': 'A_Argentina_3779_1994',\n",
       "    'sequence': 'CAAAAACTTCCCGGAAATGACAACAGCACAGCAACGCTGTGCCTGGGACACCATGCAGTGCCAAACGGAACGCTAGTGAAAACAATCACGAATGATCAAATTGAAGTGACTAATGCTACTGAGCTGGTTCAGAGTTCCCCAACAGGTAGAATATGCGACAGCCCTCACCGAATCCTTGATGGAAAGAACTGCACACTGATAGATGCTCTATTGGGAGACCCTCATTGTGATGGCTTCCAAAATAAGGAATGGGACCTTTTTGTTGAACGCAGCAAAGCTTACAGCAACTGTTACCCTTATGATGTGCCGGATTATGCCTCCCTTAGGTCACTAGTTGCCTCATCAGGCACCCTGGAGTTTATCAACGAAAACTTCAATTGGACTGGAGTCGCTCAGGATGGGAAAAGCTATGCTTGCAAAAGGGGATCTGTTAACAGTTTCTTTAGTAGATTGAATTGGTTGCACAAATTAGAATACAAATATCCAGCGCTGAACGTGACTATGCCACACAATGGCAAATTTGACAAATTGTACATTTGGGGGGTTCACCACCCGAGCACGGACAGTGTCCAAACCAGCCTATATGTCCGAGCATCAGGGAGAGTCACAGTCTCTACCAAAAGAAGCCAACAAACTGTAATCCCGGATATCGGGTATAGACCATGGGTAAGGGGTCAGTCCAGTAGAATAAGCATCTATTGGACAATAGTAAAACCGGGAGACATACTTTTGATTAATAGCACAGGGAATCTAATTGCTCCTCGGGGTTACTTCAAAATACGAAATGGGAAAAGCTCAATAATGAGGTCAGATGCACCCATTGGCAACTGCAGTTCTGAATGCATCACTCCAAATGGAAGCATTCCCAATGACAAACCTTTTCCAAATGTAAACAGGATCACATATGGGGCCTGCCCCAGATATGTTAAGGAAAACACTCTGAAATTGGCAACAGGGATGCGGAATGTACCAGAGAAACAAACTAGA'},\n",
       "   {'taxon': 'A_England_67_1994',\n",
       "    'sequence': 'CAAAAACTTCCCGGAAATGACAACAGCACAGCAACGCTGTGCCTGGGACACCATGCAGTGCCAAACGGAACGCTAGTGAAAACAATCACGAATGATCAAATTGAAGTGACTAATGCTACTGAGCTGGTTCAGAGTTCCCCAACAGGTAGAATATGCAACAGTCCTCACCGAATCCTTGATGGAAAGAACTGCACACTGATAGATGCTCTATTGGGAGACCCTCATTGTGATGGCTTCCAAAATAAGGAATGGGACCTTTTTGTTGAACGCAGCAAAGCTTACAGCAACTGTTACCCTTATGATGTGCCGGACTATGCCTCCCTTAGGTCACTAGTTGCCTCATCAGGCACCCTGGAGTTTATCAACGAAAACTTCAATTGGACCGGAGTCGCTCAGGATGGGAAAAGCTATACTTGCAAAAGGGGATCTGTTAACAGTTTCTTTAGTAGATTGAATTGGTTGCACAAATTAGAATACAAATATCCAGCGCTGAACGTGACTATGCCAAACAATGGCAAATTTGACAAATTGTACATTTGGGGGGTTCACCACCCGAGCACGGACAGTGACCAAACCAGCCTATATGTCCGAGCATCAGGGAGAGTCACAGTCTCTACCAAAAGAAGCCAACAAACTGTAATCCCGGATATCGGGTATAGACCATGGGTAAGGGGTCTGTCCAGTAGAATAAGCATCTATTGGACAATAGTAAAACCGGGAGACATACTTTTGATTAATAGCACAGGGAATCTAATTGCTCCTCGGGGTTACTTTAAAATACGAAATGGGAAAAGCTCAATAATGAGGTCAGATGCATCCATTGGCAACTGCAGTTCTGAATGCATCACTCCAAATGGAAGCATTCCCAATGACAAACCTTTTCAAAATGTAAACAGGATCACATATGGGGCCTGCCCCAGATATGTTAAGCAAAACACTCTGAAATTGGCAACAGGGATGCGGAATGTACCAGAGAAACAAACTAGA'},\n",
       "   {'taxon': 'A_France_1109_1994',\n",
       "    'sequence': 'CAAAAACTTCCCGGAAATGACAACAGCACAGCAACGCTGTGCCTGGGACACCATGCAGTGCCAAACGGAACGCTAGTGAAAACAATCACGAATGATCAAATTGAAGTGACTAATGCTACTGAGCTGGTTCAGAGTTCCTCAACAGGTAGAATATGCGACAGTCCTCACAGAATCCTTGATGGGAAAAACTGCACACTGATAGATGCTCTATTGGGAGACCCTAATTGTGATGGCTTCCAAAATAAGGAATGGGACCTTTTTGTTGAACGCAGCAAAGCTTACAGCAACTGTTACCCTTATGATGTGCCGGATTATGCCTCCCTTAGGTCACTAGTTGCCTCATCAGGCACCCTGGAGTTTACCAATGAGGACTTCAATTGGACTGGAGTCGCTCAGGATGGGGGAAGCTATGCTTGCAAAAGGGGATCTGTTAACAGTTTCTTTAGTAGATTGAATTGGTTGCACAAATTAGAATACAAATATCCAGCGCTGAACGTGACTATGCCAAACAATGGCAAATTTGACAAATTGTACATTTGGGGGGTTCACCACCCGAGCACGGACAGTGACCAAACTAGCCTATATGTTCGAGCATCAGGGAGAGTCACAGTCTCTACCAAAAGAAGCCAACAAACTGTAACCCCGAATATCGGGTCTAGACCCTGGGTAAGGGGTCTGTCCAGTAGAATAAGCATCTATTGGACAATAGTAAAACCGGGAGACATACTTTTGATTAATAGCACAGGAAATCTAATTGCTCCTCGGGGTTACTTCAAAATACGAAATGGGAAAAGCTCAATAATGAGGTCAGATGCACCCATTGGCACCTGCAGTTCTGAATGCATCACTCCAAATGGAAGCATTCCCAATGACAAACCTTTTCAAAATGTAAACAGGATCACATATGGGGCCTGCCCCAGATACGTTAAGCAAAACACTCTGAAATTGGCAACAGGGATGCGGAATGTACCAGAGAAACAAACTAGA'},\n",
       "   {'taxon': 'A_HongKong_1_1994',\n",
       "    'sequence': 'CAAAAACTTCCCGGAAATGACAACAGCACAGCAACGCTGTGCCTGGGACACCATGCAGTGCCAAACGGAACGCTAGTGAAAACAATCACGAATGATCAAATTGAAGTGACTAATGCTACTGAGCTGGTTCAGAGTTCCCCAACAGGTAGAATATGCGACAGTCCTCACCGAATCCTTGATGGAAAGAACTGCACACTGATAGATGCTCTATTGGGAGACCCTCATTGTGATGGCTTCCAAAATAAGGAATGGGACCTTTTTGTTGAACGCAGCAAAGCTTACAGCAACTGTTACCCTTATGATGTGCCGGATTATGCCTCCCTTAGGTCACTAGTTGCCTCATCAGGCACCCTGGAGTTTATCAACGAAAACTTCAATTGGACTGGAGTCGCTCAGGATGGGAAAAGCTATGCTTGCAAAAGGGGATCTGTTAACAGTTTCTTTAGTAGATTGAATTGGTTGCACAAATTAGAATACAAATATCCAGCGCTGAACGTGACTATGCCAAACAATGGCAAATTTGACAAATTGTACATTTGGGGGGTTCACCACCCGAGCACGGACAGTGACCAAACCAGCCTATATGTCCGAGCATCAGGGAGAGTCACAGTCTCTACCAAAAGAAGCCAACAAACTGTAATCCCGGATATCGGGTATAGACCATGGGTAAGGGGTCTGTCCAGTAGAATAAGCATCTATTGGACAATAGTAAAACCGGGAGACATACTTCTGATTAATAGCACAGGGAATCTAATTGCTCCTCGGGGTTACTTCAAAATACGAAATGGGAAAAGCTCAATTATGAGGTCAGATGCACCCATTGGCAACTGCAGTTCTGAATGCATCACTCCAAATGGAAGCATTCCCAATGACAAACCTTTTCAAAATGTAAACAGGATCACATATGGGGCCTGTCCCAGATATGTTAAGCAAAACACTCTGAAATTGGCAACAGGGATGCGGAATGTACCAGAGAAACAAACTAGA'},\n",
       "   {'taxon': 'A_Johannesburg_33_1994',\n",
       "    'sequence': 'CAAAAACTTCCCGGAAATGACAACAGCACAGCAACGCTGTGCCTGGGACACCATGCAGTGCCAAACGGAACGCTAGTGAAAACAATCACGAATGATCAAATTGAAGTGACTAATGCTACTGAGCTGGTTCAGAGTTCCCCAACAGGTAGAATATGCGACAGTCCTCACCGAATCCTTGATGGAAAGAACTGCACACTGATAGATGCTCTATTGGGAGACCCTCATTGTGATGGCTTCCAAAATAAGGAATGGGACCTTTTTGTTGAACGCAGCAAAGCTTACAGCAACTGTTACCCTTATGATGTGCCGGATTATGCCTCCCTTAGGTCACTAGTTGCCTCATCAGGCACCCTGGAGTTTATCAACGAAAACTTCAATTGGACTGGAGTCGCTCAGGATGGGAAAAGCTATGCTTGCAAAAGGGGATCTGTTAACAGTTTCTTTAGTAGATTGAATTGGTTGCACAAATTAGAATACAAATATCCAGCGCTGAACGTGACTATGCCAAACAATGGCAAATTTGACAAATTGTACATTTGGGGGGTTCACCACCCGAGCACGGACAGTGACCAAACCAGCCTATATGTCCGAGCATCAGGGAGAGTCACAGTCTCTACCAAAAGAAGCCAACAAACTGTAATCCCGGATATCGGGTATAGACCATGGGTAAGGGGTCAGTCCAGTAGAATAAGCATCTATTGGACAATAGTAAAACCGGGAGACATACTTTTGATTAATAGCACAGGGAATCTAATTGCTCCTCGGGGTTACTTCAAAATACGAAATGGGAAAAGCTCAATAATGAGGTCAGATGCACCCATTGGCAACTGCAGTTCTGAATGCATCACTCCAAATGGAAGCATTCCCAATGACAAACCTTTTCAAAATGTAAACAGGATCACATATGGGGCCTGCCCCAGATATGTTAAGCAAAACACTCTGAAATTGGCAACAGGGATGCGGAATGTACCAGAGAAACAAACTAGA'},\n",
       "   {'taxon': 'A_Mexico_3255_1994',\n",
       "    'sequence': 'CAAAAACTTCCCGGAAATGACAACAGCACAGCAACGCTGTGCCTGGGACATCATGCAGTGCCAAACGGAACGCTAGTGAAAACAATCACGAATGATCAAATTGAAGTGACTAATGCTACTGAGCTGGTTCAGAGTTCCTCAACAGGTAGAATATGTGACAGTCCTCACCGAATCCTTGATGGAAAAAATTGCACACTGATAGATGCTCTATTGGGAGACCCTCATTGTGATGGCTTCCAAAATAAGGAATGGGACCTTTTTGTTGAACGCAGCAAAGCTTACAGCAACTGTTACCCTTATGATGTGCCGGATTATGCCTCCCTTAGATCACTAGTTGCCTCATCAGGCACCCTGGAGTTTATCAATGAAGACTTCAATTGGACTGGAGTCGCTCAGAGTGGGGAAAGCTATGCTTGCAAAAGGGGATCTGTTAAAAGTTTCTTTAGTAGATTGAATTGGTTGCACGAATCAGATTACAAATATCCAGCGCTGAACGTGACTATGCCAAACAATGGCAAATTTGACAAATTGTACATTTGGGGGGTTCACCACCCGAGCACGGACAGAGAACAAACCAGCCTATATGTTCGAGCATCAGGGAGAGTCACAGTCTCCACCAAAAGAAGCCAACAAACTGTGATCCCGAATATCGGGTCCAGACCCTGGGTAAGGGGTCTGTCCAGTAGAATAAGCATCTATTGGACAATAGTGAAACCGGGAGACATACTTTTGATTAATAGCACCGGGAACCTAATTGCTCCTCGGGGTTACTTCAAAATACGAACTGGGAAAAGCTCGATAATGAGATCAGATGCACCCATTGGCACCTGCAGTTCTGAATGCATCACTCCAAATGGAAGCATCCCCAATGACAAACCTTTTCAAAACGTAAACAGGATCACATATGGGGCATGTCCCAGATATGTTAAGCAAAACACTCTGAAATTGGCAACAGGGATGCGGAATGTACCAGAGAAACAAACTAGA'},\n",
       "   {'taxon': 'A_Pennsylvania_7_1994',\n",
       "    'sequence': 'CAAAAACTTCCCGGAAATGACAACAGCACAGCAACGCTGTGCCTGGGACACCATGCAGTGCCAAACGGAACGCTAGTGAAAACAATCACGAATGATCAAATTGAAGTGACTAATGCTACTGAGCTGGTTCAGAGTTCCCCAACAGGTAGAATATGCGACAGTCCTCACCGAATCCTTGATGGAAGAAACTGCACACTGATAGATGCTCTATTGGGAGACCCTCATTGTGATGGCTTCCAAAATAAGGAATGGGACCTTTTTGTTGAACGCAGCAAAGCTTACAGCAACTGTTACCCTTATGATGTGCCGGATTATGCCTCCCTTAGGTCACTAGTTGCCTCATCAGGCACCCTGGAGTTTACCAACGAAAACTTCAATTGGACTGGAGTCGCTCAGGATGGGAAAAGCTATTCTTGCAAAAGGGGATCTGTTAACAGTTTCTTTAGTAGATTGAATTGGTTGCACAAATTAGAATACAAATATCCAGCGCTGAACGTGACTATGCCAAACAATGGCAAATTTGACAAATTGTACATTTGGGGGGTTCACCACCCGAGCACGGACAGTGACCAAACCAGCCTATATGTCCGAGCATCAGGGAGAGTCACAGTCTCTACCAAAAGAAGCCAACAAACTGTAATCCCGGATATCGGGTATAGACCATGGGTAAGGGGTCTGTCCAGTAGAATAAGCATCTATTGGACAATAGTAAAACCGGGAGACATACTTTTGATTAATAGCACAGGGAATCTAATTGCTCCTCGGGGTTACTTCAAAATACGAAATGGGAAAAGCTCAATAATGAGGTCAGATGCACCCATTGACAACTGCAGTTCTGAATGCATCACTCCAAATGGAAGCATTCCCAATGACAAACCTTTTCAAAATGTAAACAGGATCACATATGGGGCCTGCCCCAGATATGTTAAGCAAAACACTCTGAAATTGGCAACAGGGATGCGGGATGTACCAGAGAAACA-------'},\n",
       "   {'taxon': 'A_Romania_160_1994',\n",
       "    'sequence': 'CACAAACTTCCCAGAAATGACAACAGCACAGCAACGCTGTGCCTGGGACACCATGCAGTGCCAAACGGAACGCTAGTGAAAACAATCACGAATGATCAAATTGAAGTGACTAATGCTACTGAGCTGGTTCAGAGTTCCTCAACAGGTAGAATATGCGACAGTCCTCACCGAATCCTTGATGGAAAAAACTGCACACTGATAGATGCTCTATTGGGAGACCCTCATTGTGATGGCTTCCAAAATAAGGAATGGGACCTTTTTGTTGAACGCAGCAAAGCTTACAGCAACTGTTACCCTTATGATGTGCCGGATTATGCCTCCCTTAGGTCACTAGTTGCCTCATCAGGCACCCTGGAGTTTATCAATGAAGACTTCAATTGGACTGGAGTCGCTCAGGATGGGAAAAGCTATGCTTGCAAAAGGGGATCTGTTAACAGTTTCTTTAGTAGATTGAATTGGCTGCACAAATTAGAATACAAATATCCAGCGCTGAACGTGACTATGCCAAACAATGGCAAATTTGACAAATTGTACATTTGGGGGGTTCACCACCCGAGCACGGACAGTGACCAAACCAGCCTATATGTTCGAGCATCAGGGAGAGTCACAGTCTCTACCAAAAGAAGCCAACAAACTGTAATCCCGAATATCGGGTTTAGACCCTGGGTAAGGGGTCAGTCCAGTAGAATAAGCATCTATTGGACAATAGTAAAACCGGGAGACATACTTTTGATTAATAGCACAGGGAATCTAATTGCTCCTCGGGGTTACTTCAAAATACGAAATGGGAAAAGCTCAATAATGAGGTCAGATGCACCCATTGGCAACTGCAGTTCTGAATGCATCACTCCAAATGGAAGCATTCCCAATGACAAACCCTTTCAAAATGTAAACAGGATCACATATGGGGCCTGCCCCAGATACGTTAAGCAAAACACTCTGAAGTTGGCAACAGGGATGCGGAATGTACCAGAGAAACAAACTAGA'},\n",
       "   {'taxon': 'A_Santiago_7198_1994',\n",
       "    'sequence': 'CAAAAACTTCCCGGAAATGACAACAGCACAGCAACGCTGTGCCTGGGACACCATGCAGTGCCAAACGGGACGCTAGTGAAAACAATCACGAATGATCAAATTGAAGTGACTAATGCTACTGAGCTGGTTCAGAGTTCCTCAACAGGTAGAATATGCGACAGTCCTCACCGAATCCTTGATGGAAAAAACTGCACACTGATAGATGCTCTATTGGGAGACCCTCATTGTGATGGCTTCCAAAATAAGGAATGGGACATTTTTGTTGAACGCAGCAAAGCTTACAGCAACTGTTACCCTTATGATGTGCCGGATTATGCCTCCCTTAGGTCACTAGTTGCCTCATCAGGCACCCTGGAGTTTATCAATGAAGACTTCAATTGGACTGGCGTCGCTCAGGATGGGAAAAGCTATGCTTGCAAAAGGGGATCTGTTAACAGTTTCTTTAGTAGATTGAATTGGCTGCACAAATTAGAATACAAATATCCAGCGCTGAACGTGACTATGCCAAACAATGGCAAATTTGACAAATTGTACATTTGGGGGGTTCACCACCCGAGCACGGACAGTGACCAAACCAGACTATATGTTCGAGCATCAGGGAGAGTCACAGTCTCTACCAAAAGAAGCCAACAAACTGTAATCCCGAATATCGGGTTTAGACCCTGGGTAAGGGGTCAGTCCAGTAGAATAAGCATCTATTGGACAATAGTAAAACCGGGAGACATACTTTTGATTAATAGCACAGGGAATCTAATTGCTCCTCGGGGTTACTTCAAAATCCGAAATGGGAAAAGCTCAATAATGAGGTCAGATGCACCCATTGGCAGCTGCAGTTCTGAATGCATCACTCCAAATGGAAGCATTCCCAATGACAAACCTTTTCAAAATGTAAACAGGATCACATATGGGGCCTGCCCCAGATATGTTGAGCCACACACTCTGAAGTTGGCAACAGGGATGCGGTATGTACCAGAGAAACAAACTAGA'},\n",
       "   {'taxon': 'A_Shangdong_5_1994',\n",
       "    'sequence': 'CAAAAACTTCCCGGAAATGACAACAGCACAGCAACGCTGTGCCTGGGACACCATGCAGTGCCAAACGGAACGCTAGTGAAAACAATCACGAATGATCAAATTGAAGTGACTAATGCTACTGAGCTGGTTCAGAGTTCCTCAACAGGTAGAATATGCGACAGTCCTCACCGAATCCTTGATGGAAAAAACTGCACACTGATAGATGCTCTATTGGGAGACCCTCATTGTGATGGCTTCCAAAATAAGGAATGGGACCTTTTTGTTGAACGCAGCAAAGCTTACAGCAACTGTTACCCTTATGATGTGCCGGATTATGCCTCCCTTAGGTCACTAGTTGCCTCATCAGGCACCCTGGAGTTTACCAATGAAGGCTTCAATTGGACTGGAGTCGCTCAGGATGGGAAAAGCTATGCTTGCAAAAGGGGATCTGTTAACAGTTTCTTTAGTAGATTGAATTGGTTGCACAAATTAGAATACAAATATCCAGCACTGAACGTGACTATGCCAAACAATGACAAATTTGACAAATTGTACATTTGGGGGGTTCACCACCCGAGCACGGACAGTGACCAAACCAGAATATATGTTCAAGCATCAGGGAGAGTCACAGTCTCTACCAAAAGAAGCCAACAAACTGTAATCCCGAATATCGGGTCTAGACCCTGGGTGAGGGGTATCTCCAGTAGAATAAGCATCTATTGGACAATAGTAAAACCGGGAGACATACTTTTGATTAACAGCACAGGGAATCTAATTGCTCCTCGGGGTTACTTCAAAATACGAAATGGGAAAAGCTCAATAATGAGGTCAGATGCACCCATTGGCAACTGCAATTCTGAATGCATCACTCCAAATGGAAGCATTCCCAATGACAAACCTTTTCAAAATGTAAACAGGATCACATATGGGGCCTGTCCCAGATATGTTAAGCAAGACACTCTGAAATTGGCAACAGGGATGCGGAATGTACCAGAGAAACAAACTAGA'},\n",
       "   {'taxon': 'A_Singapore_7_1994',\n",
       "    'sequence': 'CAAAAACTTCCCGGAAATGACAACAGCACAGCAACGCTGTGCCTGGGGCACCATGCGGTGCCAAACGGAACGCTAGTGAAAACAATCGCGAATGATCAAATTGAAGTGACTAATGCTACTGAGCTGGTTCAGAATTCTTCAACAGGTAGAATATGCGACAGTCCTCACCGAATCCTTGATGGAAAAAACTGCACACTGATAGATGCTCTATTGGGAGACCCTCATTGTGATGGCTTCCAAAATAAGGAATGGGACCTTTTTGTTGAACGCAGCAAAGCTTACAGCAACTGTTACCCTTATGATGTGCCGGATTATGCCTCCCTTAGGTCACTAGTTGCCTCATCAGGCACCCTGGAGTTTATCAATGAAGACTTCAATTGGACTGGAGTCGCTCAGGATGGGAAAAGCTATACTTGCAAAAGGGGATCTGTTAACGGTTTCTTTAGTAGATTGAATTGGTTGCACAAATTAGAATACAAATATCCAGCGCTGAACGTGACTATGCCAAACAATGGCAAATTTGACAAATTGTACATTTGGGGGGTTCACCACCCGAGCACGGACAGTGACCAAACCAGCCTATATGTTCGAGCATCAGGGGGAGTCACAGTCTCTACCAAAAGAAGCCAACAAACAGTAATCCCGAGTATCGGGTCTAGACCCTGGGTAAGGGGTCAGTCCAGTAGAATAAGCATCTATTGGACAATAGTAAAACCGGGAGACATACTTTTGATTAATAGCACAGGGAATCTAATTGCTCCTCGGGGTTACTTCAAAATACGAAATGGGAAAAGCTCAATAATGAGGTCAGATGCACCCATTGGCAACTGCAGTTCTGAATGCATCACTCCAAATGGAAGCATTCCCAATGACAAACCTTTTCAAAATGTAAACAGGATCACATATGGGGCCTGCCCCAGATATGTTAAGCAAAACACTCTGAAATTGGCAACAGGGATGCGGAATGTACCAGAGAAACAAACTAGA'},\n",
       "   {'taxon': 'A_Thailand_75_1994',\n",
       "    'sequence': 'CAAAAACTTCCCGGAAATGACAACAGCACAGCAACGCTGTGCCTGGGACACCATGCGGTGCCAAACGGAACGCTAGTGAAAACAATCACGAATGATCAAATTGAAGTGACTAATGCTACTGAGCTGGTTCAGAATTCCTCAACAGGTAGAATATGCGACAGTCCTCACCGAATCCTTGATGGAAAAAACTGCACACTGATAGATGCTCTATTGGGAGACCCTCATTGTGATGGCTTCCAAAATAAGGAATGGGACCTTTTTGTTGAACGCAGCAAAGCTTACAGCAACTGTTACCCTTATGATGTGCCGGATTATGCCTCCCTTAGGTCACTAGTTGCCTCATCAGGCACCCTGGAGTTTATTAATGAAGACTTCAATTGGACTGGAGTCGCTCAGGATGGGAAAAGCTATGCTTGCAAAAGGGGATCTGTTAAAGGTTTCTTTAGTAGATTGAATTGGTTGCACAAATTAGAATACAAATATCCAGCGCTGAACGTGACTATACCAAACAATGGCAAATCTGACAAATTGTACATTTGGGGGGTTCACCACCCGAGCACGGACAGTGACCAAACCAGCCTATATGTTCGAGCATCAGGGGGAGTCACAGTCTCTACCAAAAGAAGCCAACAAACAGTAATCCCGAGTATCGGGTCTAGACCCTGGGTAAGGGGTCTGTCCAGTAGAATAAGCATCTATTGGACAATAGTAAAACCGGGAGACATACTTTTGATTAATAGCACAGGGAATCTAATTGCTCCTCGGGGTTACTTCAAAATACGAAATGGGAAAAGCTCAATAATGAGGTCAGATGCACCCATTGGCAACTGCAGTTCTGAATGCATCACTCCAAATGGAAGCATTCCCAATGACAAACCTTTTCAAAATGTAAACAGGATCACATATGGGGCCTGCCCCAGATATGTTAAGCAAAACACTCTGAAATTGGCAACAGGAATGCGGAATGTACCAGAGAAACAAACTAGA'},\n",
       "   {'taxon': 'A_Vermont_3_1994',\n",
       "    'sequence': 'CAAAAACTTCCCGGAAATGACAACAGCACAGCAACGCTGTGCCTGGGACACCATGCAGTGCCAAACGGAACGCTAGTGAAAACAATCACGAATGATCAAATTGAAGTGACTAATGCTACTGAGCTGGTTCAGAGTTCCTCAACAGGTAGAATATGCGACAGTCCTCACCGAATCCTTGATGGAAAAAACTGCACACTGATAGATGCTCTATTGGGAGACCCTCATTGTGATGGCTTCCAAAATAAGGAATGGGACCTTTTTGTTGAACGCAGTAAAGCTTACAGCAACTGTTACCCTTATGATGTGCCGGATTATGCCTCCCTTAGGTCACTAGTTGCCTCATCAGGCACCCTGGAGTTTATCAATGAAGACTTCAATTGGACTGGAGTCGCTCAGGATGGGAAAAGCTATGCTTGCAAAAGGGGATCTGTTAACAGTTTCTTTAGTAGATTGAATTGGCTGCACAAATTAGAATACAAATATCCAGCGCTGAACGTGACTATGCCAAACAATGGCAAATTTGACAAATTGTACATTTGGGGGGTTCACCACCCGAGCACGGACAGTGACCAAACCAGCCTATATGTTCGAGCATCAGGGAGAGTCACAGTCTCTACCAAAAGAAGCCAACAAACTGTAATCCCGAATATCGGGTTTAGACCCTGGGTAAGGGGTCAGTCCAGTAGAATAAGCATCTATTGGACAATAGTAAAACCGGGAGACATACTTTTGATTAATAGCACAGGGAATCTAATTGCTCCTCGGGGTTACTTCAAAATACGAAATGGGAAAAGCTCAATAATGAGGTCAGATGCACCCATTGGCAACTGCAGTTCTGAATGCATCACTCCAAATGGAAGCATTCCCAATGACAAACCTTTTCAAAATGTAAACAGGATCACATATGGGGCCTGCCCCAGATATGTTAAGCAAAACACTCTGAAGTTGGCAACAGGGATGCGGAATGTACCAGAGAAACAAACTAGA'},\n",
       "   {'taxon': 'A_Athens_1_1998',\n",
       "    'sequence': 'CAAAAACTTCCCGGAAATGACAACAGCACGGCAACGCTGTGCCTGGGACACCATGCAGTGCCAAACGGAACGCTAGTGAAAACAATCACGAATGACCAAATTGAAGTGACTAATGCTACTGAGCTGGTTCAGAGTTCCTCAACAGGTAGAATATGCGACAGTCCTCACCGAATCCTTGATGGAAAAAACTGCACACTGATAGATGCTCTATTGGGAGACCCTCATTGTGATGACTTCCAAAATAAGGAATGGGACCTTTTTGTTGAACGCAGCAAAGCTTACAGCAACTGTTACCCTTATGATGTGCCGGATTATGCCTCCCTTAGGTCACTAGTTGCCTCATCCGGCACCCTGGAGTTTAACAATGAAAGCTTCAATTGGACTGGAGTCGCTCAGAATGGAACAAGCTATGCTTGCAAAAGGAGATCTGTTAAAAGTTTCTTTAGTAGATTGAATTGGTTGCACAAATTAGAATACAAATATCCAGCACTGAACGTGACTATGCCAAACAATGACAAATTTGACAAATTGTACATTTGGGGGGTTCACCACCCGAGTACGGACAGTGACCAAACCAGCGTATATGTTCAAGCATCAGGGAGAGTCACAGTCTCTACCAAAAGAAGCCAACAAACTGTAATCCCGAATATCGGATCTAGACCCTGGGTAAGGGGTGTCTCCAGCAGAATAAGCATCTATTGGACAATAGTAAAACCTGGAGACATACTTTTGATTAACAGCACAGGGAATCTAATTGCTCCTCGGGGTTACTTCAAAATACGAAGTGGGAAAAGCTCAATAATGAGGTCAGATGCACCCATTGGCAACTGCAATTCTGAATGCATCACTCCAAATGGAAGCATTCCCAATGACAAACCATTTCAAAATGTAAACAGGATCACATATGGGGCCTGTCCCAGATATGTTAAGCAAAACACTCTGAAATTGGCAACAGGGATGCGGAATGTACCAGAGAAACAAACTAGA'},\n",
       "   {'taxon': 'A_Christchurch_45_1998',\n",
       "    'sequence': 'CAAAAACTTCCCGGAAATGACAACAGCACGGCAACGCTGTGCCTGGGACATCATGCAGTGCCAAACGGAACGCTAGTGAAAACAATCACGAATGACCAAATTGAAGTGACTAATGCTACTGAGCTGGTTCAGAGTTCCTCAACAGATAGAATATGCGACAGTCCTCACCAAATCCTTGATGGAGAAAACTGCACACTGATAGATGCTCTATTGGGAGACCCTCATTGTGATGGCTTCCAAAATAAGGAATGGGACCTTTTTGTTGAACGCAGCAAAGCCTACAGCAACTGTTACCCTTATGATGTGCCGGATTATGCCTCCCTTAGGTCACTAGTTGCCTCATCCGGCACCCTGGAGTTTAACAATGAAAGCTTCAATTGGACTGGAGTCGCTCAGAATGGAACAAGCTCTGCTTGCAAAAGGAGATCTATTAAAAGTTTCTTTAGTAGATTGAATTGGTTGCACCAATTAAAATACAAATATCCAGCACTGAACGTGACTATGCCAAACAATGACAAATTTGACAAATTGTACATTTGGGGGGTTCACCACCCGAGTACGGACAGTGACCAAACCAGCCTATATGCTCAAGCATCAGGGAGAGTCACAGTCTCTACCAAAAGAAGCCAACAAACTGTAATCCCGAATATCGGATCTAGACCCTGGGTAAGGGGTGTCTCCAGCAGAATAAGCATCTATTGGACAATAGTAAAACCGGGAGACATACTTTTGATTAACAGCACAGGGAATCTAATTGCTCCTCGGGGTTACTTCAAAATACGAAGTGGGAAAAGCTCAATAATGAGGTCAGATGCACCCATTGGCAAATGCAATTCTGAATGCATCACTCCAAATGGAAGCATTCCCAATGACAAACCATTTCAAAATGTAAACAGGATCACATATGGGGCCTGTCCCAGATATGTTAAGCAAAACACTCTGAAATTGGCAACAGGGATGCGGAATGTACCAGAGAAACAAACTAGA'},\n",
       "   {'taxon': 'A_Cordoba_V185_1998',\n",
       "    'sequence': 'CAAAAACTTCCCGGAAATGACAACAGCACGGCAACGCTGTGCCTGGGACATCATGCAGTGCCAAACGGAACGCTAGTGAAAACAATCACGAATGACCAAATTGAAGTGACTAATGCTACTGAGCTGGTTCAGAGTTCCTCAACAGGTAGAATATGCGACAGTCCTCACCGAATCCTTGATGGAGAAAACTGCACACTGATAGATGCTCTATTGGGAGACCCTCATTGTGATGGCTTCCAAAATAAGGAATGGGACCTTTTTGTTGAACGCAGCAAAGCCTACAGCAACTGTTACCCTTATGATGTGCCGGATTATGCCTCCCTTAGGTCACTAGTTGCCTCATCCGGCACCCTGGAGTTTAACAATGAAAGCTTCAATTGGACTGGAGTCGCTCAGAATGGAACAAGCTCTGCTTGCAAAAGGAGATCTATTAAAAGTTTCTTTAGTAGATTGAATTGGTTGCACCAATTAAAATACAAATATCCAGCACTGAACGTGACTATGCCAAACAATGACAAATTTGACAAATTGTACATTTGGGGGGTTCACCACCCGAGTACGGACAGTGACCAAACCAGCCTATATGCTCAAGCATCAGGGAGAGTCACAGTCTCTACCAAAAGAAGCCAACAAACTGTAATCCCAAATATCGGATCTAGACCCTGGGTAAGGGGTGTCTCCAGCAAAATAAGCATCTATTGGACAATAGTAAAACCGGGAGACATACTTTTGATTAACAGCACAGGGAATCTAATTGCTCCTCGGGGTTACTTCAAAATACGAAGTGGGAAAAGCTCAATAATGAGGTCAGATGCACCCATTGGCAAATGCAATTCTGAATGCATCACTCCAAATGGAAGCATTCCCAATGACAAACCATTTCAAAATGTAAACAGGATCACATATGGGGCCTGTCCCAGATATGTTAAGCAAAACACTCTTAAATTGGCAACAGGGATGCGGAATGTACCAGAGAAACAAACT---'},\n",
       "   {'taxon': 'A_Greece_103_1998',\n",
       "    'sequence': 'CAAAAACTTCCCGGAAATGACAACAGCACGGCAACTCTGTGCCTGGGACACCATGCAGTGCCAAACGGAACGCTTGTGAAAACAATCACGAATGACCAAATTGAAGTGACTAATGCTACTGAGCTGGTTCAGAGTTCCTCAACAGGTAGAATATGCGACAGTCCTCACCGAATCCTTGATGGAGAAAACTGCACACTGATAGATGCTCTATTGGGAGACCCTCATTGTGATGGCTTCCAAAATAAGAAATGGGACCTTTTTGTTGAACGCAGCAAAGCCTACAGCAACTGTTACCCTTATGATGTGCCGGATTATGCCTCCCTTAGGTCACTAGTTGCCTCATCCGGCACCCTGGAGTTTAACAATGAAAGCTTCAATTGGACTGGAGTCGCTCAGAATGGAACAAGCTATGCTTGCAAAAGGAGATCTATTAAAAGTTTCTTTAGTAGATTGAATTGGTTGCACCAATTAAAATACAAATATCCAGCACTGAACGTGACTATGCCAAACAATGACAAATTTGACAAATTGTACATTTGGGGGGTTCACCACCCGAGTACGGACAGTGACCAAACCAGCCTATATGCTCAAGCATCAGGGAGAGTCACAGTCTCTACCAAAAGAAGCCAACAAACTGTAATCCCGAATATCGGATCTAGACCCTGGGTAAGGGGTGTCTCCAGCAGAATAAGCATCTATTGGACAATAGTAAAACCGGGAGACATACTTTTGATTAACAGCACAGGGAATCTAATTGCTCCTCGGGGTTACTTCAAAATACGAAGTGGGAAAAGCTCAATAATGAGGTCAGATGCACCCATTGACAAATGCAATTCTGAATGCATCACTCCAAATGGAAGCATTCCCAATGACAAACCATTTCAAAATGTAAACAGGATCACATATGGGGCCTGTCCCAGATATGTTAAGCAAAACACCCTGAAATTGGCAACAGGGATGCGGAATGAACCAGAAATAAAACTA---'},\n",
       "   {'taxon': 'A_JOHANNESBURG_3_1998',\n",
       "    'sequence': 'CAAAAACTTCCCGGAAATGACAACAGCACGGCAACGCTGTGCCTGGGACACCATGCAGTGCCAAACGGAACGCTAGTGAAAACAATCACGAATGACCAAATTGAAGTGACTAATGCTACTGAGCTGGTTCAGAGTTCCTCAACAGGTAGAATATGCGACAGTCCTCACCGAATCCTTGATGGAGAAAACTGCACACTGATAGATGCTCTATTGGGAGACCCTCATTGTGATGGCTTCCAAAATAAGGAATGGGACCTTTTTGTTGAACGCAGCAAAGCCTACAGCAACTGTTACCCTTATGATGTGCAGGATTATGCCTCCCTTAGGTCACTAGTTGCCTCATCCGGCACCCTGGAGTTTAACAATGAAAGCTTCAATTGGACTGGAGTCGCTCAGAATGGAACAAGCTATGCTTGCAAAAGGAGATCTATTAAAAGTTTCTTTAGTAGATTGAATTGGTTGCACCAATTAAAATACAAATATCCAGCACTGAACGTGACTATGCCAAACAATGACAAATTTGACAAATTGTACATTTGGGGGGTTCACCACCCGAGTACGGACAGTGACCAAACCAGCCTATATGCTCAAGCATCAGGGAGAGTCACAGTCTCTACCAAAAGAAGCCAACAAACTGTAATCCCGAATATCGGATCTAGACCCTGGGTAAGGGGTGTCTCCAGCAGAATAAGCATCTATTGGACAATAGTAAAACCGGGAGACATACTTTTGATTAACAGCACAGGGAATCTAATTGCTCCTCGGGGTTACTTCAAAATACGAAGTGGGAAAAGCTCAATAATGAGGTCAGATGCACCCATTGGCAAATGCAATTCTGAATGCATCACTCCAAATGGAAGCATTCCCAATGACAAACCATTTCAAAATGTAAACAGGATCACATATGGGGCCTGTCCCAGATATGTTAAGCAAAACACTCTGAAATTGGCAACAGGGATGCGGAATGTACCAGAGAAACAAACTAGA'},\n",
       "   {'taxon': 'A_MALMO_1_1998',\n",
       "    'sequence': 'CAAAAAATTCCCGGAAATGACAACAGCACGGCAACGCTGTGCCTGGGACACCATGCAGTGCCAAACGGAACGCTAGTGAAAACAATCACGAATGACCAAATTGAAGTGACTAATGCTACTGAGCTGGTTCAGAGTTCCTCAACAGGTAGAATATGCGACAGTCCTCACCGAATCCTTGATGGAGAAAACTGCACACTGATAGATGCTCTATTGGGAGACCCTCACTGTGATGGCTTCCAAAATAAGGAATGGGACCTTTTTGTTGAACGCAGCAAAGCCTACAGCAACTGTTACCCTTATGATGTGCCGGATTATGCCTCCCTTAGGTCACTAGTTGCCTCATCCGGCACCCTGGAGTTTAACAATGAAAGCTTCAATTGGACTGGAGTCGCTCAGAATGGAACAAGCTATGCTTGCAAAAGGAGATCTATTAAAAGTTTCTTTAGTAGATTGAATTGGTTGCACCAATTAAAATACAAATATCCAGCACTGAACGTGACTATGCCAAACAATGACAAATTTGACAAGTTGTACATTTGGGGGGTTCACCACCCGAGTACGGACAGTGACCAAACCAGCCTATATGCTCAAGCATCAGGGAGAGTCACAGTCTCTACCAAAAGAAGCCAACAAACTGTAATCCCGAATATCGGATCTAGACCCTGGGTAAGGGGTGTCTCCAGCAGAATAAGCATCTATTGGACAATAGTAAAACCGGGAGACATACTTTTGATTAACAGCACAGGGAATCTAATTGCTCCTCGGGGTTACTTCAAAATACGAAGTGGGAAAAGCTCAATAATGAGGTCAGATGCACCCATTGGCAAATGCAATTCTGAATGCATCACTCCAAATGGAAGCATTCCCAATGACAAACCATTTCAAAATGTAAACAGGATCACATATGGGGCCTGTCCCAGATATGTTAAGCAAAACACTCTGAAATTGGCAACAGGGATGCGGAATGTACCAGAGAAACAAACTAGA'},\n",
       "   {'taxon': 'A_Nagasaki_76_1998',\n",
       "    'sequence': 'CAAAAACTTCCCGGAAATGACAACAGCACGGCAACACTGTGCCTGGGACACCATGCAGTGCCAAACGGAACGCTAGTGAAAACAATCACGAATGACCAAATTGAAGTGACTAATGCTACTGAGCTGGTTCAGAGTTCCTCAACAGGTAGAATATGCGACAGTCCTCACCGAATCCTTGATGGAGAGAACTGCACACTGATAGATGCTCTATTGGGAGACCCTCATTGTGATGGCTTCCAAAATAAGGAATGGGACCTTTTTGTTGAACGCAGCAAAGCCTACAGCAACTGTTACCCTTATGATGTGCCGGATTATGCCTCCCTTAGATCACTAGTTGCCTCATCCGGCACCCTGGAGTTTAACAATGAAAGCTTCAATTGGACTGGAGTCGCTCAGAATGGAACAAGCTCTGCTTGCAAAAGGAGATCTATTAAAAGTTTCTTTAGTAGATTGAATTGGTTGCACCAATTAAAATACAAATATCCAGCACTGAACGTGACTATGCCAAACAATGACAAATTTGACAAATTGTACATTTGGGGGGTTCACCACCCGAGTACGGACAGTGACCAAACCAGCCTATATGCTCAAACATCAGGGAGAGTCACAGTCTCTACCAAAAGAAGCCAACAAACTGTAATCCCGAATATCGGATCTAGACCCTGGGTAAGGGGTGTCTCCAGCAGAATAAGCATCTATTGGACAATAGTAAAACCGGGAGACATACTTTTGATTAACAGCACAGGGAATCTAATTGCTCCTCGGGGTTACTTCAAAATACGAAGTGGGAAAAGCTCAATAATGAGGTCAGATGCACCCATTGGCAAATGCAATTATGAATGCATCACTCCAAATGGAAGCATTCCCAATGACAAACCATTTCAAAATGTAAACAGGATCACATATGGGGCCTGTCCCAGATATGTTAAGCAAAACACTCTGAAATTGGCAACAGGGATGCGGAATGTACCAGAGAAACAAACTAGA'},\n",
       "   {'taxon': 'A_Neuquen_V541_1998',\n",
       "    'sequence': 'CAAAAACTTCCCGGAAATGACAACAGCACGGCAACGCTGTGCCTGGGACACCATGCAGTGCCAAACGGAACGCTAGTGAAAACAATCACGAATGACCAAATTGAAGTGACTAATGCTACTGAGCTGGTTCAGAGTTCCTCAACAGGTAGAATATGCGACAGTCCTCACCGAATCCTTGATGGAGAAAACTGCACACTGATAGATGCTCTATTGGGAGACCCTCATTGTGATGGCTTCCAAAATAAGGAATGGGACCTTTTTGTTGAACGCAGCAAAGCCTACAGCAACTGTTACCCTTATGATGTGCAAGATTATGCCTCCCTTAGGTCACTAGTTGCCTCATCCGGCACCCTGGAGTTTAACAATGAAAGCTTCAATTGGACTGGAGTCGCTCAGAATGGAACAAGCTATGCTTGCAAAAGGAGATCTATTAAAAGTTTCTTTAGTAGATTGAATTGGTTGCACCAATTAAAATACAAATATCCAGCACTGAACGTGACTATGCCAAACAATGACAAATTTGACAAATTGTACATTTGGGGGGTTCACCACCCGAGTACGGACAGTGACCAAACCAGCCTATATGCTCAAGCATCAGGGAGAGTCACAGTCTCTACCAAAAGAAGCCAACAAACTGTAATCCCGAATATCGGATCTAGACCCTGGGTAAGGGGTGTCTCCAGCAGAATAAGCATCTATTGGACAATAGTAAAACCGGGAGACATACTTTTGATTAACAGCACAGGGAATCTAATTGCTCCTCGGGGTTACTTCAAAATACGAAGTGGGAAAAGCTCAATAATGAGGTCAGATGCACCCATTGGCAAATGCAATTCTGAATGCATCACTCCAAATGGAAGCATTCCCAATGACAAACCATTTCAAAATGTAAACAGGATCACATATGGGGCCTGTCCCAGATATGTTAAGCAAAACACTCTGAAATTGGCAACAGGGATGCGGAATGTACCAGAGAAACAAACT---'},\n",
       "   {'taxon': 'A_PERTH_24_1998',\n",
       "    'sequence': 'CAAAAACTTCCCGGAGATGACAACAGCACGGCAACGCTGTGCCTGGGACACCATGCAGTGCCAAACGGAACGCTAGTGAAAACAATCACGAATGACCAAATTGAAGTGACTAATGCTACTGAGCTGGTTCAGAGTTCCTCAACAGGTAGAATATGCGACAGTCCTCACCGAATCCTTGATGGAGAAAACTGCACACTGATAGATGCTCTATTGGGAGACCCTCATTGTGATGGCTTCCAAAATAAGGAATGGGACCTTTTTGTTGAACGCAGCAAAGCCTACAGCAACTGTTACCCTTATGATGTGCAGGATTATGCCTCCCTTAGGTCACTAGTTGCCTCATCCGGCACCCTGGAGTTTAACAATGAAAGCTTCAATTGGACTGGAGTCGCTCAGAATGGAACAAGCTATGCTTGCAAAAGGAGATCTATTAAAAGTTTCTTTAGTAGATTGAATTGGCTGCACCAATTAAAATACAAGTATCCAGCACTGAACGTGACTATGCCAAACAATGACAAATTTGACAAATTGTACATTTGGGGGGTTCACCACCCGAGTACGGACAGTGACCAAACCAGCCTATATGCTCAAGCATCAGGGAGAGTCACAGTCTCTACCAAAAGAAGCCAACAAACTGTAATCCCGAATATCGGATCTAGACCCTGGGTAAGGGGTGTCTCCAGCAGAATAAGCATCTATTGGACAATAGTAAAACCGGGAGACATACTTTTGATTAACAGCACAGGGAATCTAATTGCTCCTCGGGGTTACTTCAAAATACGAAGTGGGAAAAGCTCAATAATGAGGTCAGATGCACCCATTGGCAAATGCAATTCTGAATGCATCACTCCAAATGGAAGCATTCCCAATGACAAACCATTTCAAAATGTAAACAGGATCACATATGGGGCCTGTCCCAGATATGTTAAGCAAAACACTCTGAAATTGGCAACAGGGATGCGGAATGTACCAGAGAAACAAACTAGA'},\n",
       "   {'taxon': 'A_Pusan_68_1998',\n",
       "    'sequence': 'CAAAAACTTCCCGGAAATGACAACAGCACGGCAACGCTGTGCCTGGGACACCATGCAGTGCCAAACGGAACGCTAGTGAAAACAATCACGAGTGACCAAATTGAAGTGACTAATGCTACTGAGCTGGTTCAGAGTTCCTCAACAGGTAGAATATGCGACAGTCCTCACCGAATCCTTGATGGAGAAAACTGCACACTGATAGATGCTCTATTGGGAGACCCTCATTGTGATGGCTTCCAAAATAAGGAATGGGACCTTTTTGTTGAACGCAGCAAAGCCTACAGCAACTGTTACCCTTATGATGTGCCGGATTATGCCTCCCTTAGGTCACTAGTTGCCTCATCCGGCACCCTGGAGTTTAACAATGAAAGCTTCAATTGGACTGGAGTCGCTCAGAATGGAACAAGCTTTGCTTGCAAAAGGAGATCTATTAAAAGTTTCTTTAGTAGATTGAATTGGTTGCACCAATTAAAATACAAATATCCAGCACTGAACGTGACTATGCCAAACAATGACAAATTTGACAAATTGTACATTTGGGGGGTTCACCACCCGAGTACGGACAGTGACCAAACCAGCCTATATGCTCAAGCATCAGGGAGAGTCACAGTCTCTACCAAAAGAAGCCAACAAACTGTAATCCCGAATATCGGATCTAGACCCTGGGTAAGGGGTGTTTCCAGCAGAATAAGCATCTATTGGACAATAGTGAAACCGGGAGACATACTTCTGATTAACAGCACAGGGAATCTAATTGCTCCTCGGGGTTACTTCAAAATACGAAGTGGGAAAAGCTCAATAATGAAGTCAGATGCACCCATTGGCAAATGCAATTCTGAATGCATCACTCCAAATGGAAGCATTCCCAATGACAAACCATTTCAAAATGTAAACAGGATCACATATGGGGCCTGTCCCAGATATGTTAAGCAAAACACTCTGAAATTGGCAACAGGGATGCGGAATGTACCAGAGAAACAAACTAGA'},\n",
       "   {'taxon': 'A_Seoul_37_1998',\n",
       "    'sequence': 'CAAAAACTTCCCGGAAATGACAACAGCACGGCAACGCTGTGCCTGGGACACCATGCAGTGCCAAACGGAACGCTAGTGAAAACAATCACGAATGACCAAATTGAAGTGACTAATGCTACTGAGCTGGTTCAGAGTTCCTCAACAGGTAGAATATGCGACAGTCCTCACCGAATCCTTGATGGAGAAAACTGCACACTGATAGATGCTCTATTGGGAGACCCTCATTGTGATGGCTTCCAAAATAAGGAATGGGACCTTTTTGTTGAACGCAGCAAAGCCTACAGCAACTGTTACCCTTATGATGTGCAGGATTATGCCTCCCTTAGGTCACTAGTTGCCTCATCCGGCACCCTGGAGTTTAACAATGAAAGCTTCAATTGGACTGGAGTCGCTCAGAATGGAACAAGCTATGCTTGCAAAAGGAGATCTATTAAAAGTTTCTTTAGTAGATTGAATTGGTTGCACCAATTAAAATACAAATATCCAGCACTGAACGTGACTATGCCAAACAATGACAAATTTGACAAATTGTACATTTGGGGGGTTCACCACCCGAGTACGGACAGTGACCAAACAAGCCTATATGCTCAAGCATCAGGGAGAGTCACAGTCTCTACCAAAAGAAGCCAACAAACTGTAATCCCGAATATCGGATCTAGACCCTGGGTAAGGGGTGTCTCCAGCAGAATAAGCATCTATTGGACAATAGTAAAACCGGGAGACATACTTTTGATTAACAGCACAGGGAATCTAATTGCTCCTCGGGGTTACTTCAAAATACGAAGTGGGAAAAGCTCAATAATGAGGTCAGATGCACCCATTGGCAAATGCAATTCTGAATGCATCACTCCAAATGGAAGCATTCCCAATGACAAACCATTTCAAAATGTAAACAGGATCACATATGGGGCCTGTCCCAGATATGTTAAGCAAAACACTCTGAAATTGGCAACAGGGATGCGGAATGTACCAGAGAAACAAACTAGA'},\n",
       "   {'taxon': 'A_Switzerland_7729_1998',\n",
       "    'sequence': 'CAAAAACTTCCCGGAAATGACAACAGCACGGCAACGCTGTGCCTGGGACACCATGCAGTGCCAAACGGAACGCTAGTGAAAACAATCACGAATGACCAAATTGAAGTGACTAATGCTACTGAGCTGGTTCAGAGTTCCTCAACAGGTAGAATATGCGACAGTCCTCACCGAATCCTTGATGGAGAAAACTGCACACTGATAGATGCTCTATTGGGAGACCCTCATTGTGATGGCTTCCAAAATAAGGAATGGGACCTTTTTGTTGAACGCAGCAAAGCCTACAGCAACTGTTACCCTTATGATGTGCAGGATTATGCCTCCCTTAGGTCACTAGTTGCCTCATCCGGCACCCTGGAGTTTAACAATGAAAGCTTCAATTGGACTGAAGTCGCTCAGAATGGAACAAGCTATGCTTGCAAAAGGAGATCTATTAAAAGTTTCTTTAGTAGATTGAATTGGTTGCACCAATTAAAATACAAATATCCAGCACTGAACGTGACTATGCCAAACAATGACAAATTTGACAAATTGTACATTTGGGGGGTTCACCACCCGAGTACGGACAGTGACCAAACCAGCCTATATGCTCAAGCATCAGGGAGAGTCACAGTCTCTACCAAAAGAAGCCAACAAACTGTAATCCCGAATATCGGATCTAGACCCTGGGTAAGGGGTGTCTCCAGCAGAATAAGCATCTATTGGACAATAGTAAAACCGGGAGACATACTTTTGATTAACAGCACAGGGAATCTAATTGCTCCTCGGGGTTACTTCAAAATACGAAGTGGGAAAAGCTCAATAATGAGGTCAGATGCACCCATTGGCAAATGCAATTCTGAATGCATCACTCCAAATGGAAGCATTCCCAATGACAAACCATTTCAAAATGTAAACAGGATCACATATGGGGCCTGTCCCAGATATGTTAAGCAAAACACTCTGAAATTGGCAACAGGGATGCGGAATGTACCAGAGAAACAAACTAGA'},\n",
       "   {'taxon': 'A_Tucuman_V425_1998',\n",
       "    'sequence': 'CAAAAACTTCCCGGAAATGACAACAGCACGGCAACGCTGTGCCTGGGACACCATGCAGTGCCAAACGGAACGCTAGTGAAAACAATCACGAATGACCAAATTGAAGTGACTAATGCTACTGAGCTGGTTCAGAGTTCCTCAACAGGTAGAATATGCGACAGTCCTCACCGAATCCTTGATGGAGAAAACTGCACACTGATAGATGCTCTATTGGGAGACCCTCATTGTGATGGCTTCCAAAATAAGGAATGGGACCTTTTTGTTGAACGCAGCAAAGCCTACAGCAACTGTTACCCTTATGATGTGCCGGATTATGCCTCCCTTAGGTCACTAGTTGCCTCATCCGGCACCCTGGAGTTTAACAATGAAAGCTTCAATTGGACTGAAGTCGCTCAGAATGGAACAAGCTCTGCTTGCAAAAGGAGATCTATTAAAAGTTTCTTTAGTAGATTGAATTGGTTGCACCAATTAAAATACAAATATCCAGCACTGAACGTGACTATGCCAAACAATGACAAATTTGACAAATTGTACATTTGGGGGGTTCACCACCCGAGTACGGACAGTGACCAAACCAGCATATATGCTCAAGCATCAGGGAGAGTCACAGTCTCTACCAAAAGAAGCCAACAAACTGTAATCCCGAATATCGGATCTAGACCCTGGATAAGGGGTGTCTCCAGCAGAATAAGCATCTATTGGACAATAGTAAAACCGGGAGACATACTTTTGATTAACAGCACAGGGAATCTAATTGCTCCTCGGGGTTACTTCAAAATACGAAGTGGGAAAAGCTCAATAATGAGGTCAGATGCACCCATTGGCAAATGCAATTCTGAATGCATCACTCCAAATGGAAGCATTCCCAATGACAAACCATTTCAAAATGTAAACAGGATCACATATGGGGCCTGTCCCAGATATGTTAAGCAAAACACTCTTAAATTGGCAACAGGGATGCGGAATGTACCAGAGAAACAAACT---'},\n",
       "   {'taxon': 'A_Ushuaia_R127_1998',\n",
       "    'sequence': 'CAAAAACTTCCCGGAAATGACAACAGCACGGCAACGCTGTGCCTGGGACACCATGCAGTGCCAAACGGAACGCTAGTGAAAACAATCACGAATGACCAAATTGAAGTGACTAATGCTACTGAGCTGGTTCAGAGTTCCTCAACAGGTAGAATATGCGACAGTCCTCACCGAATCCTTGATGGAGAAAACTGCACACTGATAGATGCTCTATTGGGAGACCCTCATTGTGATGGCTTCCAAAATAAGGAATGGGACCTTTTTGTTGAACGCAGCAAAGCCTACAGCAACTGTTACCCTTATGATGTGCCGGATTATGCCTCCCTTAGGTCACTAGTTGCCTCATCCGGCACCCTGGAGTTTAACAATGAAAGCTTCAATTGGACTGGAGTCGCTCAGAATGGAACAAGCTCTGCTTGCAAAAGGAGATCTATTAAAAGTTTCTTTAGTAGATTGAATTGGTTGCACCAATTAAAATACAAATATCCAGCACTGAACGTGACTATGCCAAACAATGACAAATTTGACAAATTGTACATTTGGGGGGTTCACCACCCGAGTACGGACAGTGACCAAACCAGCCTATATGCTCAAGCATCAGGGAGAGTCACAGTCTCTACCAAAAGAAGCCAACAAACTGTACTCCCGAATATCGGATCTAGACCCTGGGTAAGGGGTGTCTCCAGCAGAATAAGCATCTATTGGACAATAGTAAAACCGGGAGACATACTTTTGATTAACAGCACAGGGAATCTAATTGCTCCTCGGGGTTACTTCAAAATACGAAGTGGGAAAAGCTCAATAATGAGGTCAGATGCACCCATTGGCAAATGCAATTCTGAATGCATCACTCCAAATGGAAGCATTCCCAATGACAAACCATTTCAAAATGTAAACAGGATCACATATGGGGCCTGTCCCAGATATGTTAAGCAAAACACTCTGAAATTGGCAACAGGGATGCGGAATGTACCAGAGAAACAAACT---'},\n",
       "   {'taxon': 'A_Waikato_12_1998',\n",
       "    'sequence': 'CAAAAACTTCCCGGAAATGACAACAGCACGGCAACGCTGTGCCTGGGACACCATGCAGTGCCAAACGGAACGCTAGTGAAAACAATCACGAATGACCAAATTGAAGTGACTAATGCTACTGAGCTGGTTCAGAGTTCCTCAACAGATAGAATATGCGACAGTCCTCACCAAATCCTTGATGGAGAAAACTGCACACTGATAGATGCTCTATTGGGAGACCCTCATTGTGATGGCTTCCAAAATAAGGAATGGGACCTTTTTGTTGAACGCAGCAAAGCCTACAGCAACTGTTACCCTTATGATGTGCCGGATTATGCCTCCCTTAGGTCACTAGTTGCCTCATCCGGCACCCTGGAGTTTAACAATGAAAGCTTCAATTGGACTGGAGTCGCTCAGAATGGAACAAGCTCTGCTTGCAAAAGGAGATCTATTAAAAGTTTCTTTAGTAGATTGAATTGGTTGCACCAATTAAAATACAAATATCCAGCACTGAACGTGACTATGCCAAACAATGACAAATTTGACAAATTGTACATTTGGGGGGTTCACCACCCGAGTACGGACAGTGACCAAACCAGCCTATATGCTCAAGCATCAGGGAGAGTCACAGTCTCTACCAAAAGAAGCCAACAAACTGTAATCCCGAATATCGGATCTAGACCCTGGGTAAGGGGTGTCTCCAGCAGAATAAGCATCTATTGGACAATAGTAAAACCGGGAGACATACTTTTGATTAACAGCACAGGGAATCTAATTGCTCCTCGGGGTTACTTCAAAATACGAAGTGGGAAAAGCTCAATAATGAGGTCAGATGCACCCATTGGCAAATGCAATTCTGAATGCATCACTCCAAATGGAAGCATTCCCAATGACAAACCATTTCAAAATGTAAACAGGATCACATATGGGGCCTGTCCCAGATATGTTAAGCAAAACACTCTGAAATTGGCAACAGGGATGCGGAATGTACCAGAGAAACAAACTAGA'},\n",
       "   {'taxon': 'A_Czechoslovakia_4_1986',\n",
       "    'sequence': 'CAAAAACTTCCCGGAAATGACAACAGCACAGCAACGCTGTGCCTGGGACATCATGCAGTGCCAAACGGAACGCTAGTGAAAACAATCACGAATGATCAGATTGAAGTGACTAATGCTACTGAGCTGGTTCAGAGTTCCTCAACAGGTAGAATATGCGACAGTCCTCACCGAATCCTTGATGGAAAAAACTGCACACTGATAGATGCTCTATTGGGAGACCCTCATTGTGATGGCTTCCAAAATGAGAAATGGGACCTTTTTATTGAACGCAGCAAAGCTTTCAGCAACTGTTACCCTTATGATGTGCCGGATTATGCCTCCCTTAGGTCACTAGTTGCCTCATCAGGCACCCTGGAGTTTATCAATGAAGGCTTCAATTGGACTGGAGTCACTCAGAGTGGGGGAAGCTATGCTTGCAAAAGGGGATCTGTTAACAGTTTCTTCAGTAGATTGAATTGGTTGTACGAATCAGAATACAAATATCCAGCGCTGAACGTGACTATGCCAAACAATGGCAAATTTGACAAACTGTACATTTGGGGGGTTCACCACCCGATCACGGAAAAAGAACAAACCAACCTATATGTTCGAGCATCAGGGAGAGTCACAGTCTCTACCAAGAGAAGCCAGCAAACTGTAATCCCGAATATCGGGTCTAGACCCTGGGTAAGGGGTCTGTCTAGTAGAATAAGCATCTATTGGACAATAGTAAAACCGGGAGACATACTGTTAATTAATAGCACTGGGAACCTAATTGCTCCTCGGGGTTACTTCAAAATACGCACTGGGAAAAGCTCAATAATGAGGTCAGATGCACCTATTGGCACCTGCAGTTCTGAATGCATCACTCCAAATGGAAGCATTCCCAATGACAAACCCTTTCAAAATGTAAACAAGATCACATATGGGGCATGTCCCAGGTATGTTAAGCAAAACACTCTGAAATTGGCAACAGGGATGCGGAATGTACCAGAGAAACAAACTAGA'},\n",
       "   {'taxon': 'A_Leningrad_360_1986',\n",
       "    'sequence': 'CAAAAACTTCCCGGAAATGACAACAGCACAGCAACGCTGTGCCTGGGACATCATGCAGTGCCAAACGGAACGCTAGTGAAAACAATCACGAATGATCAGATTGAAGTGACTAATGCTACTGAGCTGGTTCAGAGTTCCTCAACAGGTAGAATATGCGACAGTCCTCACCGAATCCTTGATGGAAAAAACTGCACACTGATAGATGCTCTATTGGGAGACCCTCATTGTGATGGCTTCCAAAATGAGAAATGGGACCTTTTTATTGAACGCAGCAAAGCTTTCAGCAACTGTTACCCTTATGATGTGCCGGATTATGCCTCCCTTAGGTCACTAGTTGCCTCATCAGGCACCCTGGAGTTTATCAATGAAGGCTTCAATTGGACTGGAGTCACTCAGAGTGGGGGAAGCTATACTTGTAAAAGGGGATCTGTTAACAGTTTCTTCAGTAGATTGAATTGGTTGTACGAATCAGAATACAAATATCCAGCGCTGAACGTGACTATGCCAAACAATGGCAAATTTGACAAATTGTACATTTGGGGGGTTCACCACCCGAGCACGGAAAAAGAACAAACCAACCTATATGTTCGAGCATCAGGGAGAGTCACAGTCTCTACCAAGAGAAGCCAGCAAACTGTAATCCCGAATATCGGGTCTAGACCATGGGTAAGGGGTCTGTCTAGTAGAATAAGCATCTATTGGACAATAGTAAAACCGGGAGACATACTGTTGATTAATAGCACTGGGAACCTAATTGCTCCTCGGGGTTACTTCAAAATACGCACTGGGAAAAGCTCAATAATGAGGTCAGATGCACCTATTGGCACCTGCAGTTCTGAATGCATCACTCCAAATGGAAGCATTCCCAATGACAAACCCTTTCAAAATGTAAACAAGATCACATATGGGGCATGTCCCAGGTATGTTAAGCAAAACACTCTGAAATTGGCAACAGGGATGCGGAATGTACCAGAGAAACAAACTAGA'},\n",
       "   {'taxon': 'A_Memphis_6_1986',\n",
       "    'sequence': 'CAAAAACTTCCCGGAAATGACAACAGCACAGCAACGCCGTGTCTGGGACATCATGCAGTGCCAAACGGAACGCTAGTAGAAACAATCACGAATGATCAGATTGAAGTGACTAATGCTACTGAGCTGGTTCAGAGTTCCTCAACAGGTAGAATATGCGACAGTCCTCACCGAATCCTTGATGGAAAAAACTGCACACTGATAGATGCTCTATTGGGAGACCCTCATTGTGATGGCTTCCAAAATGAGAAATGGGACCTTTTTATTGAACGCAGCAAAGCTTTCAGCAACTGTTACCCTTATGATGTGCCGGATTATGCCTCCCTTAGGTCACTAGTTGCCTCATCAGGCACCCTGGAGTTTATCAATGAAGGCTTCAATTGGACTGGAGTCACTCAGAGTGGGGGAAGCTATGCTTGCAAAAGGGGATCTGTTAACAGTTTCTTCAGTAGATTGAATTGGTTGTACGAATCAGAATACAAATATCCAGCGCTGAACGTGACTATGCCAAACAATGGCAAATTTGACAAACTGTACATTTGGGGGGTTCACCACCCGAGCACGGAAAAAGAACAAACCAACCTATATGTTCGAGCATCAGGGAGAGTCACAGTCTCTACCAAGAGAAGCCAGCAAACTGTAATCCCGAATATCGGGTCTAGACCCTGGGTAAGGGGTCTGTCCAGTAGAATAAGCATCTATTGGACAATAGTAAAACCGGGAGACATACTGTTGATTAATAGCACTGGGAACCTAATTGCTCCTCGGGGTTACTTCAAAATACGCACTGGGAAAAGCTCAATAATGAGGTCAGATGCACCTATTGGCACCTGCAGTTCTGAATGCATCACTCCAAATGGAAGCATTCCCAATGACAAACCCTTTCAAAATGTAAACAAGATCACATATGGGGCATGTCCCAGGTATGTTAAGCAAAACACTCTGAAATTGGCAACAGGGATGCGGAATGTACCAGAGAAACAAACTAGA'},\n",
       "   {'taxon': 'A_Wellington_4_1985',\n",
       "    'sequence': 'CAAAAACTGCCTGGAAATGACAACAGCACAGCAACGCTGTGCCTGGGACATCATGCAGTGCCAAACGGAACGCTAGTGAAAACAATCACGAATGATCAGATTGAAGTGACTAATGCTACTGAGCTGGTTCAGAGTTCCTCAACAGGTAGAATATGCGACAGTCCTCACCGAATCCTTGATGGAAAAAACTGCACACTGATAGATGCTCTATTGGGAGACCCTCATTGTGATGGCTTCCAAAATGAGAAATGGGACCTTTTTGTTGAACGCAGCAAAGCTTTCAGCAACTGTTACCCTTATGATGTGCCTGATTATGCCTCCCTTAGGTCACTAGTTGCCTCATCAGGCACCCTGGAGTTTATCAATGAAGGCTTCAATTGGACTGGAGTCACTCAGAGTGGGGGAAGCTATGCTTGCAAAAGGGGATCTGTTAACAGTTTCTTCAGTAGATTGAATTGGTTGTACGAATCAGAATACAAATATCCAGCGCTGAACGTGACTATGCCAAACAATGGCAAATTTGACAAATTGTACATTTGGGGGGTTCACCACCCGAGCACGGACAAAGAACAAACCAACCTATATGTTCGAGCATCAGGGAGAGTCACAGTCTCTACCAAGAGAAGCCAGCAAACTGTAATCCCGAATATCGGGTCTAGACCCTGGGTAAGAGGTCTGTCCAGTAGAATAAGCATCTATTGGACAATAGTAAAACCGGGAGACATACTGTTGATTAATAGCACTGGGAACCTAATTGCTCCTCGGGGTTACTTCAAAATACGCACTGGGAAAAGCTCAATAATGAGGTCAGATGCACCTATTGGCACCTGCAGTTCTGAATGCATCACTCCAAATGGAAGCATTCCCAATGACAAACCCTTTCAAAATGTAAACAAGATCACATATGGGGCATGTCCCAGGTATGTTAAGCAAAACACTCTGAAATTGGCAACAGGGATGCGGAATGTACCAGAGAAACAAACTAGA'},\n",
       "   {'taxon': 'A_Tonga_23_1985',\n",
       "    'sequence': 'CAAAAACTTCCCGGAAATGACAACAGCACAGCAACGCTGTGCCTGGGACATCATGCAGTGCCAAACGGAACGCTAGTGAAAACAATCACGAATGATCAGATTGAAGTGACTAATGCTACTGAGCTGGTTCAGAGTTCCTCAATAGGTAGAATATGCGACAGTCCTCACCGAATCCTTGATGGAAAAAACTGCACACTGATAGATGCTCTATTGGGAGACCCTCATTGTGATGGCTTCCAAAATGAGAAATGGGACCTTTTTGTTGAACGCAGCAAAGCTTTCAGCAACTGTTACCCTTATGATGTGCCGGATTATGCCTCCCTTAGGTCACTAGTTGCCTCATCAGGCACCCTGGAGTTTATCAATGAAGGCTTCAATTGGACTGGAGTCACTCAGAGTGGGGGAAGCTCTGCTTGCAAAAGGGGATCTGTTAACAGTTTCTTCAGTAGATTGAATTGGTTGTACAAATCAGAATACAAATATCCAGCGCTGAACGTGACTATGCCAAACAATGGCAAATTTGACAAATTGTACATTTGGGGGGTTCACCACCCGAGCACGGACAAAGAACAAACCAACCTATATGTTCGAGCATCAGGGAGAGTCACAGTCTCTACCAAGAGAAGCCAGCAAACTGTAATCCCGAATATCGGGTCTAGACCCTGGGTAAGAGGTCTGTCTAGTAGAATAAGCATCTATTGGACAATAGTAAAACCTGGAGACATACTGTTGATTAATAGCACTGGGAACCTAATTGCTCCTCGGGGTTACTTCAAAATACGCACTGGGAAAAGCTCAATAATGAGGTCAGATGCACCTATTGGCACCTGCAGTTCTGAATGCATCACTCCAAATGGAAGCATTCCCAATGACAAACCCTTTCAAAATGTAAACAAGATCACATATGGGGCATGTCCCAGGTATGTTAAGCAAAACACTCTGAAATTGGCAACAGGGATGCGGAATGTACCAGAGAAACAAACTAGA'}]},\n",
       " {'id': 'joint',\n",
       "  'type': 'JointDistributionModel',\n",
       "  'distributions': [{'id': 'like',\n",
       "    'type': 'TreeLikelihoodModel',\n",
       "    'tree_model': {'id': 'tree',\n",
       "     'type': 'UnRootedTreeModel',\n",
       "     'newick': '(((((((((((((((((((((((A_Aichi_69_1994:0.761119957483416,((A_Athens_1_1998:1.77960546386231,(((((A_Christchurch_45_1998:0.18382663880472105,A_Waikato_12_1998:0.18382663880472105):0.36080685757901976,(A_Nagasaki_76_1998:0.4683586942800507,A_Ushuaia_R127_1998:0.4683586942800507):0.07627480210369009):0.07665539949443301,(A_Cordoba_V185_1998:0.42013593002764343,A_Tucuman_V425_1998:0.42013593002764343):0.20115296585053039):0.03328825741009933,((((((A_JOHANNESBURG_3_1998:0.06543681392374098,A_Neuquen_V541_1998:0.06543681392374098):0.12559877256022828,A_Seoul_37_1998:0.19103558648396926):0.02851185075593457,A_Switzerland_7729_1998:0.21954743723990383):0.12370209856431102,A_PERTH_24_1998:0.34324953580421486):0.20173113562224637,A_MALMO_1_1998:0.5449806714264612):0.0574910637513778,A_Pusan_68_1998:0.602471735177839):0.05210541811043412):0.16173751115964685,A_Greece_103_1998:0.81631466444792):0.96329079941439):2.807683231679572,A_Shangdong_5_1994:0.5872886955418819):0.1738312619415341):0.8054851777952443,((((A_Argentina_3779_1994:0.3280215863955993,A_Johannesburg_33_1994:0.3280215863955993):0.05633023389252756,A_HongKong_1_1994:0.38435182028812687):0.1225054221114652,A_England_67_1994:0.5068572423995921):0.3153017874290107,A_Pennsylvania_7_1994:0.8221590298286028):0.7444461054500575):0.1117041564039738,(((A_Akita_1_1994:0.6417587798584359,A_Vermont_3_1994:0.6417587798584359):0.05127233466151093,A_Romania_160_1994:0.6930311145199468):0.47541600449847365,A_Santiago_7198_1994:1.1684471190184205):0.5098621726642136):0.047631087415734186,(A_Singapore_7_1994:1.1305477759728984,A_Thailand_75_1994:1.1305477759728984):0.5953926031254699):0.4338339424951094,A_Harbin_15_1992:0.1597743215934777):0.02629920620920867,A_Sapporo_304_1992:0.18607352780268638):0.1937484748838907,(A_Beijing_32_1992:0.23695409632825193,A_Tianjin_33_1992:0.23695409632825193):0.14286790635832514):0.1591978420861624,A_Alaska_9_1992:0.5390198447727395):0.12628662793003453,A_Hawaii_3_1992:0.665306472702774):0.0842046904371454,((A_California_271_1992:0.451897299281085,A_France_1109_1994:2.451897299281085):0.1572740000983215,A_Qingdao_53_1992:0.6091712993794065):0.14033986376051288):1.0777933630502368,A_Perth_1_1992:1.8273045261901562):0.7301151810754547,(((A_Finland_205_1992:0.13077691856428508,A_Mexico_3255_1994:2.130776918564285):0.443510083848059,A_SouthAustralia_36_1992:0.5742870024123441):0.8306358088764121,((A_Indonesia_3946_1992:0.3229462972945232,A_Umea_1_1992:0.3229462972945232):0.137940246693538,(A_Victoria_29_1992:0.38730776979656234,A_Wellington_66_1992:0.38730776979656234):0.07357877419149883):0.944036267300695):1.1524968959768547):2.9089261572998097,(A_Guangdong_9_1987:0.017198347860013286,A_Sichuan_2_1987:0.017198347860013286):0.4491475167054073):0.10465592148998759,(A_Sydney_1_1987:0.4728837583601262,A_Tokyo_1275_1987:0.4728837583601262):0.098118027695282):0.10660804403484114,A_Victoria_7_1987:0.6776098300902493):0.2830481789149868,(A_Colorado_2_1987:0.6970395797457538,((A_Guizhou_1_1987:0.3294708875986849,A_Qingdao_10_1987:0.3294708875986849):0.14581436538279213,(A_LosAngeles_1987:0.2080843644249839,A_Shanghai_11_1987:0.2080843644249839):0.26720088855649315):0.22175432676427675):0.2636184292594823):1.3960105466893005,((A_Czechoslovakia_4_1986:0.7324724768450999,A_Memphis_6_1986:0.7324724768450999):0.23780269841325996,A_Leningrad_360_1986:0.9702751752583598):0.38639338043617677):0.2954618004514806,(A_Tonga_23_1985:0.5359949423414125,A_Wellington_4_1985:0.5359949423414125):0.11613541380460468):1.5799204291316418,A_Texas_12764_1983:0.232050785277659):0.2731286767267669,A_Alaska_8_1984:1.5051794620044259):0.17177455784891293,((A_Caen_1_1984:1.1478076744720962,A_Oita_3_1983:0.1478076744720962):0.48275071680632564,A_Texas_17988_1984:1.6305583912784218):0.04639562857491697):1.2615765324262416,A_Philippines_2_1982:0.9385305522795804):1.615956610302284,((A_Baylor1B_1983:2.65070571597235,A_ChristHospital_231_1982:1.6507057159723502):0.5244230005194801,A_Belgium_2_1981:1.1751287164918303):0.3793584460900341);',\n",
       "     'branch_lengths': {'id': 'tree.blens',\n",
       "      'type': 'TransformedParameter',\n",
       "      'lower': 0.0,\n",
       "      'transform': 'torch.distributions.ExpTransform',\n",
       "      'x': {'id': 'tree.blens.unres',\n",
       "       'type': 'Parameter',\n",
       "       'tensor': -2.3025850929940455,\n",
       "       'full': [135]}},\n",
       "     'taxa': 'taxa'},\n",
       "    'site_model': {'id': 'sitemodel',\n",
       "     'type': 'InvariantSiteModel',\n",
       "     'invariant': {'id': 'sitemodel.pinv',\n",
       "      'type': 'TransformedParameter',\n",
       "      'lower': 0,\n",
       "      'upper': 1,\n",
       "      'transform': 'torch.distributions.SigmoidTransform',\n",
       "      'x': {'id': 'sitemodel.pinv.unres',\n",
       "       'type': 'Parameter',\n",
       "       'tensor': [-2.1972246170043945]}}},\n",
       "    'site_pattern': {'id': 'patterns',\n",
       "     'type': 'SitePattern',\n",
       "     'alignment': 'alignment'},\n",
       "    'substitution_model': {'id': 'substmodel',\n",
       "     'type': 'GTR',\n",
       "     'rates': {'id': 'substmodel.rates',\n",
       "      'type': 'TransformedParameter',\n",
       "      'simplex': True,\n",
       "      'transform': 'torch.distributions.StickBreakingTransform',\n",
       "      'x': {'id': 'substmodel.rates.unres',\n",
       "       'type': 'Parameter',\n",
       "       'tensor': 0.0,\n",
       "       'full': [5]}},\n",
       "     'frequencies': {'id': 'substmodel.frequencies',\n",
       "      'type': 'TransformedParameter',\n",
       "      'simplex': True,\n",
       "      'transform': 'torch.distributions.StickBreakingTransform',\n",
       "      'x': {'id': 'substmodel.frequencies.unres',\n",
       "       'type': 'Parameter',\n",
       "       'tensor': [0.0, 0.0, 0.0]}}}},\n",
       "   {'id': 'tree.blens.prior',\n",
       "    'type': 'Distribution',\n",
       "    'distribution': 'torch.distributions.Exponential',\n",
       "    'x': 'tree.blens',\n",
       "    'parameters': {'rate': 10.0}},\n",
       "   {'id': 'sitemodel.pinv.prior',\n",
       "    'type': 'Distribution',\n",
       "    'distribution': 'torch.distributions.Exponential',\n",
       "    'x': 'sitemodel.pinv',\n",
       "    'parameters': {'rate': 2.0}},\n",
       "   {'id': 'substmodel.frequencies.prior',\n",
       "    'type': 'Distribution',\n",
       "    'distribution': 'torch.distributions.Dirichlet',\n",
       "    'x': 'substmodel.frequencies',\n",
       "    'parameters': {'concentration': [1.0, 1.0, 1.0, 1.0]}},\n",
       "   {'id': 'substmodel.rates.prior',\n",
       "    'type': 'Distribution',\n",
       "    'distribution': 'torch.distributions.Dirichlet',\n",
       "    'x': 'substmodel.rates',\n",
       "    'parameters': {'concentration': [1.0, 1.0, 1.0, 1.0, 1.0, 1.0]}},\n",
       "   'tree.blens',\n",
       "   'sitemodel.pinv',\n",
       "   'substmodel.rates',\n",
       "   'substmodel.frequencies']},\n",
       " {'id': 'variational',\n",
       "  'type': 'JointDistributionModel',\n",
       "  'distributions': [{'id': 'var.Normal.tree.blens',\n",
       "    'type': 'Distribution',\n",
       "    'distribution': 'torch.distributions.Normal',\n",
       "    'x': 'tree.blens.unres',\n",
       "    'parameters': {'loc': {'id': 'var.Normal.tree.blens.unres.loc',\n",
       "      'type': 'Parameter',\n",
       "      'full_like': 'tree.blens.unres',\n",
       "      'tensor': -2.3502401828962083},\n",
       "     'scale': {'id': 'var.Normal.tree.blens.unres.scale',\n",
       "      'type': 'TransformedParameter',\n",
       "      'transform': 'torch.distributions.ExpTransform',\n",
       "      'x': {'id': 'var.Normal.tree.blens.unres.scale.unres',\n",
       "       'type': 'Parameter',\n",
       "       'full_like': 'tree.blens.unres',\n",
       "       'tensor': -1.1753093277566469}}}},\n",
       "   {'id': 'var.Normal.sitemodel.pinv.unres',\n",
       "    'type': 'Distribution',\n",
       "    'distribution': 'torch.distributions.Normal',\n",
       "    'x': 'sitemodel.pinv.unres',\n",
       "    'parameters': {'loc': {'id': 'var.Normal.sitemodel.pinv.unres.loc',\n",
       "      'type': 'Parameter',\n",
       "      'tensor': [-2.1972246170043945]},\n",
       "     'scale': {'id': 'var.Normal.sitemodel.pinv.unres.scale',\n",
       "      'type': 'TransformedParameter',\n",
       "      'transform': 'torch.distributions.ExpTransform',\n",
       "      'x': {'id': 'var.Normal.sitemodel.pinv.unres.scale.unres',\n",
       "       'type': 'Parameter',\n",
       "       'full_like': 'sitemodel.pinv.unres',\n",
       "       'tensor': -1.89712}}}},\n",
       "   {'id': 'var.Normal.substmodel.rates',\n",
       "    'type': 'Distribution',\n",
       "    'distribution': 'torch.distributions.Normal',\n",
       "    'x': 'substmodel.rates.unres',\n",
       "    'parameters': {'loc': {'id': 'var.Normal.substmodel.rates.unres.loc',\n",
       "      'type': 'Parameter',\n",
       "      'full_like': 'substmodel.rates.unres',\n",
       "      'tensor': 0.5},\n",
       "     'scale': {'id': 'var.Normal.substmodel.rates.unres.scale',\n",
       "      'type': 'TransformedParameter',\n",
       "      'transform': 'torch.distributions.ExpTransform',\n",
       "      'x': {'id': 'var.Normal.substmodel.rates.unres.scale.unres',\n",
       "       'type': 'Parameter',\n",
       "       'full_like': 'substmodel.rates.unres',\n",
       "       'tensor': -1.89712}}}},\n",
       "   {'id': 'var.Normal.substmodel.frequencies',\n",
       "    'type': 'Distribution',\n",
       "    'distribution': 'torch.distributions.Normal',\n",
       "    'x': 'substmodel.frequencies.unres',\n",
       "    'parameters': {'loc': {'id': 'var.Normal.substmodel.frequencies.unres.loc',\n",
       "      'type': 'Parameter',\n",
       "      'full_like': 'substmodel.frequencies.unres',\n",
       "      'tensor': 0.5},\n",
       "     'scale': {'id': 'var.Normal.substmodel.frequencies.unres.scale',\n",
       "      'type': 'TransformedParameter',\n",
       "      'transform': 'torch.distributions.ExpTransform',\n",
       "      'x': {'id': 'var.Normal.substmodel.frequencies.unres.scale.unres',\n",
       "       'type': 'Parameter',\n",
       "       'full_like': 'substmodel.frequencies.unres',\n",
       "       'tensor': -1.89712}}}}]},\n",
       " {'id': 'advi',\n",
       "  'type': 'Optimizer',\n",
       "  'algorithm': 'torch.optim.Adam',\n",
       "  'options': {'lr': 0.1},\n",
       "  'maximize': True,\n",
       "  'checkpoint': 'fluA_checkpoint.json',\n",
       "  'iterations': 100000,\n",
       "  'loss': {'id': 'elbo',\n",
       "   'type': 'ELBO',\n",
       "   'samples': 1,\n",
       "   'joint': 'joint',\n",
       "   'variational': 'variational'},\n",
       "  'parameters': ['var.Normal.tree.blens.unres.loc',\n",
       "   'var.Normal.tree.blens.unres.scale.unres',\n",
       "   'var.Normal.sitemodel.pinv.unres.loc',\n",
       "   'var.Normal.sitemodel.pinv.unres.scale.unres',\n",
       "   'var.Normal.substmodel.rates.unres.loc',\n",
       "   'var.Normal.substmodel.rates.unres.scale.unres',\n",
       "   'var.Normal.substmodel.frequencies.unres.loc',\n",
       "   'var.Normal.substmodel.frequencies.unres.scale.unres'],\n",
       "  'convergence': {'type': 'StanVariationalConvergence',\n",
       "   'max_iterations': 100000,\n",
       "   'loss': 'elbo',\n",
       "   'every': 100,\n",
       "   'samples': 100,\n",
       "   'tol_rel_obj': 0.01},\n",
       "  'scheduler': {'type': 'torchtree.optim.Scheduler',\n",
       "   'scheduler': 'torch.optim.lr_scheduler.LambdaLR',\n",
       "   'lr_lambda': 'lambda epoch: 1.0 / (epoch + 1)**0.5'}}]"
      ]
     },
     "execution_count": 36,
     "metadata": {},
     "output_type": "execute_result"
    }
   ],
   "source": [
    "json_list"
   ]
  },
  {
   "cell_type": "markdown",
   "id": "e242004a",
   "metadata": {},
   "source": [
    "### 2. Sampler"
   ]
  },
  {
   "cell_type": "code",
   "execution_count": 37,
   "id": "294502f2",
   "metadata": {
    "scrolled": true
   },
   "outputs": [
    {
     "data": {
      "text/plain": [
       "{'id': 'sampler',\n",
       " 'type': 'Sampler',\n",
       " 'model': 'variational',\n",
       " 'samples': 1000,\n",
       " 'loggers': [{'id': 'logger',\n",
       "   'type': 'Logger',\n",
       "   'file_name': 'fluA_samples.csv',\n",
       "   'parameters': ['joint',\n",
       "    'like',\n",
       "    'variational',\n",
       "    'tree.blens',\n",
       "    'substmodel.rates',\n",
       "    'substmodel.frequencies',\n",
       "    'sitemodel.pinv'],\n",
       "   'delimiter': '\\t'},\n",
       "  {'id': 'tree.logger',\n",
       "   'type': 'TreeLogger',\n",
       "   'file_name': 'fluA_samples.trees',\n",
       "   'tree_model': 'tree'}]}"
      ]
     },
     "execution_count": 37,
     "metadata": {},
     "output_type": "execute_result"
    }
   ],
   "source": [
    "parameters = [\n",
    "    'tree.blens', \n",
    "    \"substmodel.rates\", \n",
    "    \"substmodel.frequencies\", \n",
    "    \"sitemodel.pinv\"\n",
    "]\n",
    "\n",
    "samples = 1000\n",
    "\n",
    "sampler = {\n",
    "    \"id\": 'sampler',\n",
    "    \"type\": \"Sampler\",\n",
    "    \"model\": 'variational',\n",
    "    \"samples\": samples,\n",
    "    \"loggers\": [\n",
    "        {\n",
    "            \"id\": \"logger\",\n",
    "            \"type\": \"Logger\",\n",
    "            \"file_name\": file_sample_name,\n",
    "            \"parameters\": ['joint', 'like', 'variational'] + parameters,\n",
    "            \"delimiter\": \"\\t\",\n",
    "        },\n",
    "        {\n",
    "            \"id\": \"tree.logger\",\n",
    "            \"type\": \"TreeLogger\",\n",
    "            \"file_name\": tree_file_name,\n",
    "            \"tree_model\": \"tree\",\n",
    "        },\n",
    "    ],\n",
    "}\n",
    "\n",
    "sampler"
   ]
  },
  {
   "cell_type": "code",
   "execution_count": 38,
   "id": "5d2028c4",
   "metadata": {},
   "outputs": [],
   "source": [
    "json_list.append(sampler)"
   ]
  },
  {
   "cell_type": "markdown",
   "id": "c9b8e833",
   "metadata": {},
   "source": [
    "### 3. Create json file"
   ]
  },
  {
   "cell_type": "code",
   "execution_count": 39,
   "id": "b0bd1da1",
   "metadata": {},
   "outputs": [],
   "source": [
    "# create json file\n",
    "\n",
    "with open(json_outfile, \"w\") as fh:\n",
    "    dump(json_list, fh, indent=2)"
   ]
  },
  {
   "cell_type": "markdown",
   "id": "1b480e51",
   "metadata": {},
   "source": [
    "### 4. Run torchtree"
   ]
  },
  {
   "cell_type": "code",
   "execution_count": 40,
   "id": "62fd19e4",
   "metadata": {},
   "outputs": [
    {
     "name": "stdout",
     "output_type": "stream",
     "text": [
      "SEED: 2582957386847507338\n",
      "dtype: torch.float64\n",
      "\n",
      "  iter             ELBO   delta_ELBO_mean   delta_ELBO_med   notes \n",
      "     0        -8189.801             1.000            1.000\n",
      "   100        -5312.984             0.771            0.771\n",
      "   200        -4998.764             0.535            0.541\n",
      "   300        -4852.789             0.409            0.302\n",
      "   400        -4766.674             0.330            0.063\n",
      "   500        -4718.430             0.277            0.046\n",
      "   600        -4683.129             0.239            0.030\n",
      "   700        -4659.274             0.209            0.024\n",
      "   800        -4642.069             0.187            0.018\n",
      "   900        -4629.355             0.168            0.014\n",
      "  1000        -4619.499             0.153            0.010\n",
      "  1100        -4610.929             0.140            0.009   MEDIAN ELBO CONVERGED\n"
     ]
    }
   ],
   "source": [
    "# torchtree should  be installed in the environment where jupyter is running\n",
    "\n",
    "!torchtree  $json_outfile"
   ]
  }
 ],
 "metadata": {
  "kernelspec": {
   "display_name": "t111",
   "language": "python",
   "name": "t111"
  },
  "language_info": {
   "codemirror_mode": {
    "name": "ipython",
    "version": 3
   },
   "file_extension": ".py",
   "mimetype": "text/x-python",
   "name": "python",
   "nbconvert_exporter": "python",
   "pygments_lexer": "ipython3",
   "version": "3.9.12"
  }
 },
 "nbformat": 4,
 "nbformat_minor": 5
}
